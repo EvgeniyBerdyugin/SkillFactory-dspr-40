{
 "cells": [
  {
   "cell_type": "code",
   "execution_count": 9,
   "metadata": {},
   "outputs": [],
   "source": [
    "import pandas as pd\n",
    "import geopy.distance\n",
    "import matplotlib.pyplot as plt\n",
    "import numpy as np\n",
    "from datetime import datetime"
   ]
  },
  {
   "cell_type": "code",
   "execution_count": 10,
   "metadata": {},
   "outputs": [],
   "source": [
    "data = pd.read_csv('Anapa_flights_winter_2017.csv')"
   ]
  },
  {
   "cell_type": "code",
   "execution_count": 11,
   "metadata": {
    "scrolled": true
   },
   "outputs": [
    {
     "data": {
      "text/html": [
       "<div>\n",
       "<style scoped>\n",
       "    .dataframe tbody tr th:only-of-type {\n",
       "        vertical-align: middle;\n",
       "    }\n",
       "\n",
       "    .dataframe tbody tr th {\n",
       "        vertical-align: top;\n",
       "    }\n",
       "\n",
       "    .dataframe thead th {\n",
       "        text-align: right;\n",
       "    }\n",
       "</style>\n",
       "<table border=\"1\" class=\"dataframe\">\n",
       "  <thead>\n",
       "    <tr style=\"text-align: right;\">\n",
       "      <th></th>\n",
       "      <th>flight_id</th>\n",
       "      <th>econ_sold</th>\n",
       "      <th>amount_sum_econ</th>\n",
       "      <th>bus_sold</th>\n",
       "      <th>amount_sum_bus</th>\n",
       "      <th>total_tickets_sold</th>\n",
       "      <th>total_amount</th>\n",
       "      <th>scheduled_departure</th>\n",
       "      <th>scheduled_arrival</th>\n",
       "      <th>scheduled_time_flight</th>\n",
       "      <th>...</th>\n",
       "      <th>bus_seats</th>\n",
       "      <th>total_seats</th>\n",
       "      <th>range</th>\n",
       "      <th>fly_cost</th>\n",
       "      <th>flight_cost</th>\n",
       "      <th>occup_econ</th>\n",
       "      <th>occup_bus</th>\n",
       "      <th>occup_total</th>\n",
       "      <th>profit</th>\n",
       "      <th>profitability</th>\n",
       "    </tr>\n",
       "  </thead>\n",
       "  <tbody>\n",
       "    <tr>\n",
       "      <th>0</th>\n",
       "      <td>136250</td>\n",
       "      <td>91.0</td>\n",
       "      <td>1115000.0</td>\n",
       "      <td>8.0</td>\n",
       "      <td>292800.0</td>\n",
       "      <td>99.0</td>\n",
       "      <td>1407800.0</td>\n",
       "      <td>2017-02-08T10:05:00Z</td>\n",
       "      <td>2017-02-08T11:45:00Z</td>\n",
       "      <td>100.0</td>\n",
       "      <td>...</td>\n",
       "      <td>12</td>\n",
       "      <td>130</td>\n",
       "      <td>4200</td>\n",
       "      <td>4333</td>\n",
       "      <td>437633.0</td>\n",
       "      <td>77.118644</td>\n",
       "      <td>66.666667</td>\n",
       "      <td>76.153846</td>\n",
       "      <td>970167.0</td>\n",
       "      <td>68.913695</td>\n",
       "    </tr>\n",
       "    <tr>\n",
       "      <th>1</th>\n",
       "      <td>136464</td>\n",
       "      <td>93.0</td>\n",
       "      <td>1141800.0</td>\n",
       "      <td>7.0</td>\n",
       "      <td>256200.0</td>\n",
       "      <td>100.0</td>\n",
       "      <td>1398000.0</td>\n",
       "      <td>2017-01-09T10:05:00Z</td>\n",
       "      <td>2017-01-09T11:45:00Z</td>\n",
       "      <td>100.0</td>\n",
       "      <td>...</td>\n",
       "      <td>12</td>\n",
       "      <td>130</td>\n",
       "      <td>4200</td>\n",
       "      <td>4333</td>\n",
       "      <td>433300.0</td>\n",
       "      <td>78.813559</td>\n",
       "      <td>58.333333</td>\n",
       "      <td>76.923077</td>\n",
       "      <td>964700.0</td>\n",
       "      <td>69.005722</td>\n",
       "    </tr>\n",
       "    <tr>\n",
       "      <th>2</th>\n",
       "      <td>136122</td>\n",
       "      <td>87.0</td>\n",
       "      <td>1065000.0</td>\n",
       "      <td>10.0</td>\n",
       "      <td>366000.0</td>\n",
       "      <td>97.0</td>\n",
       "      <td>1431000.0</td>\n",
       "      <td>2017-01-08T10:05:00Z</td>\n",
       "      <td>2017-01-08T11:45:00Z</td>\n",
       "      <td>100.0</td>\n",
       "      <td>...</td>\n",
       "      <td>12</td>\n",
       "      <td>130</td>\n",
       "      <td>4200</td>\n",
       "      <td>4333</td>\n",
       "      <td>433300.0</td>\n",
       "      <td>73.728814</td>\n",
       "      <td>83.333333</td>\n",
       "      <td>74.615385</td>\n",
       "      <td>997700.0</td>\n",
       "      <td>69.720475</td>\n",
       "    </tr>\n",
       "    <tr>\n",
       "      <th>3</th>\n",
       "      <td>136178</td>\n",
       "      <td>90.0</td>\n",
       "      <td>1105200.0</td>\n",
       "      <td>9.0</td>\n",
       "      <td>329400.0</td>\n",
       "      <td>99.0</td>\n",
       "      <td>1434600.0</td>\n",
       "      <td>2017-01-29T10:05:00Z</td>\n",
       "      <td>2017-01-29T11:45:00Z</td>\n",
       "      <td>100.0</td>\n",
       "      <td>...</td>\n",
       "      <td>12</td>\n",
       "      <td>130</td>\n",
       "      <td>4200</td>\n",
       "      <td>4333</td>\n",
       "      <td>428967.0</td>\n",
       "      <td>76.271186</td>\n",
       "      <td>75.000000</td>\n",
       "      <td>76.153846</td>\n",
       "      <td>1005633.0</td>\n",
       "      <td>70.098494</td>\n",
       "    </tr>\n",
       "    <tr>\n",
       "      <th>4</th>\n",
       "      <td>136360</td>\n",
       "      <td>86.0</td>\n",
       "      <td>1052800.0</td>\n",
       "      <td>11.0</td>\n",
       "      <td>402600.0</td>\n",
       "      <td>97.0</td>\n",
       "      <td>1455400.0</td>\n",
       "      <td>2017-02-05T10:05:00Z</td>\n",
       "      <td>2017-02-05T11:45:00Z</td>\n",
       "      <td>100.0</td>\n",
       "      <td>...</td>\n",
       "      <td>12</td>\n",
       "      <td>130</td>\n",
       "      <td>4200</td>\n",
       "      <td>4333</td>\n",
       "      <td>433300.0</td>\n",
       "      <td>72.881356</td>\n",
       "      <td>91.666667</td>\n",
       "      <td>74.615385</td>\n",
       "      <td>1022100.0</td>\n",
       "      <td>70.228116</td>\n",
       "    </tr>\n",
       "  </tbody>\n",
       "</table>\n",
       "<p>5 rows × 31 columns</p>\n",
       "</div>"
      ],
      "text/plain": [
       "   flight_id  econ_sold  amount_sum_econ  bus_sold  amount_sum_bus  \\\n",
       "0     136250       91.0        1115000.0       8.0        292800.0   \n",
       "1     136464       93.0        1141800.0       7.0        256200.0   \n",
       "2     136122       87.0        1065000.0      10.0        366000.0   \n",
       "3     136178       90.0        1105200.0       9.0        329400.0   \n",
       "4     136360       86.0        1052800.0      11.0        402600.0   \n",
       "\n",
       "   total_tickets_sold  total_amount   scheduled_departure  \\\n",
       "0                99.0     1407800.0  2017-02-08T10:05:00Z   \n",
       "1               100.0     1398000.0  2017-01-09T10:05:00Z   \n",
       "2                97.0     1431000.0  2017-01-08T10:05:00Z   \n",
       "3                99.0     1434600.0  2017-01-29T10:05:00Z   \n",
       "4                97.0     1455400.0  2017-02-05T10:05:00Z   \n",
       "\n",
       "      scheduled_arrival  scheduled_time_flight  ... bus_seats total_seats  \\\n",
       "0  2017-02-08T11:45:00Z                  100.0  ...        12         130   \n",
       "1  2017-01-09T11:45:00Z                  100.0  ...        12         130   \n",
       "2  2017-01-08T11:45:00Z                  100.0  ...        12         130   \n",
       "3  2017-01-29T11:45:00Z                  100.0  ...        12         130   \n",
       "4  2017-02-05T11:45:00Z                  100.0  ...        12         130   \n",
       "\n",
       "   range fly_cost  flight_cost  occup_econ  occup_bus  occup_total     profit  \\\n",
       "0   4200     4333     437633.0   77.118644  66.666667    76.153846   970167.0   \n",
       "1   4200     4333     433300.0   78.813559  58.333333    76.923077   964700.0   \n",
       "2   4200     4333     433300.0   73.728814  83.333333    74.615385   997700.0   \n",
       "3   4200     4333     428967.0   76.271186  75.000000    76.153846  1005633.0   \n",
       "4   4200     4333     433300.0   72.881356  91.666667    74.615385  1022100.0   \n",
       "\n",
       "  profitability  \n",
       "0     68.913695  \n",
       "1     69.005722  \n",
       "2     69.720475  \n",
       "3     70.098494  \n",
       "4     70.228116  \n",
       "\n",
       "[5 rows x 31 columns]"
      ]
     },
     "execution_count": 11,
     "metadata": {},
     "output_type": "execute_result"
    }
   ],
   "source": [
    "data.head()"
   ]
  },
  {
   "cell_type": "code",
   "execution_count": 12,
   "metadata": {
    "scrolled": true
   },
   "outputs": [
    {
     "name": "stdout",
     "output_type": "stream",
     "text": [
      "<class 'pandas.core.frame.DataFrame'>\n",
      "RangeIndex: 127 entries, 0 to 126\n",
      "Data columns (total 31 columns):\n",
      " #   Column                 Non-Null Count  Dtype  \n",
      "---  ------                 --------------  -----  \n",
      " 0   flight_id              127 non-null    int64  \n",
      " 1   econ_sold              118 non-null    float64\n",
      " 2   amount_sum_econ        118 non-null    float64\n",
      " 3   bus_sold               118 non-null    float64\n",
      " 4   amount_sum_bus         118 non-null    float64\n",
      " 5   total_tickets_sold     118 non-null    float64\n",
      " 6   total_amount           118 non-null    float64\n",
      " 7   scheduled_departure    127 non-null    object \n",
      " 8   scheduled_arrival      127 non-null    object \n",
      " 9   scheduled_time_flight  127 non-null    float64\n",
      " 10  actual_departure       127 non-null    object \n",
      " 11  actual_arrival         127 non-null    object \n",
      " 12  actual_time_flight     127 non-null    float64\n",
      " 13  departure_city         127 non-null    object \n",
      " 14  departure_latitude     127 non-null    float64\n",
      " 15  departure_longitude    127 non-null    float64\n",
      " 16  arrival_cit            127 non-null    object \n",
      " 17  arrival_latitude       127 non-null    float64\n",
      " 18  arrival_longitude      127 non-null    float64\n",
      " 19  model                  127 non-null    object \n",
      " 20  econ_seats             127 non-null    int64  \n",
      " 21  bus_seats              127 non-null    int64  \n",
      " 22  total_seats            127 non-null    int64  \n",
      " 23  range                  127 non-null    int64  \n",
      " 24  fly_cost               127 non-null    int64  \n",
      " 25  flight_cost            127 non-null    float64\n",
      " 26  occup_econ             118 non-null    float64\n",
      " 27  occup_bus              118 non-null    float64\n",
      " 28  occup_total            118 non-null    float64\n",
      " 29  profit                 118 non-null    float64\n",
      " 30  profitability          118 non-null    float64\n",
      "dtypes: float64(18), int64(6), object(7)\n",
      "memory usage: 30.9+ KB\n"
     ]
    }
   ],
   "source": [
    "data.info()"
   ]
  },
  {
   "cell_type": "markdown",
   "metadata": {},
   "source": [
    "## В данных по билетам есть пропуски"
   ]
  },
  {
   "cell_type": "code",
   "execution_count": 13,
   "metadata": {
    "scrolled": true
   },
   "outputs": [
    {
     "data": {
      "text/html": [
       "<div>\n",
       "<style scoped>\n",
       "    .dataframe tbody tr th:only-of-type {\n",
       "        vertical-align: middle;\n",
       "    }\n",
       "\n",
       "    .dataframe tbody tr th {\n",
       "        vertical-align: top;\n",
       "    }\n",
       "\n",
       "    .dataframe thead th {\n",
       "        text-align: right;\n",
       "    }\n",
       "</style>\n",
       "<table border=\"1\" class=\"dataframe\">\n",
       "  <thead>\n",
       "    <tr style=\"text-align: right;\">\n",
       "      <th></th>\n",
       "      <th>flight_id</th>\n",
       "      <th>econ_sold</th>\n",
       "      <th>amount_sum_econ</th>\n",
       "      <th>bus_sold</th>\n",
       "      <th>amount_sum_bus</th>\n",
       "      <th>total_tickets_sold</th>\n",
       "      <th>total_amount</th>\n",
       "      <th>scheduled_time_flight</th>\n",
       "      <th>actual_time_flight</th>\n",
       "      <th>departure_latitude</th>\n",
       "      <th>...</th>\n",
       "      <th>bus_seats</th>\n",
       "      <th>total_seats</th>\n",
       "      <th>range</th>\n",
       "      <th>fly_cost</th>\n",
       "      <th>flight_cost</th>\n",
       "      <th>occup_econ</th>\n",
       "      <th>occup_bus</th>\n",
       "      <th>occup_total</th>\n",
       "      <th>profit</th>\n",
       "      <th>profitability</th>\n",
       "    </tr>\n",
       "  </thead>\n",
       "  <tbody>\n",
       "    <tr>\n",
       "      <th>count</th>\n",
       "      <td>127.000000</td>\n",
       "      <td>118.000000</td>\n",
       "      <td>1.180000e+02</td>\n",
       "      <td>118.000000</td>\n",
       "      <td>118.000000</td>\n",
       "      <td>118.000000</td>\n",
       "      <td>1.180000e+02</td>\n",
       "      <td>127.000000</td>\n",
       "      <td>127.000000</td>\n",
       "      <td>1.270000e+02</td>\n",
       "      <td>...</td>\n",
       "      <td>127.0</td>\n",
       "      <td>127.000000</td>\n",
       "      <td>127.000000</td>\n",
       "      <td>127.000000</td>\n",
       "      <td>1.270000e+02</td>\n",
       "      <td>118.000000</td>\n",
       "      <td>118.000000</td>\n",
       "      <td>118.000000</td>\n",
       "      <td>1.180000e+02</td>\n",
       "      <td>118.000000</td>\n",
       "    </tr>\n",
       "    <tr>\n",
       "      <th>mean</th>\n",
       "      <td>136533.574803</td>\n",
       "      <td>90.864407</td>\n",
       "      <td>8.796102e+05</td>\n",
       "      <td>10.788136</td>\n",
       "      <td>296895.762712</td>\n",
       "      <td>101.652542</td>\n",
       "      <td>1.176506e+06</td>\n",
       "      <td>91.299213</td>\n",
       "      <td>91.377953</td>\n",
       "      <td>4.500210e+01</td>\n",
       "      <td>...</td>\n",
       "      <td>12.0</td>\n",
       "      <td>114.669291</td>\n",
       "      <td>3642.519685</td>\n",
       "      <td>3636.149606</td>\n",
       "      <td>3.610391e+05</td>\n",
       "      <td>90.019264</td>\n",
       "      <td>89.901130</td>\n",
       "      <td>89.995027</td>\n",
       "      <td>8.892781e+05</td>\n",
       "      <td>76.666486</td>\n",
       "    </tr>\n",
       "    <tr>\n",
       "      <th>std</th>\n",
       "      <td>252.498327</td>\n",
       "      <td>14.028003</td>\n",
       "      <td>3.877180e+05</td>\n",
       "      <td>1.395057</td>\n",
       "      <td>96815.426116</td>\n",
       "      <td>14.295643</td>\n",
       "      <td>4.794251e+05</td>\n",
       "      <td>64.000907</td>\n",
       "      <td>64.377474</td>\n",
       "      <td>5.706854e-14</td>\n",
       "      <td>...</td>\n",
       "      <td>0.0</td>\n",
       "      <td>16.523699</td>\n",
       "      <td>600.861773</td>\n",
       "      <td>751.077217</td>\n",
       "      <td>3.030071e+05</td>\n",
       "      <td>8.202283</td>\n",
       "      <td>11.625471</td>\n",
       "      <td>8.170469</td>\n",
       "      <td>3.386720e+05</td>\n",
       "      <td>3.840990</td>\n",
       "    </tr>\n",
       "    <tr>\n",
       "      <th>min</th>\n",
       "      <td>136119.000000</td>\n",
       "      <td>54.000000</td>\n",
       "      <td>3.420000e+05</td>\n",
       "      <td>6.000000</td>\n",
       "      <td>113400.000000</td>\n",
       "      <td>64.000000</td>\n",
       "      <td>5.310000e+05</td>\n",
       "      <td>50.000000</td>\n",
       "      <td>49.000000</td>\n",
       "      <td>4.500210e+01</td>\n",
       "      <td>...</td>\n",
       "      <td>12.0</td>\n",
       "      <td>97.000000</td>\n",
       "      <td>3000.000000</td>\n",
       "      <td>2833.000000</td>\n",
       "      <td>1.388170e+05</td>\n",
       "      <td>63.529412</td>\n",
       "      <td>50.000000</td>\n",
       "      <td>65.979381</td>\n",
       "      <td>3.893500e+05</td>\n",
       "      <td>68.913695</td>\n",
       "    </tr>\n",
       "    <tr>\n",
       "      <th>25%</th>\n",
       "      <td>136313.000000</td>\n",
       "      <td>83.000000</td>\n",
       "      <td>5.259000e+05</td>\n",
       "      <td>10.000000</td>\n",
       "      <td>226800.000000</td>\n",
       "      <td>95.000000</td>\n",
       "      <td>7.464000e+05</td>\n",
       "      <td>50.000000</td>\n",
       "      <td>50.000000</td>\n",
       "      <td>4.500210e+01</td>\n",
       "      <td>...</td>\n",
       "      <td>12.0</td>\n",
       "      <td>97.000000</td>\n",
       "      <td>3000.000000</td>\n",
       "      <td>2833.000000</td>\n",
       "      <td>1.416500e+05</td>\n",
       "      <td>83.621635</td>\n",
       "      <td>83.333333</td>\n",
       "      <td>83.505155</td>\n",
       "      <td>6.047500e+05</td>\n",
       "      <td>73.492183</td>\n",
       "    </tr>\n",
       "    <tr>\n",
       "      <th>50%</th>\n",
       "      <td>136540.000000</td>\n",
       "      <td>85.500000</td>\n",
       "      <td>7.956500e+05</td>\n",
       "      <td>11.000000</td>\n",
       "      <td>226800.000000</td>\n",
       "      <td>97.000000</td>\n",
       "      <td>1.081650e+06</td>\n",
       "      <td>100.000000</td>\n",
       "      <td>99.000000</td>\n",
       "      <td>4.500210e+01</td>\n",
       "      <td>...</td>\n",
       "      <td>12.0</td>\n",
       "      <td>130.000000</td>\n",
       "      <td>4200.000000</td>\n",
       "      <td>4333.000000</td>\n",
       "      <td>4.289670e+05</td>\n",
       "      <td>90.588235</td>\n",
       "      <td>91.666667</td>\n",
       "      <td>89.845361</td>\n",
       "      <td>7.955915e+05</td>\n",
       "      <td>76.702976</td>\n",
       "    </tr>\n",
       "    <tr>\n",
       "      <th>75%</th>\n",
       "      <td>136757.500000</td>\n",
       "      <td>101.750000</td>\n",
       "      <td>1.246750e+06</td>\n",
       "      <td>12.000000</td>\n",
       "      <td>402600.000000</td>\n",
       "      <td>111.750000</td>\n",
       "      <td>1.625850e+06</td>\n",
       "      <td>100.000000</td>\n",
       "      <td>100.000000</td>\n",
       "      <td>4.500210e+01</td>\n",
       "      <td>...</td>\n",
       "      <td>12.0</td>\n",
       "      <td>130.000000</td>\n",
       "      <td>4200.000000</td>\n",
       "      <td>4333.000000</td>\n",
       "      <td>4.333000e+05</td>\n",
       "      <td>98.823529</td>\n",
       "      <td>100.000000</td>\n",
       "      <td>98.969072</td>\n",
       "      <td>1.196883e+06</td>\n",
       "      <td>80.938197</td>\n",
       "    </tr>\n",
       "    <tr>\n",
       "      <th>max</th>\n",
       "      <td>136956.000000</td>\n",
       "      <td>118.000000</td>\n",
       "      <td>1.446800e+06</td>\n",
       "      <td>12.000000</td>\n",
       "      <td>439200.000000</td>\n",
       "      <td>130.000000</td>\n",
       "      <td>1.886000e+06</td>\n",
       "      <td>305.000000</td>\n",
       "      <td>312.000000</td>\n",
       "      <td>4.500210e+01</td>\n",
       "      <td>...</td>\n",
       "      <td>12.0</td>\n",
       "      <td>130.000000</td>\n",
       "      <td>4200.000000</td>\n",
       "      <td>4333.000000</td>\n",
       "      <td>1.351896e+06</td>\n",
       "      <td>100.000000</td>\n",
       "      <td>100.000000</td>\n",
       "      <td>100.000000</td>\n",
       "      <td>1.452700e+06</td>\n",
       "      <td>81.861100</td>\n",
       "    </tr>\n",
       "  </tbody>\n",
       "</table>\n",
       "<p>8 rows × 24 columns</p>\n",
       "</div>"
      ],
      "text/plain": [
       "           flight_id   econ_sold  amount_sum_econ    bus_sold  amount_sum_bus  \\\n",
       "count     127.000000  118.000000     1.180000e+02  118.000000      118.000000   \n",
       "mean   136533.574803   90.864407     8.796102e+05   10.788136   296895.762712   \n",
       "std       252.498327   14.028003     3.877180e+05    1.395057    96815.426116   \n",
       "min    136119.000000   54.000000     3.420000e+05    6.000000   113400.000000   \n",
       "25%    136313.000000   83.000000     5.259000e+05   10.000000   226800.000000   \n",
       "50%    136540.000000   85.500000     7.956500e+05   11.000000   226800.000000   \n",
       "75%    136757.500000  101.750000     1.246750e+06   12.000000   402600.000000   \n",
       "max    136956.000000  118.000000     1.446800e+06   12.000000   439200.000000   \n",
       "\n",
       "       total_tickets_sold  total_amount  scheduled_time_flight  \\\n",
       "count          118.000000  1.180000e+02             127.000000   \n",
       "mean           101.652542  1.176506e+06              91.299213   \n",
       "std             14.295643  4.794251e+05              64.000907   \n",
       "min             64.000000  5.310000e+05              50.000000   \n",
       "25%             95.000000  7.464000e+05              50.000000   \n",
       "50%             97.000000  1.081650e+06             100.000000   \n",
       "75%            111.750000  1.625850e+06             100.000000   \n",
       "max            130.000000  1.886000e+06             305.000000   \n",
       "\n",
       "       actual_time_flight  departure_latitude  ...  bus_seats  total_seats  \\\n",
       "count          127.000000        1.270000e+02  ...      127.0   127.000000   \n",
       "mean            91.377953        4.500210e+01  ...       12.0   114.669291   \n",
       "std             64.377474        5.706854e-14  ...        0.0    16.523699   \n",
       "min             49.000000        4.500210e+01  ...       12.0    97.000000   \n",
       "25%             50.000000        4.500210e+01  ...       12.0    97.000000   \n",
       "50%             99.000000        4.500210e+01  ...       12.0   130.000000   \n",
       "75%            100.000000        4.500210e+01  ...       12.0   130.000000   \n",
       "max            312.000000        4.500210e+01  ...       12.0   130.000000   \n",
       "\n",
       "             range     fly_cost   flight_cost  occup_econ   occup_bus  \\\n",
       "count   127.000000   127.000000  1.270000e+02  118.000000  118.000000   \n",
       "mean   3642.519685  3636.149606  3.610391e+05   90.019264   89.901130   \n",
       "std     600.861773   751.077217  3.030071e+05    8.202283   11.625471   \n",
       "min    3000.000000  2833.000000  1.388170e+05   63.529412   50.000000   \n",
       "25%    3000.000000  2833.000000  1.416500e+05   83.621635   83.333333   \n",
       "50%    4200.000000  4333.000000  4.289670e+05   90.588235   91.666667   \n",
       "75%    4200.000000  4333.000000  4.333000e+05   98.823529  100.000000   \n",
       "max    4200.000000  4333.000000  1.351896e+06  100.000000  100.000000   \n",
       "\n",
       "       occup_total        profit  profitability  \n",
       "count   118.000000  1.180000e+02     118.000000  \n",
       "mean     89.995027  8.892781e+05      76.666486  \n",
       "std       8.170469  3.386720e+05       3.840990  \n",
       "min      65.979381  3.893500e+05      68.913695  \n",
       "25%      83.505155  6.047500e+05      73.492183  \n",
       "50%      89.845361  7.955915e+05      76.702976  \n",
       "75%      98.969072  1.196883e+06      80.938197  \n",
       "max     100.000000  1.452700e+06      81.861100  \n",
       "\n",
       "[8 rows x 24 columns]"
      ]
     },
     "execution_count": 13,
     "metadata": {},
     "output_type": "execute_result"
    }
   ],
   "source": [
    "data.describe()"
   ]
  },
  {
   "cell_type": "markdown",
   "metadata": {},
   "source": [
    "## Преобразуем записи о времени вылетов и прилетов в форма времени"
   ]
  },
  {
   "cell_type": "code",
   "execution_count": 14,
   "metadata": {},
   "outputs": [],
   "source": [
    "def to_datetime(col):\n",
    "    data[col] = data[col].apply(\n",
    "        lambda x: datetime.strptime(x.replace('Z', ''), \n",
    "                                    '%Y-%m-%dT%H:%M:%S')\n",
    "    )"
   ]
  },
  {
   "cell_type": "code",
   "execution_count": 16,
   "metadata": {},
   "outputs": [],
   "source": [
    "data_cols = ['scheduled_departure', 'scheduled_arrival', \n",
    "             'actual_departure', 'actual_arrival']"
   ]
  },
  {
   "cell_type": "code",
   "execution_count": 17,
   "metadata": {},
   "outputs": [],
   "source": [
    "for col in data_cols:\n",
    "    to_datetime(col)"
   ]
  },
  {
   "cell_type": "code",
   "execution_count": 18,
   "metadata": {
    "scrolled": false
   },
   "outputs": [
    {
     "data": {
      "text/html": [
       "<div>\n",
       "<style scoped>\n",
       "    .dataframe tbody tr th:only-of-type {\n",
       "        vertical-align: middle;\n",
       "    }\n",
       "\n",
       "    .dataframe tbody tr th {\n",
       "        vertical-align: top;\n",
       "    }\n",
       "\n",
       "    .dataframe thead th {\n",
       "        text-align: right;\n",
       "    }\n",
       "</style>\n",
       "<table border=\"1\" class=\"dataframe\">\n",
       "  <thead>\n",
       "    <tr style=\"text-align: right;\">\n",
       "      <th></th>\n",
       "      <th>scheduled_departure</th>\n",
       "      <th>scheduled_arrival</th>\n",
       "      <th>actual_departure</th>\n",
       "      <th>actual_arrival</th>\n",
       "    </tr>\n",
       "  </thead>\n",
       "  <tbody>\n",
       "    <tr>\n",
       "      <th>0</th>\n",
       "      <td>2017-02-08 10:05:00</td>\n",
       "      <td>2017-02-08 11:45:00</td>\n",
       "      <td>2017-02-08 10:06:00</td>\n",
       "      <td>2017-02-08 11:47:00</td>\n",
       "    </tr>\n",
       "    <tr>\n",
       "      <th>1</th>\n",
       "      <td>2017-01-09 10:05:00</td>\n",
       "      <td>2017-01-09 11:45:00</td>\n",
       "      <td>2017-01-09 10:07:00</td>\n",
       "      <td>2017-01-09 11:47:00</td>\n",
       "    </tr>\n",
       "    <tr>\n",
       "      <th>2</th>\n",
       "      <td>2017-01-08 10:05:00</td>\n",
       "      <td>2017-01-08 11:45:00</td>\n",
       "      <td>2017-01-08 10:08:00</td>\n",
       "      <td>2017-01-08 11:48:00</td>\n",
       "    </tr>\n",
       "    <tr>\n",
       "      <th>3</th>\n",
       "      <td>2017-01-29 10:05:00</td>\n",
       "      <td>2017-01-29 11:45:00</td>\n",
       "      <td>2017-01-29 10:10:00</td>\n",
       "      <td>2017-01-29 11:49:00</td>\n",
       "    </tr>\n",
       "    <tr>\n",
       "      <th>4</th>\n",
       "      <td>2017-02-05 10:05:00</td>\n",
       "      <td>2017-02-05 11:45:00</td>\n",
       "      <td>2017-02-05 10:08:00</td>\n",
       "      <td>2017-02-05 11:48:00</td>\n",
       "    </tr>\n",
       "    <tr>\n",
       "      <th>...</th>\n",
       "      <td>...</td>\n",
       "      <td>...</td>\n",
       "      <td>...</td>\n",
       "      <td>...</td>\n",
       "    </tr>\n",
       "    <tr>\n",
       "      <th>122</th>\n",
       "      <td>2017-01-31 06:10:00</td>\n",
       "      <td>2017-01-31 11:15:00</td>\n",
       "      <td>2017-01-31 06:10:00</td>\n",
       "      <td>2017-01-31 11:14:00</td>\n",
       "    </tr>\n",
       "    <tr>\n",
       "      <th>123</th>\n",
       "      <td>2017-02-21 06:10:00</td>\n",
       "      <td>2017-02-21 11:15:00</td>\n",
       "      <td>2017-02-21 06:15:00</td>\n",
       "      <td>2017-02-21 11:25:00</td>\n",
       "    </tr>\n",
       "    <tr>\n",
       "      <th>124</th>\n",
       "      <td>2017-01-17 06:10:00</td>\n",
       "      <td>2017-01-17 11:15:00</td>\n",
       "      <td>2017-01-17 06:14:00</td>\n",
       "      <td>2017-01-17 11:21:00</td>\n",
       "    </tr>\n",
       "    <tr>\n",
       "      <th>125</th>\n",
       "      <td>2017-01-03 06:10:00</td>\n",
       "      <td>2017-01-03 11:15:00</td>\n",
       "      <td>2017-01-03 06:13:00</td>\n",
       "      <td>2017-01-03 11:15:00</td>\n",
       "    </tr>\n",
       "    <tr>\n",
       "      <th>126</th>\n",
       "      <td>2017-02-14 06:10:00</td>\n",
       "      <td>2017-02-14 11:15:00</td>\n",
       "      <td>2017-02-14 06:12:00</td>\n",
       "      <td>2017-02-14 11:23:00</td>\n",
       "    </tr>\n",
       "  </tbody>\n",
       "</table>\n",
       "<p>127 rows × 4 columns</p>\n",
       "</div>"
      ],
      "text/plain": [
       "    scheduled_departure   scheduled_arrival    actual_departure  \\\n",
       "0   2017-02-08 10:05:00 2017-02-08 11:45:00 2017-02-08 10:06:00   \n",
       "1   2017-01-09 10:05:00 2017-01-09 11:45:00 2017-01-09 10:07:00   \n",
       "2   2017-01-08 10:05:00 2017-01-08 11:45:00 2017-01-08 10:08:00   \n",
       "3   2017-01-29 10:05:00 2017-01-29 11:45:00 2017-01-29 10:10:00   \n",
       "4   2017-02-05 10:05:00 2017-02-05 11:45:00 2017-02-05 10:08:00   \n",
       "..                  ...                 ...                 ...   \n",
       "122 2017-01-31 06:10:00 2017-01-31 11:15:00 2017-01-31 06:10:00   \n",
       "123 2017-02-21 06:10:00 2017-02-21 11:15:00 2017-02-21 06:15:00   \n",
       "124 2017-01-17 06:10:00 2017-01-17 11:15:00 2017-01-17 06:14:00   \n",
       "125 2017-01-03 06:10:00 2017-01-03 11:15:00 2017-01-03 06:13:00   \n",
       "126 2017-02-14 06:10:00 2017-02-14 11:15:00 2017-02-14 06:12:00   \n",
       "\n",
       "         actual_arrival  \n",
       "0   2017-02-08 11:47:00  \n",
       "1   2017-01-09 11:47:00  \n",
       "2   2017-01-08 11:48:00  \n",
       "3   2017-01-29 11:49:00  \n",
       "4   2017-02-05 11:48:00  \n",
       "..                  ...  \n",
       "122 2017-01-31 11:14:00  \n",
       "123 2017-02-21 11:25:00  \n",
       "124 2017-01-17 11:21:00  \n",
       "125 2017-01-03 11:15:00  \n",
       "126 2017-02-14 11:23:00  \n",
       "\n",
       "[127 rows x 4 columns]"
      ]
     },
     "execution_count": 18,
     "metadata": {},
     "output_type": "execute_result"
    }
   ],
   "source": [
    "data[data_cols]"
   ]
  },
  {
   "cell_type": "markdown",
   "metadata": {},
   "source": [
    "## Расчитаем дальность перелета"
   ]
  },
  {
   "cell_type": "code",
   "execution_count": 19,
   "metadata": {},
   "outputs": [],
   "source": [
    "data['flight_distance'] = 0"
   ]
  },
  {
   "cell_type": "code",
   "execution_count": 20,
   "metadata": {
    "scrolled": false
   },
   "outputs": [
    {
     "name": "stderr",
     "output_type": "stream",
     "text": [
      "<ipython-input-20-40ea35ea155d>:2: SettingWithCopyWarning: \n",
      "A value is trying to be set on a copy of a slice from a DataFrame\n",
      "\n",
      "See the caveats in the documentation: https://pandas.pydata.org/pandas-docs/stable/user_guide/indexing.html#returning-a-view-versus-a-copy\n",
      "  data['flight_distance'][i] = geopy.distance.distance(\n"
     ]
    }
   ],
   "source": [
    "for i in data.index:\n",
    "    data['flight_distance'][i] = geopy.distance.distance(\n",
    "    (data['departure_latitude'][i], data['departure_longitude'][i]), \n",
    "    (data['arrival_latitude'][i], data['arrival_longitude'][i])).km"
   ]
  },
  {
   "cell_type": "code",
   "execution_count": 27,
   "metadata": {},
   "outputs": [
    {
     "data": {
      "text/plain": [
       "118    Novokuznetsk\n",
       "119    Novokuznetsk\n",
       "120    Novokuznetsk\n",
       "121    Novokuznetsk\n",
       "122    Novokuznetsk\n",
       "123    Novokuznetsk\n",
       "124    Novokuznetsk\n",
       "125    Novokuznetsk\n",
       "126    Novokuznetsk\n",
       "Name: arrival_cit, dtype: object"
      ]
     },
     "execution_count": 27,
     "metadata": {},
     "output_type": "execute_result"
    }
   ],
   "source": [
    "data['arrival_cit'][data['econ_sold'].isna() == True]"
   ]
  },
  {
   "cell_type": "code",
   "execution_count": 29,
   "metadata": {},
   "outputs": [
    {
     "data": {
      "text/plain": [
       "9"
      ]
     },
     "execution_count": 29,
     "metadata": {},
     "output_type": "execute_result"
    }
   ],
   "source": [
    "data['arrival_cit'][data['econ_sold'].isna() == True].count()"
   ]
  },
  {
   "cell_type": "code",
   "execution_count": 30,
   "metadata": {},
   "outputs": [
    {
     "data": {
      "text/plain": [
       "9"
      ]
     },
     "execution_count": 30,
     "metadata": {},
     "output_type": "execute_result"
    }
   ],
   "source": [
    "data['arrival_cit'][data['arrival_cit'] == 'Novokuznetsk'].count()"
   ]
  },
  {
   "cell_type": "markdown",
   "metadata": {},
   "source": [
    "## У нас отсутствуют все данные о продажах билетов в Новокузнецк"
   ]
  },
  {
   "cell_type": "markdown",
   "metadata": {},
   "source": [
    "## Удаляем строки с полетами в Новокузнецк, так как там нет\n",
    "## данных по продаже билетов"
   ]
  },
  {
   "cell_type": "code",
   "execution_count": 19,
   "metadata": {},
   "outputs": [],
   "source": [
    "data = data.dropna()"
   ]
  },
  {
   "cell_type": "markdown",
   "metadata": {},
   "source": [
    "## Смотрим статистику по разным моделям самолетов"
   ]
  },
  {
   "cell_type": "code",
   "execution_count": 20,
   "metadata": {},
   "outputs": [
    {
     "data": {
      "text/plain": [
       "array(['Boeing 737-300', 'Sukhoi Superjet-100'], dtype=object)"
      ]
     },
     "execution_count": 20,
     "metadata": {},
     "output_type": "execute_result"
    }
   ],
   "source": [
    "data['model'].unique()"
   ]
  },
  {
   "cell_type": "code",
   "execution_count": 31,
   "metadata": {},
   "outputs": [
    {
     "data": {
      "text/html": [
       "<div>\n",
       "<style scoped>\n",
       "    .dataframe tbody tr th:only-of-type {\n",
       "        vertical-align: middle;\n",
       "    }\n",
       "\n",
       "    .dataframe tbody tr th {\n",
       "        vertical-align: top;\n",
       "    }\n",
       "\n",
       "    .dataframe thead th {\n",
       "        text-align: right;\n",
       "    }\n",
       "</style>\n",
       "<table border=\"1\" class=\"dataframe\">\n",
       "  <thead>\n",
       "    <tr style=\"text-align: right;\">\n",
       "      <th></th>\n",
       "      <th>flight_id</th>\n",
       "      <th>econ_sold</th>\n",
       "      <th>amount_sum_econ</th>\n",
       "      <th>bus_sold</th>\n",
       "      <th>amount_sum_bus</th>\n",
       "      <th>total_tickets_sold</th>\n",
       "      <th>total_amount</th>\n",
       "      <th>scheduled_time_flight</th>\n",
       "      <th>actual_time_flight</th>\n",
       "      <th>departure_latitude</th>\n",
       "      <th>...</th>\n",
       "      <th>total_seats</th>\n",
       "      <th>range</th>\n",
       "      <th>fly_cost</th>\n",
       "      <th>flight_cost</th>\n",
       "      <th>occup_econ</th>\n",
       "      <th>occup_bus</th>\n",
       "      <th>occup_total</th>\n",
       "      <th>profit</th>\n",
       "      <th>profitability</th>\n",
       "      <th>flight_distance</th>\n",
       "    </tr>\n",
       "  </thead>\n",
       "  <tbody>\n",
       "    <tr>\n",
       "      <th>count</th>\n",
       "      <td>68.000000</td>\n",
       "      <td>59.000000</td>\n",
       "      <td>5.900000e+01</td>\n",
       "      <td>59.000000</td>\n",
       "      <td>59.000000</td>\n",
       "      <td>59.000000</td>\n",
       "      <td>5.900000e+01</td>\n",
       "      <td>68.000000</td>\n",
       "      <td>68.000000</td>\n",
       "      <td>6.800000e+01</td>\n",
       "      <td>...</td>\n",
       "      <td>68.0</td>\n",
       "      <td>68.0</td>\n",
       "      <td>68.0</td>\n",
       "      <td>6.800000e+01</td>\n",
       "      <td>59.000000</td>\n",
       "      <td>59.000000</td>\n",
       "      <td>59.000000</td>\n",
       "      <td>5.900000e+01</td>\n",
       "      <td>59.000000</td>\n",
       "      <td>68.000000</td>\n",
       "    </tr>\n",
       "    <tr>\n",
       "      <th>mean</th>\n",
       "      <td>136329.985294</td>\n",
       "      <td>102.610169</td>\n",
       "      <td>1.257966e+06</td>\n",
       "      <td>10.508475</td>\n",
       "      <td>384610.169492</td>\n",
       "      <td>113.118644</td>\n",
       "      <td>1.642576e+06</td>\n",
       "      <td>127.132353</td>\n",
       "      <td>127.205882</td>\n",
       "      <td>4.500210e+01</td>\n",
       "      <td>...</td>\n",
       "      <td>130.0</td>\n",
       "      <td>4200.0</td>\n",
       "      <td>4333.0</td>\n",
       "      <td>5.511831e+05</td>\n",
       "      <td>86.957771</td>\n",
       "      <td>87.570621</td>\n",
       "      <td>87.014342</td>\n",
       "      <td>1.210011e+06</td>\n",
       "      <td>73.491051</td>\n",
       "      <td>1540.823529</td>\n",
       "    </tr>\n",
       "    <tr>\n",
       "      <th>std</th>\n",
       "      <td>135.916951</td>\n",
       "      <td>8.155846</td>\n",
       "      <td>1.000073e+05</td>\n",
       "      <td>1.394235</td>\n",
       "      <td>51029.017083</td>\n",
       "      <td>8.896115</td>\n",
       "      <td>1.318786e+05</td>\n",
       "      <td>69.985692</td>\n",
       "      <td>70.635402</td>\n",
       "      <td>5.010780e-14</td>\n",
       "      <td>...</td>\n",
       "      <td>0.0</td>\n",
       "      <td>0.0</td>\n",
       "      <td>0.0</td>\n",
       "      <td>3.060632e+05</td>\n",
       "      <td>6.911734</td>\n",
       "      <td>11.618629</td>\n",
       "      <td>6.843165</td>\n",
       "      <td>1.333974e+05</td>\n",
       "      <td>2.232912</td>\n",
       "      <td>827.538139</td>\n",
       "    </tr>\n",
       "    <tr>\n",
       "      <th>min</th>\n",
       "      <td>136119.000000</td>\n",
       "      <td>86.000000</td>\n",
       "      <td>1.052800e+06</td>\n",
       "      <td>6.000000</td>\n",
       "      <td>219600.000000</td>\n",
       "      <td>97.000000</td>\n",
       "      <td>1.398000e+06</td>\n",
       "      <td>100.000000</td>\n",
       "      <td>98.000000</td>\n",
       "      <td>4.500210e+01</td>\n",
       "      <td>...</td>\n",
       "      <td>130.0</td>\n",
       "      <td>4200.0</td>\n",
       "      <td>4333.0</td>\n",
       "      <td>4.246340e+05</td>\n",
       "      <td>72.881356</td>\n",
       "      <td>50.000000</td>\n",
       "      <td>74.615385</td>\n",
       "      <td>9.647000e+05</td>\n",
       "      <td>68.913695</td>\n",
       "      <td>1220.000000</td>\n",
       "    </tr>\n",
       "    <tr>\n",
       "      <th>25%</th>\n",
       "      <td>136207.750000</td>\n",
       "      <td>98.000000</td>\n",
       "      <td>1.200400e+06</td>\n",
       "      <td>10.000000</td>\n",
       "      <td>366000.000000</td>\n",
       "      <td>107.000000</td>\n",
       "      <td>1.543200e+06</td>\n",
       "      <td>100.000000</td>\n",
       "      <td>99.000000</td>\n",
       "      <td>4.500210e+01</td>\n",
       "      <td>...</td>\n",
       "      <td>130.0</td>\n",
       "      <td>4200.0</td>\n",
       "      <td>4333.0</td>\n",
       "      <td>4.289670e+05</td>\n",
       "      <td>83.050847</td>\n",
       "      <td>83.333333</td>\n",
       "      <td>82.307692</td>\n",
       "      <td>1.114233e+06</td>\n",
       "      <td>72.013204</td>\n",
       "      <td>1220.000000</td>\n",
       "    </tr>\n",
       "    <tr>\n",
       "      <th>50%</th>\n",
       "      <td>136321.000000</td>\n",
       "      <td>102.000000</td>\n",
       "      <td>1.249200e+06</td>\n",
       "      <td>11.000000</td>\n",
       "      <td>402600.000000</td>\n",
       "      <td>112.000000</td>\n",
       "      <td>1.628600e+06</td>\n",
       "      <td>100.000000</td>\n",
       "      <td>100.000000</td>\n",
       "      <td>4.500210e+01</td>\n",
       "      <td>...</td>\n",
       "      <td>130.0</td>\n",
       "      <td>4200.0</td>\n",
       "      <td>4333.0</td>\n",
       "      <td>4.333000e+05</td>\n",
       "      <td>86.440678</td>\n",
       "      <td>91.666667</td>\n",
       "      <td>86.153846</td>\n",
       "      <td>1.199633e+06</td>\n",
       "      <td>73.524924</td>\n",
       "      <td>1220.000000</td>\n",
       "    </tr>\n",
       "    <tr>\n",
       "      <th>75%</th>\n",
       "      <td>136443.750000</td>\n",
       "      <td>108.000000</td>\n",
       "      <td>1.324200e+06</td>\n",
       "      <td>11.500000</td>\n",
       "      <td>420900.000000</td>\n",
       "      <td>120.000000</td>\n",
       "      <td>1.738400e+06</td>\n",
       "      <td>100.000000</td>\n",
       "      <td>101.000000</td>\n",
       "      <td>4.500210e+01</td>\n",
       "      <td>...</td>\n",
       "      <td>130.0</td>\n",
       "      <td>4200.0</td>\n",
       "      <td>4333.0</td>\n",
       "      <td>4.376330e+05</td>\n",
       "      <td>91.525424</td>\n",
       "      <td>95.833333</td>\n",
       "      <td>92.307692</td>\n",
       "      <td>1.309433e+06</td>\n",
       "      <td>75.324034</td>\n",
       "      <td>1220.000000</td>\n",
       "    </tr>\n",
       "    <tr>\n",
       "      <th>max</th>\n",
       "      <td>136567.000000</td>\n",
       "      <td>118.000000</td>\n",
       "      <td>1.446800e+06</td>\n",
       "      <td>12.000000</td>\n",
       "      <td>439200.000000</td>\n",
       "      <td>130.000000</td>\n",
       "      <td>1.886000e+06</td>\n",
       "      <td>305.000000</td>\n",
       "      <td>312.000000</td>\n",
       "      <td>4.500210e+01</td>\n",
       "      <td>...</td>\n",
       "      <td>130.0</td>\n",
       "      <td>4200.0</td>\n",
       "      <td>4333.0</td>\n",
       "      <td>1.351896e+06</td>\n",
       "      <td>100.000000</td>\n",
       "      <td>100.000000</td>\n",
       "      <td>100.000000</td>\n",
       "      <td>1.452700e+06</td>\n",
       "      <td>77.025451</td>\n",
       "      <td>3644.000000</td>\n",
       "    </tr>\n",
       "  </tbody>\n",
       "</table>\n",
       "<p>8 rows × 25 columns</p>\n",
       "</div>"
      ],
      "text/plain": [
       "           flight_id   econ_sold  amount_sum_econ   bus_sold  amount_sum_bus  \\\n",
       "count      68.000000   59.000000     5.900000e+01  59.000000       59.000000   \n",
       "mean   136329.985294  102.610169     1.257966e+06  10.508475   384610.169492   \n",
       "std       135.916951    8.155846     1.000073e+05   1.394235    51029.017083   \n",
       "min    136119.000000   86.000000     1.052800e+06   6.000000   219600.000000   \n",
       "25%    136207.750000   98.000000     1.200400e+06  10.000000   366000.000000   \n",
       "50%    136321.000000  102.000000     1.249200e+06  11.000000   402600.000000   \n",
       "75%    136443.750000  108.000000     1.324200e+06  11.500000   420900.000000   \n",
       "max    136567.000000  118.000000     1.446800e+06  12.000000   439200.000000   \n",
       "\n",
       "       total_tickets_sold  total_amount  scheduled_time_flight  \\\n",
       "count           59.000000  5.900000e+01              68.000000   \n",
       "mean           113.118644  1.642576e+06             127.132353   \n",
       "std              8.896115  1.318786e+05              69.985692   \n",
       "min             97.000000  1.398000e+06             100.000000   \n",
       "25%            107.000000  1.543200e+06             100.000000   \n",
       "50%            112.000000  1.628600e+06             100.000000   \n",
       "75%            120.000000  1.738400e+06             100.000000   \n",
       "max            130.000000  1.886000e+06             305.000000   \n",
       "\n",
       "       actual_time_flight  departure_latitude  ...  total_seats   range  \\\n",
       "count           68.000000        6.800000e+01  ...         68.0    68.0   \n",
       "mean           127.205882        4.500210e+01  ...        130.0  4200.0   \n",
       "std             70.635402        5.010780e-14  ...          0.0     0.0   \n",
       "min             98.000000        4.500210e+01  ...        130.0  4200.0   \n",
       "25%             99.000000        4.500210e+01  ...        130.0  4200.0   \n",
       "50%            100.000000        4.500210e+01  ...        130.0  4200.0   \n",
       "75%            101.000000        4.500210e+01  ...        130.0  4200.0   \n",
       "max            312.000000        4.500210e+01  ...        130.0  4200.0   \n",
       "\n",
       "       fly_cost   flight_cost  occup_econ   occup_bus  occup_total  \\\n",
       "count      68.0  6.800000e+01   59.000000   59.000000    59.000000   \n",
       "mean     4333.0  5.511831e+05   86.957771   87.570621    87.014342   \n",
       "std         0.0  3.060632e+05    6.911734   11.618629     6.843165   \n",
       "min      4333.0  4.246340e+05   72.881356   50.000000    74.615385   \n",
       "25%      4333.0  4.289670e+05   83.050847   83.333333    82.307692   \n",
       "50%      4333.0  4.333000e+05   86.440678   91.666667    86.153846   \n",
       "75%      4333.0  4.376330e+05   91.525424   95.833333    92.307692   \n",
       "max      4333.0  1.351896e+06  100.000000  100.000000   100.000000   \n",
       "\n",
       "             profit  profitability  flight_distance  \n",
       "count  5.900000e+01      59.000000        68.000000  \n",
       "mean   1.210011e+06      73.491051      1540.823529  \n",
       "std    1.333974e+05       2.232912       827.538139  \n",
       "min    9.647000e+05      68.913695      1220.000000  \n",
       "25%    1.114233e+06      72.013204      1220.000000  \n",
       "50%    1.199633e+06      73.524924      1220.000000  \n",
       "75%    1.309433e+06      75.324034      1220.000000  \n",
       "max    1.452700e+06      77.025451      3644.000000  \n",
       "\n",
       "[8 rows x 25 columns]"
      ]
     },
     "execution_count": 31,
     "metadata": {},
     "output_type": "execute_result"
    }
   ],
   "source": [
    "data[data['model'] == 'Boeing 737-300'].describe()"
   ]
  },
  {
   "cell_type": "markdown",
   "metadata": {},
   "source": [
    "## Средняя заполняемость не плохая, 87%"
   ]
  },
  {
   "cell_type": "code",
   "execution_count": 32,
   "metadata": {
    "scrolled": false
   },
   "outputs": [
    {
     "data": {
      "text/html": [
       "<div>\n",
       "<style scoped>\n",
       "    .dataframe tbody tr th:only-of-type {\n",
       "        vertical-align: middle;\n",
       "    }\n",
       "\n",
       "    .dataframe tbody tr th {\n",
       "        vertical-align: top;\n",
       "    }\n",
       "\n",
       "    .dataframe thead th {\n",
       "        text-align: right;\n",
       "    }\n",
       "</style>\n",
       "<table border=\"1\" class=\"dataframe\">\n",
       "  <thead>\n",
       "    <tr style=\"text-align: right;\">\n",
       "      <th></th>\n",
       "      <th>flight_id</th>\n",
       "      <th>econ_sold</th>\n",
       "      <th>amount_sum_econ</th>\n",
       "      <th>bus_sold</th>\n",
       "      <th>amount_sum_bus</th>\n",
       "      <th>total_tickets_sold</th>\n",
       "      <th>total_amount</th>\n",
       "      <th>scheduled_time_flight</th>\n",
       "      <th>actual_time_flight</th>\n",
       "      <th>departure_latitude</th>\n",
       "      <th>...</th>\n",
       "      <th>total_seats</th>\n",
       "      <th>range</th>\n",
       "      <th>fly_cost</th>\n",
       "      <th>flight_cost</th>\n",
       "      <th>occup_econ</th>\n",
       "      <th>occup_bus</th>\n",
       "      <th>occup_total</th>\n",
       "      <th>profit</th>\n",
       "      <th>profitability</th>\n",
       "      <th>flight_distance</th>\n",
       "    </tr>\n",
       "  </thead>\n",
       "  <tbody>\n",
       "    <tr>\n",
       "      <th>count</th>\n",
       "      <td>59.000000</td>\n",
       "      <td>59.000000</td>\n",
       "      <td>59.000000</td>\n",
       "      <td>59.000000</td>\n",
       "      <td>59.000000</td>\n",
       "      <td>59.000000</td>\n",
       "      <td>59.000000</td>\n",
       "      <td>59.0</td>\n",
       "      <td>59.000000</td>\n",
       "      <td>5.900000e+01</td>\n",
       "      <td>...</td>\n",
       "      <td>59.0</td>\n",
       "      <td>59.0</td>\n",
       "      <td>59.0</td>\n",
       "      <td>59.000000</td>\n",
       "      <td>59.000000</td>\n",
       "      <td>59.000000</td>\n",
       "      <td>59.000000</td>\n",
       "      <td>59.000000</td>\n",
       "      <td>59.000000</td>\n",
       "      <td>59.0</td>\n",
       "    </tr>\n",
       "    <tr>\n",
       "      <th>mean</th>\n",
       "      <td>136768.220339</td>\n",
       "      <td>79.118644</td>\n",
       "      <td>501254.237288</td>\n",
       "      <td>11.067797</td>\n",
       "      <td>209181.355932</td>\n",
       "      <td>90.186441</td>\n",
       "      <td>710435.593220</td>\n",
       "      <td>50.0</td>\n",
       "      <td>50.084746</td>\n",
       "      <td>4.500210e+01</td>\n",
       "      <td>...</td>\n",
       "      <td>97.0</td>\n",
       "      <td>3000.0</td>\n",
       "      <td>2833.0</td>\n",
       "      <td>141890.084746</td>\n",
       "      <td>93.080758</td>\n",
       "      <td>92.231638</td>\n",
       "      <td>92.975712</td>\n",
       "      <td>568545.508475</td>\n",
       "      <td>79.841921</td>\n",
       "      <td>629.0</td>\n",
       "    </tr>\n",
       "    <tr>\n",
       "      <th>std</th>\n",
       "      <td>112.072801</td>\n",
       "      <td>7.054186</td>\n",
       "      <td>44699.368668</td>\n",
       "      <td>1.350152</td>\n",
       "      <td>25517.873888</td>\n",
       "      <td>8.101670</td>\n",
       "      <td>65835.266628</td>\n",
       "      <td>0.0</td>\n",
       "      <td>0.650945</td>\n",
       "      <td>4.299852e-14</td>\n",
       "      <td>...</td>\n",
       "      <td>0.0</td>\n",
       "      <td>0.0</td>\n",
       "      <td>0.0</td>\n",
       "      <td>1844.125924</td>\n",
       "      <td>8.299043</td>\n",
       "      <td>11.251267</td>\n",
       "      <td>8.352237</td>\n",
       "      <td>65529.767813</td>\n",
       "      <td>2.064073</td>\n",
       "      <td>0.0</td>\n",
       "    </tr>\n",
       "    <tr>\n",
       "      <th>min</th>\n",
       "      <td>136571.000000</td>\n",
       "      <td>54.000000</td>\n",
       "      <td>342000.000000</td>\n",
       "      <td>6.000000</td>\n",
       "      <td>113400.000000</td>\n",
       "      <td>64.000000</td>\n",
       "      <td>531000.000000</td>\n",
       "      <td>50.0</td>\n",
       "      <td>49.000000</td>\n",
       "      <td>4.500210e+01</td>\n",
       "      <td>...</td>\n",
       "      <td>97.0</td>\n",
       "      <td>3000.0</td>\n",
       "      <td>2833.0</td>\n",
       "      <td>138817.000000</td>\n",
       "      <td>63.529412</td>\n",
       "      <td>50.000000</td>\n",
       "      <td>65.979381</td>\n",
       "      <td>389350.000000</td>\n",
       "      <td>73.323917</td>\n",
       "      <td>629.0</td>\n",
       "    </tr>\n",
       "    <tr>\n",
       "      <th>25%</th>\n",
       "      <td>136663.500000</td>\n",
       "      <td>75.500000</td>\n",
       "      <td>478350.000000</td>\n",
       "      <td>10.000000</td>\n",
       "      <td>189000.000000</td>\n",
       "      <td>86.500000</td>\n",
       "      <td>667350.000000</td>\n",
       "      <td>50.0</td>\n",
       "      <td>50.000000</td>\n",
       "      <td>4.500210e+01</td>\n",
       "      <td>...</td>\n",
       "      <td>97.0</td>\n",
       "      <td>3000.0</td>\n",
       "      <td>2833.0</td>\n",
       "      <td>141650.000000</td>\n",
       "      <td>88.823529</td>\n",
       "      <td>83.333333</td>\n",
       "      <td>89.175258</td>\n",
       "      <td>524283.500000</td>\n",
       "      <td>78.562514</td>\n",
       "      <td>629.0</td>\n",
       "    </tr>\n",
       "    <tr>\n",
       "      <th>50%</th>\n",
       "      <td>136769.000000</td>\n",
       "      <td>83.000000</td>\n",
       "      <td>525900.000000</td>\n",
       "      <td>12.000000</td>\n",
       "      <td>226800.000000</td>\n",
       "      <td>95.000000</td>\n",
       "      <td>746400.000000</td>\n",
       "      <td>50.0</td>\n",
       "      <td>50.000000</td>\n",
       "      <td>4.500210e+01</td>\n",
       "      <td>...</td>\n",
       "      <td>97.0</td>\n",
       "      <td>3000.0</td>\n",
       "      <td>2833.0</td>\n",
       "      <td>141650.000000</td>\n",
       "      <td>97.647059</td>\n",
       "      <td>100.000000</td>\n",
       "      <td>97.938144</td>\n",
       "      <td>604750.000000</td>\n",
       "      <td>80.964032</td>\n",
       "      <td>629.0</td>\n",
       "    </tr>\n",
       "    <tr>\n",
       "      <th>75%</th>\n",
       "      <td>136859.000000</td>\n",
       "      <td>85.000000</td>\n",
       "      <td>538500.000000</td>\n",
       "      <td>12.000000</td>\n",
       "      <td>226800.000000</td>\n",
       "      <td>97.000000</td>\n",
       "      <td>765300.000000</td>\n",
       "      <td>50.0</td>\n",
       "      <td>50.500000</td>\n",
       "      <td>4.500210e+01</td>\n",
       "      <td>...</td>\n",
       "      <td>97.0</td>\n",
       "      <td>3000.0</td>\n",
       "      <td>2833.0</td>\n",
       "      <td>143066.500000</td>\n",
       "      <td>100.000000</td>\n",
       "      <td>100.000000</td>\n",
       "      <td>100.000000</td>\n",
       "      <td>620817.000000</td>\n",
       "      <td>81.337286</td>\n",
       "      <td>629.0</td>\n",
       "    </tr>\n",
       "    <tr>\n",
       "      <th>max</th>\n",
       "      <td>136956.000000</td>\n",
       "      <td>85.000000</td>\n",
       "      <td>538500.000000</td>\n",
       "      <td>12.000000</td>\n",
       "      <td>226800.000000</td>\n",
       "      <td>97.000000</td>\n",
       "      <td>765300.000000</td>\n",
       "      <td>50.0</td>\n",
       "      <td>51.000000</td>\n",
       "      <td>4.500210e+01</td>\n",
       "      <td>...</td>\n",
       "      <td>97.0</td>\n",
       "      <td>3000.0</td>\n",
       "      <td>2833.0</td>\n",
       "      <td>144483.000000</td>\n",
       "      <td>100.000000</td>\n",
       "      <td>100.000000</td>\n",
       "      <td>100.000000</td>\n",
       "      <td>626483.000000</td>\n",
       "      <td>81.861100</td>\n",
       "      <td>629.0</td>\n",
       "    </tr>\n",
       "  </tbody>\n",
       "</table>\n",
       "<p>8 rows × 25 columns</p>\n",
       "</div>"
      ],
      "text/plain": [
       "           flight_id  econ_sold  amount_sum_econ   bus_sold  amount_sum_bus  \\\n",
       "count      59.000000  59.000000        59.000000  59.000000       59.000000   \n",
       "mean   136768.220339  79.118644    501254.237288  11.067797   209181.355932   \n",
       "std       112.072801   7.054186     44699.368668   1.350152    25517.873888   \n",
       "min    136571.000000  54.000000    342000.000000   6.000000   113400.000000   \n",
       "25%    136663.500000  75.500000    478350.000000  10.000000   189000.000000   \n",
       "50%    136769.000000  83.000000    525900.000000  12.000000   226800.000000   \n",
       "75%    136859.000000  85.000000    538500.000000  12.000000   226800.000000   \n",
       "max    136956.000000  85.000000    538500.000000  12.000000   226800.000000   \n",
       "\n",
       "       total_tickets_sold   total_amount  scheduled_time_flight  \\\n",
       "count           59.000000      59.000000                   59.0   \n",
       "mean            90.186441  710435.593220                   50.0   \n",
       "std              8.101670   65835.266628                    0.0   \n",
       "min             64.000000  531000.000000                   50.0   \n",
       "25%             86.500000  667350.000000                   50.0   \n",
       "50%             95.000000  746400.000000                   50.0   \n",
       "75%             97.000000  765300.000000                   50.0   \n",
       "max             97.000000  765300.000000                   50.0   \n",
       "\n",
       "       actual_time_flight  departure_latitude  ...  total_seats   range  \\\n",
       "count           59.000000        5.900000e+01  ...         59.0    59.0   \n",
       "mean            50.084746        4.500210e+01  ...         97.0  3000.0   \n",
       "std              0.650945        4.299852e-14  ...          0.0     0.0   \n",
       "min             49.000000        4.500210e+01  ...         97.0  3000.0   \n",
       "25%             50.000000        4.500210e+01  ...         97.0  3000.0   \n",
       "50%             50.000000        4.500210e+01  ...         97.0  3000.0   \n",
       "75%             50.500000        4.500210e+01  ...         97.0  3000.0   \n",
       "max             51.000000        4.500210e+01  ...         97.0  3000.0   \n",
       "\n",
       "       fly_cost    flight_cost  occup_econ   occup_bus  occup_total  \\\n",
       "count      59.0      59.000000   59.000000   59.000000    59.000000   \n",
       "mean     2833.0  141890.084746   93.080758   92.231638    92.975712   \n",
       "std         0.0    1844.125924    8.299043   11.251267     8.352237   \n",
       "min      2833.0  138817.000000   63.529412   50.000000    65.979381   \n",
       "25%      2833.0  141650.000000   88.823529   83.333333    89.175258   \n",
       "50%      2833.0  141650.000000   97.647059  100.000000    97.938144   \n",
       "75%      2833.0  143066.500000  100.000000  100.000000   100.000000   \n",
       "max      2833.0  144483.000000  100.000000  100.000000   100.000000   \n",
       "\n",
       "              profit  profitability  flight_distance  \n",
       "count      59.000000      59.000000             59.0  \n",
       "mean   568545.508475      79.841921            629.0  \n",
       "std     65529.767813       2.064073              0.0  \n",
       "min    389350.000000      73.323917            629.0  \n",
       "25%    524283.500000      78.562514            629.0  \n",
       "50%    604750.000000      80.964032            629.0  \n",
       "75%    620817.000000      81.337286            629.0  \n",
       "max    626483.000000      81.861100            629.0  \n",
       "\n",
       "[8 rows x 25 columns]"
      ]
     },
     "execution_count": 32,
     "metadata": {},
     "output_type": "execute_result"
    }
   ],
   "source": [
    "data[data['model'] == 'Sukhoi Superjet-100'].describe()"
   ]
  },
  {
   "cell_type": "markdown",
   "metadata": {},
   "source": [
    "## Средняя заполняемость еще лучше, 92%. Но Сухой менее вместительный."
   ]
  },
  {
   "cell_type": "markdown",
   "metadata": {},
   "source": [
    "## Посмотрим рапределение заполняемости по датам"
   ]
  },
  {
   "cell_type": "code",
   "execution_count": 35,
   "metadata": {},
   "outputs": [
    {
     "data": {
      "text/plain": [
       "<AxesSubplot:title={'center':'Заполняемость'}, xlabel='scheduled_departure', ylabel='occup_total'>"
      ]
     },
     "execution_count": 35,
     "metadata": {},
     "output_type": "execute_result"
    },
    {
     "data": {
      "image/png": "[encoded data removed]",
      "text/plain": [
       "<Figure size 720x504 with 1 Axes>"
      ]
     },
     "metadata": {
      "needs_background": "light"
     },
     "output_type": "display_data"
    }
   ],
   "source": [
    "data.plot(x='scheduled_departure', y='occup_total', kind='scatter', grid=True,\n",
    "       title='Заполняемость')"
   ]
  },
  {
   "cell_type": "markdown",
   "metadata": {},
   "source": [
    "## Как видим, зависимость не наблюдается."
   ]
  },
  {
   "cell_type": "markdown",
   "metadata": {},
   "source": [
    "## Посмотрим распредение прибыльности."
   ]
  },
  {
   "cell_type": "code",
   "execution_count": 34,
   "metadata": {},
   "outputs": [
    {
     "data": {
      "text/plain": [
       "Text(0.5, 1.0, 'Распределение рентабельности')"
      ]
     },
     "execution_count": 34,
     "metadata": {},
     "output_type": "execute_result"
    },
    {
     "data": {
      "image/png": "[encoded data removed]",
      "text/plain": [
       "<Figure size 720x504 with 1 Axes>"
      ]
     },
     "metadata": {
      "needs_background": "light"
     },
     "output_type": "display_data"
    }
   ],
   "source": [
    "plt.rcParams['figure.figsize'] = (10,7)\n",
    "data['profitability'].hist(bins=5)\n",
    "plt.xlabel('Рентабельность')\n",
    "plt.title('Распределение рентабельности')"
   ]
  },
  {
   "cell_type": "markdown",
   "metadata": {},
   "source": [
    "## Мы видим, что в целом, не много рейсов с рентабельностью менее 70%"
   ]
  },
  {
   "cell_type": "markdown",
   "metadata": {},
   "source": [
    "## Посмотрим рейсы с заполняемостью менее 75%. Взято из интеренета, граница рентабельности рейсов."
   ]
  },
  {
   "cell_type": "code",
   "execution_count": 36,
   "metadata": {
    "scrolled": true
   },
   "outputs": [
    {
     "data": {
      "text/html": [
       "<div>\n",
       "<style scoped>\n",
       "    .dataframe tbody tr th:only-of-type {\n",
       "        vertical-align: middle;\n",
       "    }\n",
       "\n",
       "    .dataframe tbody tr th {\n",
       "        vertical-align: top;\n",
       "    }\n",
       "\n",
       "    .dataframe thead th {\n",
       "        text-align: right;\n",
       "    }\n",
       "</style>\n",
       "<table border=\"1\" class=\"dataframe\">\n",
       "  <thead>\n",
       "    <tr style=\"text-align: right;\">\n",
       "      <th></th>\n",
       "      <th>flight_id</th>\n",
       "      <th>econ_sold</th>\n",
       "      <th>amount_sum_econ</th>\n",
       "      <th>bus_sold</th>\n",
       "      <th>amount_sum_bus</th>\n",
       "      <th>total_tickets_sold</th>\n",
       "      <th>total_amount</th>\n",
       "      <th>scheduled_departure</th>\n",
       "      <th>scheduled_arrival</th>\n",
       "      <th>scheduled_time_flight</th>\n",
       "      <th>...</th>\n",
       "      <th>total_seats</th>\n",
       "      <th>range</th>\n",
       "      <th>fly_cost</th>\n",
       "      <th>flight_cost</th>\n",
       "      <th>occup_econ</th>\n",
       "      <th>occup_bus</th>\n",
       "      <th>occup_total</th>\n",
       "      <th>profit</th>\n",
       "      <th>profitability</th>\n",
       "      <th>flight_distance</th>\n",
       "    </tr>\n",
       "  </thead>\n",
       "  <tbody>\n",
       "    <tr>\n",
       "      <th>2</th>\n",
       "      <td>136122</td>\n",
       "      <td>87.0</td>\n",
       "      <td>1065000.0</td>\n",
       "      <td>10.0</td>\n",
       "      <td>366000.0</td>\n",
       "      <td>97.0</td>\n",
       "      <td>1431000.0</td>\n",
       "      <td>2017-01-08 10:05:00</td>\n",
       "      <td>2017-01-08 11:45:00</td>\n",
       "      <td>100.0</td>\n",
       "      <td>...</td>\n",
       "      <td>130</td>\n",
       "      <td>4200</td>\n",
       "      <td>4333</td>\n",
       "      <td>433300.0</td>\n",
       "      <td>73.728814</td>\n",
       "      <td>83.333333</td>\n",
       "      <td>74.615385</td>\n",
       "      <td>997700.0</td>\n",
       "      <td>69.720475</td>\n",
       "      <td>1220</td>\n",
       "    </tr>\n",
       "    <tr>\n",
       "      <th>4</th>\n",
       "      <td>136360</td>\n",
       "      <td>86.0</td>\n",
       "      <td>1052800.0</td>\n",
       "      <td>11.0</td>\n",
       "      <td>402600.0</td>\n",
       "      <td>97.0</td>\n",
       "      <td>1455400.0</td>\n",
       "      <td>2017-02-05 10:05:00</td>\n",
       "      <td>2017-02-05 11:45:00</td>\n",
       "      <td>100.0</td>\n",
       "      <td>...</td>\n",
       "      <td>130</td>\n",
       "      <td>4200</td>\n",
       "      <td>4333</td>\n",
       "      <td>433300.0</td>\n",
       "      <td>72.881356</td>\n",
       "      <td>91.666667</td>\n",
       "      <td>74.615385</td>\n",
       "      <td>1022100.0</td>\n",
       "      <td>70.228116</td>\n",
       "      <td>1220</td>\n",
       "    </tr>\n",
       "    <tr>\n",
       "      <th>28</th>\n",
       "      <td>136807</td>\n",
       "      <td>60.0</td>\n",
       "      <td>379800.0</td>\n",
       "      <td>8.0</td>\n",
       "      <td>151200.0</td>\n",
       "      <td>68.0</td>\n",
       "      <td>531000.0</td>\n",
       "      <td>2017-02-23 09:25:00</td>\n",
       "      <td>2017-02-23 10:15:00</td>\n",
       "      <td>50.0</td>\n",
       "      <td>...</td>\n",
       "      <td>97</td>\n",
       "      <td>3000</td>\n",
       "      <td>2833</td>\n",
       "      <td>141650.0</td>\n",
       "      <td>70.588235</td>\n",
       "      <td>66.666667</td>\n",
       "      <td>70.103093</td>\n",
       "      <td>389350.0</td>\n",
       "      <td>73.323917</td>\n",
       "      <td>629</td>\n",
       "    </tr>\n",
       "    <tr>\n",
       "      <th>33</th>\n",
       "      <td>136642</td>\n",
       "      <td>54.0</td>\n",
       "      <td>342000.0</td>\n",
       "      <td>10.0</td>\n",
       "      <td>189000.0</td>\n",
       "      <td>64.0</td>\n",
       "      <td>531000.0</td>\n",
       "      <td>2017-01-30 09:25:00</td>\n",
       "      <td>2017-01-30 10:15:00</td>\n",
       "      <td>50.0</td>\n",
       "      <td>...</td>\n",
       "      <td>97</td>\n",
       "      <td>3000</td>\n",
       "      <td>2833</td>\n",
       "      <td>138817.0</td>\n",
       "      <td>63.529412</td>\n",
       "      <td>83.333333</td>\n",
       "      <td>65.979381</td>\n",
       "      <td>392183.0</td>\n",
       "      <td>73.857439</td>\n",
       "      <td>629</td>\n",
       "    </tr>\n",
       "  </tbody>\n",
       "</table>\n",
       "<p>4 rows × 32 columns</p>\n",
       "</div>"
      ],
      "text/plain": [
       "    flight_id  econ_sold  amount_sum_econ  bus_sold  amount_sum_bus  \\\n",
       "2      136122       87.0        1065000.0      10.0        366000.0   \n",
       "4      136360       86.0        1052800.0      11.0        402600.0   \n",
       "28     136807       60.0         379800.0       8.0        151200.0   \n",
       "33     136642       54.0         342000.0      10.0        189000.0   \n",
       "\n",
       "    total_tickets_sold  total_amount scheduled_departure   scheduled_arrival  \\\n",
       "2                 97.0     1431000.0 2017-01-08 10:05:00 2017-01-08 11:45:00   \n",
       "4                 97.0     1455400.0 2017-02-05 10:05:00 2017-02-05 11:45:00   \n",
       "28                68.0      531000.0 2017-02-23 09:25:00 2017-02-23 10:15:00   \n",
       "33                64.0      531000.0 2017-01-30 09:25:00 2017-01-30 10:15:00   \n",
       "\n",
       "    scheduled_time_flight  ... total_seats range  fly_cost flight_cost  \\\n",
       "2                   100.0  ...         130  4200      4333    433300.0   \n",
       "4                   100.0  ...         130  4200      4333    433300.0   \n",
       "28                   50.0  ...          97  3000      2833    141650.0   \n",
       "33                   50.0  ...          97  3000      2833    138817.0   \n",
       "\n",
       "    occup_econ  occup_bus occup_total     profit  profitability  \\\n",
       "2    73.728814  83.333333   74.615385   997700.0      69.720475   \n",
       "4    72.881356  91.666667   74.615385  1022100.0      70.228116   \n",
       "28   70.588235  66.666667   70.103093   389350.0      73.323917   \n",
       "33   63.529412  83.333333   65.979381   392183.0      73.857439   \n",
       "\n",
       "   flight_distance  \n",
       "2             1220  \n",
       "4             1220  \n",
       "28             629  \n",
       "33             629  \n",
       "\n",
       "[4 rows x 32 columns]"
      ]
     },
     "execution_count": 36,
     "metadata": {},
     "output_type": "execute_result"
    }
   ],
   "source": [
    "data[data['occup_total'] < 75]"
   ]
  },
  {
   "cell_type": "code",
   "execution_count": 39,
   "metadata": {},
   "outputs": [
    {
     "data": {
      "text/plain": [
       "2     136122\n",
       "4     136360\n",
       "28    136807\n",
       "33    136642\n",
       "Name: flight_id, dtype: int64"
      ]
     },
     "execution_count": 39,
     "metadata": {},
     "output_type": "execute_result"
    }
   ],
   "source": [
    "data['flight_id'][data['occup_total'] < 75]"
   ]
  },
  {
   "cell_type": "markdown",
   "metadata": {},
   "source": [
    "## Как видим, всего 4 рейса."
   ]
  },
  {
   "cell_type": "markdown",
   "metadata": {},
   "source": [
    "## Посмотрим рейсы, с рентабельностью менее 70%"
   ]
  },
  {
   "cell_type": "code",
   "execution_count": 43,
   "metadata": {
    "scrolled": false
   },
   "outputs": [
    {
     "data": {
      "text/html": [
       "<div>\n",
       "<style scoped>\n",
       "    .dataframe tbody tr th:only-of-type {\n",
       "        vertical-align: middle;\n",
       "    }\n",
       "\n",
       "    .dataframe tbody tr th {\n",
       "        vertical-align: top;\n",
       "    }\n",
       "\n",
       "    .dataframe thead th {\n",
       "        text-align: right;\n",
       "    }\n",
       "</style>\n",
       "<table border=\"1\" class=\"dataframe\">\n",
       "  <thead>\n",
       "    <tr style=\"text-align: right;\">\n",
       "      <th></th>\n",
       "      <th>flight_id</th>\n",
       "      <th>econ_sold</th>\n",
       "      <th>amount_sum_econ</th>\n",
       "      <th>bus_sold</th>\n",
       "      <th>amount_sum_bus</th>\n",
       "      <th>total_tickets_sold</th>\n",
       "      <th>total_amount</th>\n",
       "      <th>scheduled_departure</th>\n",
       "      <th>scheduled_arrival</th>\n",
       "      <th>scheduled_time_flight</th>\n",
       "      <th>...</th>\n",
       "      <th>total_seats</th>\n",
       "      <th>range</th>\n",
       "      <th>fly_cost</th>\n",
       "      <th>flight_cost</th>\n",
       "      <th>occup_econ</th>\n",
       "      <th>occup_bus</th>\n",
       "      <th>occup_total</th>\n",
       "      <th>profit</th>\n",
       "      <th>profitability</th>\n",
       "      <th>flight_distance</th>\n",
       "    </tr>\n",
       "  </thead>\n",
       "  <tbody>\n",
       "    <tr>\n",
       "      <th>0</th>\n",
       "      <td>136250</td>\n",
       "      <td>91.0</td>\n",
       "      <td>1115000.0</td>\n",
       "      <td>8.0</td>\n",
       "      <td>292800.0</td>\n",
       "      <td>99.0</td>\n",
       "      <td>1407800.0</td>\n",
       "      <td>2017-02-08 10:05:00</td>\n",
       "      <td>2017-02-08 11:45:00</td>\n",
       "      <td>100.0</td>\n",
       "      <td>...</td>\n",
       "      <td>130</td>\n",
       "      <td>4200</td>\n",
       "      <td>4333</td>\n",
       "      <td>437633.0</td>\n",
       "      <td>77.118644</td>\n",
       "      <td>66.666667</td>\n",
       "      <td>76.153846</td>\n",
       "      <td>970167.0</td>\n",
       "      <td>68.913695</td>\n",
       "      <td>1220</td>\n",
       "    </tr>\n",
       "    <tr>\n",
       "      <th>1</th>\n",
       "      <td>136464</td>\n",
       "      <td>93.0</td>\n",
       "      <td>1141800.0</td>\n",
       "      <td>7.0</td>\n",
       "      <td>256200.0</td>\n",
       "      <td>100.0</td>\n",
       "      <td>1398000.0</td>\n",
       "      <td>2017-01-09 10:05:00</td>\n",
       "      <td>2017-01-09 11:45:00</td>\n",
       "      <td>100.0</td>\n",
       "      <td>...</td>\n",
       "      <td>130</td>\n",
       "      <td>4200</td>\n",
       "      <td>4333</td>\n",
       "      <td>433300.0</td>\n",
       "      <td>78.813559</td>\n",
       "      <td>58.333333</td>\n",
       "      <td>76.923077</td>\n",
       "      <td>964700.0</td>\n",
       "      <td>69.005722</td>\n",
       "      <td>1220</td>\n",
       "    </tr>\n",
       "    <tr>\n",
       "      <th>2</th>\n",
       "      <td>136122</td>\n",
       "      <td>87.0</td>\n",
       "      <td>1065000.0</td>\n",
       "      <td>10.0</td>\n",
       "      <td>366000.0</td>\n",
       "      <td>97.0</td>\n",
       "      <td>1431000.0</td>\n",
       "      <td>2017-01-08 10:05:00</td>\n",
       "      <td>2017-01-08 11:45:00</td>\n",
       "      <td>100.0</td>\n",
       "      <td>...</td>\n",
       "      <td>130</td>\n",
       "      <td>4200</td>\n",
       "      <td>4333</td>\n",
       "      <td>433300.0</td>\n",
       "      <td>73.728814</td>\n",
       "      <td>83.333333</td>\n",
       "      <td>74.615385</td>\n",
       "      <td>997700.0</td>\n",
       "      <td>69.720475</td>\n",
       "      <td>1220</td>\n",
       "    </tr>\n",
       "  </tbody>\n",
       "</table>\n",
       "<p>3 rows × 32 columns</p>\n",
       "</div>"
      ],
      "text/plain": [
       "   flight_id  econ_sold  amount_sum_econ  bus_sold  amount_sum_bus  \\\n",
       "0     136250       91.0        1115000.0       8.0        292800.0   \n",
       "1     136464       93.0        1141800.0       7.0        256200.0   \n",
       "2     136122       87.0        1065000.0      10.0        366000.0   \n",
       "\n",
       "   total_tickets_sold  total_amount scheduled_departure   scheduled_arrival  \\\n",
       "0                99.0     1407800.0 2017-02-08 10:05:00 2017-02-08 11:45:00   \n",
       "1               100.0     1398000.0 2017-01-09 10:05:00 2017-01-09 11:45:00   \n",
       "2                97.0     1431000.0 2017-01-08 10:05:00 2017-01-08 11:45:00   \n",
       "\n",
       "   scheduled_time_flight  ... total_seats range  fly_cost flight_cost  \\\n",
       "0                  100.0  ...         130  4200      4333    437633.0   \n",
       "1                  100.0  ...         130  4200      4333    433300.0   \n",
       "2                  100.0  ...         130  4200      4333    433300.0   \n",
       "\n",
       "   occup_econ  occup_bus occup_total    profit  profitability flight_distance  \n",
       "0   77.118644  66.666667   76.153846  970167.0      68.913695            1220  \n",
       "1   78.813559  58.333333   76.923077  964700.0      69.005722            1220  \n",
       "2   73.728814  83.333333   74.615385  997700.0      69.720475            1220  \n",
       "\n",
       "[3 rows x 32 columns]"
      ]
     },
     "execution_count": 43,
     "metadata": {},
     "output_type": "execute_result"
    }
   ],
   "source": [
    "data[data['profitability'] < 70]"
   ]
  },
  {
   "cell_type": "code",
   "execution_count": 40,
   "metadata": {},
   "outputs": [
    {
     "data": {
      "text/plain": [
       "0    136250\n",
       "1    136464\n",
       "2    136122\n",
       "Name: flight_id, dtype: int64"
      ]
     },
     "execution_count": 40,
     "metadata": {},
     "output_type": "execute_result"
    }
   ],
   "source": [
    "data['flight_id'][data['profitability'] < 70]"
   ]
  },
  {
   "cell_type": "code",
   "execution_count": 38,
   "metadata": {
    "scrolled": true
   },
   "outputs": [
    {
     "data": {
      "text/plain": [
       "0    Boeing 737-300\n",
       "1    Boeing 737-300\n",
       "2    Boeing 737-300\n",
       "Name: model, dtype: object"
      ]
     },
     "execution_count": 38,
     "metadata": {},
     "output_type": "execute_result"
    }
   ],
   "source": [
    "data['model'][data['profitability'] < 70]"
   ]
  },
  {
   "cell_type": "markdown",
   "metadata": {},
   "source": [
    "## Всего три рейса, и все на Боинге, в Москву."
   ]
  },
  {
   "cell_type": "code",
   "execution_count": 45,
   "metadata": {},
   "outputs": [
    {
     "data": {
      "text/plain": [
       "1220"
      ]
     },
     "execution_count": 45,
     "metadata": {},
     "output_type": "execute_result"
    }
   ],
   "source": [
    "data['flight_distance'][data['arrival_cit'] == 'Moscow'].max()"
   ]
  },
  {
   "cell_type": "code",
   "execution_count": 46,
   "metadata": {},
   "outputs": [
    {
     "data": {
      "text/plain": [
       "3000"
      ]
     },
     "execution_count": 46,
     "metadata": {},
     "output_type": "execute_result"
    }
   ],
   "source": [
    "data['range'][data['model'] == 'Sukhoi Superjet-100'].max()"
   ]
  },
  {
   "cell_type": "markdown",
   "metadata": {},
   "source": [
    "## Рейсы в Белгород, можно отменить в количестве 1-2 штук, тем самым попробовать повыить заполняемость и рентабельность."
   ]
  },
  {
   "cell_type": "markdown",
   "metadata": {},
   "source": [
    "## Есть предложение, рассчитать какие будут показатели, если на рейс в Москву поставить самолет Суперджет. Расстояние до Москвы 1220км, максимальная дальность Суперджета 3000км. Я расчитываю, что заполняемость будет максимальная, так как в Суперджете меньше мест. А так же у него мельше расход топлива, чем у боинга, плюс обслуживание отечественного самолета, должно обходится дешевле."
   ]
  },
  {
   "cell_type": "markdown",
   "metadata": {},
   "source": [
    "## Создадим датасет для расчетов"
   ]
  },
  {
   "cell_type": "code",
   "execution_count": 54,
   "metadata": {},
   "outputs": [],
   "source": [
    "data_sukhoi = data[['flight_id', 'actual_time_flight', 'model', 'profit',\n",
    "       'profitability', 'flight_distance']].copy()"
   ]
  },
  {
   "cell_type": "code",
   "execution_count": 55,
   "metadata": {},
   "outputs": [],
   "source": [
    "data_sukhoi = data_sukhoi[data_sukhoi['model'] == 'Boeing 737-300']"
   ]
  },
  {
   "cell_type": "markdown",
   "metadata": {},
   "source": [
    "## Рассчитаем среднюю стоимость билетов в эконом-класс"
   ]
  },
  {
   "cell_type": "code",
   "execution_count": 56,
   "metadata": {},
   "outputs": [
    {
     "data": {
      "text/plain": [
       "12259.663032705648"
      ]
     },
     "execution_count": 56,
     "metadata": {},
     "output_type": "execute_result"
    }
   ],
   "source": [
    "(data['amount_sum_econ'][data['model'] == 'Boeing 737-300'].mean()/\n",
    "data['econ_sold'][data['model'] == 'Boeing 737-300'].mean())"
   ]
  },
  {
   "cell_type": "markdown",
   "metadata": {},
   "source": [
    "## Рассчитаем среднюю стоимость билетов в бизнесс-класс"
   ]
  },
  {
   "cell_type": "code",
   "execution_count": 57,
   "metadata": {},
   "outputs": [
    {
     "data": {
      "text/plain": [
       "12252.747252747253"
      ]
     },
     "execution_count": 57,
     "metadata": {},
     "output_type": "execute_result"
    }
   ],
   "source": [
    "econ_cost = (data['amount_sum_econ'][data['model'] == 'Boeing 737-300'][0]/\n",
    "data['econ_sold'][data['model'] == 'Boeing 737-300'][0])\n",
    "econ_cost"
   ]
  },
  {
   "cell_type": "code",
   "execution_count": 58,
   "metadata": {},
   "outputs": [
    {
     "data": {
      "text/plain": [
       "36600.0"
      ]
     },
     "execution_count": 58,
     "metadata": {},
     "output_type": "execute_result"
    }
   ],
   "source": [
    "bus_cost = (data['amount_sum_bus'][data['model'] == 'Boeing 737-300'][0]/\n",
    "data['bus_sold'][data['model'] == 'Boeing 737-300'][0])\n",
    "bus_cost"
   ]
  },
  {
   "cell_type": "markdown",
   "metadata": {},
   "source": [
    "## Расчитаем выручку"
   ]
  },
  {
   "cell_type": "code",
   "execution_count": 59,
   "metadata": {},
   "outputs": [],
   "source": [
    "data_sukhoi['amount_if_suh'] = 85 * econ_cost + 12 * bus_cost"
   ]
  },
  {
   "cell_type": "markdown",
   "metadata": {},
   "source": [
    "## Расчитаем расходы на полет"
   ]
  },
  {
   "cell_type": "code",
   "execution_count": 60,
   "metadata": {
    "scrolled": false
   },
   "outputs": [],
   "source": [
    "data_sukhoi['flight_cost_if_suh'] = data_sukhoi['actual_time_flight'] * 2833"
   ]
  },
  {
   "cell_type": "markdown",
   "metadata": {},
   "source": [
    "## Расчитаем прибыль"
   ]
  },
  {
   "cell_type": "code",
   "execution_count": 61,
   "metadata": {
    "scrolled": true
   },
   "outputs": [],
   "source": [
    "data_sukhoi['profit_if_suh'] = data_sukhoi['amount_if_suh'] - data_sukhoi['flight_cost_if_suh']"
   ]
  },
  {
   "cell_type": "markdown",
   "metadata": {},
   "source": [
    "## Расчитаем разницу прибыли при боинге и сухом"
   ]
  },
  {
   "cell_type": "code",
   "execution_count": 62,
   "metadata": {
    "scrolled": true
   },
   "outputs": [],
   "source": [
    "data_sukhoi['delta_profit'] = data_sukhoi['profit_if_suh'] - data_sukhoi['profit']"
   ]
  },
  {
   "cell_type": "markdown",
   "metadata": {},
   "source": [
    "## Расчитаем изменение прибыли"
   ]
  },
  {
   "cell_type": "code",
   "execution_count": 64,
   "metadata": {},
   "outputs": [
    {
     "data": {
      "text/plain": [
       "-1.0038747766654117"
      ]
     },
     "execution_count": 64,
     "metadata": {},
     "output_type": "execute_result"
    }
   ],
   "source": [
    "data_sukhoi['delta_profit'].sum() / data['profit'][data['model'] == 'Boeing 737-300'].sum() * 100"
   ]
  },
  {
   "cell_type": "markdown",
   "metadata": {},
   "source": [
    "## Прибыль снизится на 1%"
   ]
  },
  {
   "cell_type": "markdown",
   "metadata": {},
   "source": [
    "## Расчитаем прибыльность и ее изменение"
   ]
  },
  {
   "cell_type": "code",
   "execution_count": 67,
   "metadata": {
    "scrolled": true
   },
   "outputs": [],
   "source": [
    "data_sukhoi['profitab_if_suh'] = data_sukhoi['profit_if_suh'] / data_sukhoi['amount_if_suh'] * 100"
   ]
  },
  {
   "cell_type": "code",
   "execution_count": 68,
   "metadata": {},
   "outputs": [],
   "source": [
    "data_sukhoi['delta_profitab'] = data_sukhoi['profitab_if_suh'] - data_sukhoi['profitability']"
   ]
  },
  {
   "cell_type": "code",
   "execution_count": 69,
   "metadata": {
    "scrolled": true
   },
   "outputs": [
    {
     "data": {
      "text/plain": [
       "7.408322667751242"
      ]
     },
     "execution_count": 69,
     "metadata": {},
     "output_type": "execute_result"
    }
   ],
   "source": [
    "data_sukhoi['delta_profitab'].mean()"
   ]
  },
  {
   "cell_type": "markdown",
   "metadata": {},
   "source": [
    "## А прибыльность увеличится на 7.4%"
   ]
  },
  {
   "cell_type": "code",
   "execution_count": 70,
   "metadata": {
    "scrolled": true
   },
   "outputs": [
    {
     "data": {
      "text/html": [
       "<div>\n",
       "<style scoped>\n",
       "    .dataframe tbody tr th:only-of-type {\n",
       "        vertical-align: middle;\n",
       "    }\n",
       "\n",
       "    .dataframe tbody tr th {\n",
       "        vertical-align: top;\n",
       "    }\n",
       "\n",
       "    .dataframe thead th {\n",
       "        text-align: right;\n",
       "    }\n",
       "</style>\n",
       "<table border=\"1\" class=\"dataframe\">\n",
       "  <thead>\n",
       "    <tr style=\"text-align: right;\">\n",
       "      <th></th>\n",
       "      <th>flight_id</th>\n",
       "      <th>actual_time_flight</th>\n",
       "      <th>model</th>\n",
       "      <th>profit</th>\n",
       "      <th>profitability</th>\n",
       "      <th>flight_distance</th>\n",
       "      <th>amount_if_suh</th>\n",
       "      <th>flight_cost_if_suh</th>\n",
       "      <th>profit_if_suh</th>\n",
       "      <th>delta_profit</th>\n",
       "      <th>profitab_if_suh</th>\n",
       "      <th>delta_profitab</th>\n",
       "    </tr>\n",
       "  </thead>\n",
       "  <tbody>\n",
       "    <tr>\n",
       "      <th>0</th>\n",
       "      <td>136250</td>\n",
       "      <td>101.0</td>\n",
       "      <td>Boeing 737-300</td>\n",
       "      <td>970167.0</td>\n",
       "      <td>68.913695</td>\n",
       "      <td>1220</td>\n",
       "      <td>1.480684e+06</td>\n",
       "      <td>286133.0</td>\n",
       "      <td>1.194551e+06</td>\n",
       "      <td>224383.516484</td>\n",
       "      <td>80.675614</td>\n",
       "      <td>11.761919</td>\n",
       "    </tr>\n",
       "    <tr>\n",
       "      <th>1</th>\n",
       "      <td>136464</td>\n",
       "      <td>100.0</td>\n",
       "      <td>Boeing 737-300</td>\n",
       "      <td>964700.0</td>\n",
       "      <td>69.005722</td>\n",
       "      <td>1220</td>\n",
       "      <td>1.480684e+06</td>\n",
       "      <td>283300.0</td>\n",
       "      <td>1.197384e+06</td>\n",
       "      <td>232683.516484</td>\n",
       "      <td>80.866944</td>\n",
       "      <td>11.861222</td>\n",
       "    </tr>\n",
       "    <tr>\n",
       "      <th>2</th>\n",
       "      <td>136122</td>\n",
       "      <td>100.0</td>\n",
       "      <td>Boeing 737-300</td>\n",
       "      <td>997700.0</td>\n",
       "      <td>69.720475</td>\n",
       "      <td>1220</td>\n",
       "      <td>1.480684e+06</td>\n",
       "      <td>283300.0</td>\n",
       "      <td>1.197384e+06</td>\n",
       "      <td>199683.516484</td>\n",
       "      <td>80.866944</td>\n",
       "      <td>11.146469</td>\n",
       "    </tr>\n",
       "    <tr>\n",
       "      <th>3</th>\n",
       "      <td>136178</td>\n",
       "      <td>99.0</td>\n",
       "      <td>Boeing 737-300</td>\n",
       "      <td>1005633.0</td>\n",
       "      <td>70.098494</td>\n",
       "      <td>1220</td>\n",
       "      <td>1.480684e+06</td>\n",
       "      <td>280467.0</td>\n",
       "      <td>1.200217e+06</td>\n",
       "      <td>194583.516484</td>\n",
       "      <td>81.058275</td>\n",
       "      <td>10.959781</td>\n",
       "    </tr>\n",
       "    <tr>\n",
       "      <th>4</th>\n",
       "      <td>136360</td>\n",
       "      <td>100.0</td>\n",
       "      <td>Boeing 737-300</td>\n",
       "      <td>1022100.0</td>\n",
       "      <td>70.228116</td>\n",
       "      <td>1220</td>\n",
       "      <td>1.480684e+06</td>\n",
       "      <td>283300.0</td>\n",
       "      <td>1.197384e+06</td>\n",
       "      <td>175283.516484</td>\n",
       "      <td>80.866944</td>\n",
       "      <td>10.638828</td>\n",
       "    </tr>\n",
       "  </tbody>\n",
       "</table>\n",
       "</div>"
      ],
      "text/plain": [
       "   flight_id  actual_time_flight           model     profit  profitability  \\\n",
       "0     136250               101.0  Boeing 737-300   970167.0      68.913695   \n",
       "1     136464               100.0  Boeing 737-300   964700.0      69.005722   \n",
       "2     136122               100.0  Boeing 737-300   997700.0      69.720475   \n",
       "3     136178                99.0  Boeing 737-300  1005633.0      70.098494   \n",
       "4     136360               100.0  Boeing 737-300  1022100.0      70.228116   \n",
       "\n",
       "   flight_distance  amount_if_suh  flight_cost_if_suh  profit_if_suh  \\\n",
       "0             1220   1.480684e+06            286133.0   1.194551e+06   \n",
       "1             1220   1.480684e+06            283300.0   1.197384e+06   \n",
       "2             1220   1.480684e+06            283300.0   1.197384e+06   \n",
       "3             1220   1.480684e+06            280467.0   1.200217e+06   \n",
       "4             1220   1.480684e+06            283300.0   1.197384e+06   \n",
       "\n",
       "    delta_profit  profitab_if_suh  delta_profitab  \n",
       "0  224383.516484        80.675614       11.761919  \n",
       "1  232683.516484        80.866944       11.861222  \n",
       "2  199683.516484        80.866944       11.146469  \n",
       "3  194583.516484        81.058275       10.959781  \n",
       "4  175283.516484        80.866944       10.638828  "
      ]
     },
     "execution_count": 70,
     "metadata": {},
     "output_type": "execute_result"
    }
   ],
   "source": [
    "data_sukhoi.head()"
   ]
  },
  {
   "cell_type": "code",
   "execution_count": 71,
   "metadata": {},
   "outputs": [],
   "source": [
    "data_sukhoi.to_excel('for_ppt.xlsx')"
   ]
  }
 ],
 "metadata": {
  "kernelspec": {
   "display_name": "Python 3",
   "language": "python",
   "name": "python3"
  },
  "language_info": {
   "codemirror_mode": {
    "name": "ipython",
    "version": 3
   },
   "file_extension": ".py",
   "mimetype": "text/x-python",
   "name": "python",
   "nbconvert_exporter": "python",
   "pygments_lexer": "ipython3",
   "version": "3.8.5"
  }
 },
 "nbformat": 4,
 "nbformat_minor": 4
}

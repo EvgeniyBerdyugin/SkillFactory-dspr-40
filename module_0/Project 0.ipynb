{
 "cells": [
  {
   "cell_type": "code",
   "execution_count": 40,
   "metadata": {},
   "outputs": [
    {
     "name": "stdout",
     "output_type": "stream",
     "text": [
      "Загадано число от 1 до 100\n",
      "66\n",
      "Угадываемое число меньше 66 \n",
      "50\n",
      "Угадываемое число больше 50 \n",
      "55\n",
      "Угадываемое число больше 55 \n",
      "60\n",
      "Угадываемое число больше 60 \n",
      "63\n",
      "Угадываемое число меньше 63 \n",
      "61\n",
      "Угадываемое число больше 61 \n",
      "62\n",
      "Вы угадали число 62 за 7 попыток.\n"
     ]
    }
   ],
   "source": [
    "import numpy as np\n",
    "\n",
    "\n",
    "number = np.random.randint(1,101)   # загадали число\n",
    "print (\"Загадано число от 1 до 100\")\n",
    "    \n",
    "cnt = 0                            # счетчик попыток\n",
    "while True:                        # бесконечный цикл\n",
    "    predict = int(input())         # предполагаемое число\n",
    "    cnt += 1                     # плюсуем попытку\n",
    "    if number == predict: break    # выход из цикла, если угадали\n",
    "    elif number > predict: print (f\"Угадываемое число больше {predict} \")\n",
    "    elif number < predict: print (f\"Угадываемое число меньше {predict} \")\n",
    "            \n",
    "print (f\"Вы угадали число {number} за {cnt} попыток.\")"
   ]
  },
  {
   "cell_type": "code",
   "execution_count": 42,
   "metadata": {},
   "outputs": [
    {
     "name": "stdout",
     "output_type": "stream",
     "text": [
      "Загадано число от 1 до 100\n",
      "Вы угадали число 80 за 80 попыток.\n"
     ]
    }
   ],
   "source": [
    "import numpy as np\n",
    "\n",
    "number = np.random.randint(1,101)      # загадали число\n",
    "print (\"Загадано число от 1 до 100\")\n",
    "for count in range(1,101):         # более компактный вариант счетчика\n",
    "    if number == count: break      # выход из цикла, если угадали      \n",
    "print (f\"Вы угадали число {number} за {count} попыток.\")    "
   ]
  },
  {
   "cell_type": "code",
   "execution_count": 37,
   "metadata": {},
   "outputs": [
    {
     "name": "stdout",
     "output_type": "stream",
     "text": [
      "Ваш алгоритм угадывает число в среднем за 101 попыток\n"
     ]
    },
    {
     "data": {
      "text/plain": [
       "101"
      ]
     },
     "execution_count": 37,
     "metadata": {},
     "output_type": "execute_result"
    }
   ],
   "source": [
    "def game_core_v1(number):\n",
    "    '''Просто угадываем на random, никак не используя информацию о больше или меньше.\n",
    "       Функция принимает загаданное число и возвращает число попыток'''\n",
    "    count = 0\n",
    "    while True:\n",
    "        count+=1\n",
    "        predict = np.random.randint(1,101) # предполагаемое число\n",
    "        if number == predict: \n",
    "            return count # выход из цикла, если угадали\n",
    "        \n",
    "        \n",
    "def score_game(game_core):\n",
    "    '''Запускаем игру 1000 раз, чтобы узнать, как быстро игра угадывает число'''\n",
    "    count_ls = []\n",
    "    np.random.seed(1)  # фиксируем RANDOM SEED, чтобы ваш эксперимент был воспроизводим!\n",
    "    random_array = np.random.randint(1,101, size=(1000))\n",
    "    for number in random_array:\n",
    "        count_ls.append(game_core(number))\n",
    "    score = int(np.mean(count_ls))\n",
    "    print(f\"Ваш алгоритм угадывает число в среднем за {score} попыток\")\n",
    "    return(score)\n",
    "\n",
    "game_core_v1(number)\n",
    "score_game(game_core_v1)"
   ]
  },
  {
   "cell_type": "code",
   "execution_count": 61,
   "metadata": {},
   "outputs": [
    {
     "name": "stdout",
     "output_type": "stream",
     "text": [
      "Ваш алгоритм угадывает число в среднем за 34 попыток\n"
     ]
    },
    {
     "data": {
      "text/plain": [
       "34"
      ]
     },
     "execution_count": 61,
     "metadata": {},
     "output_type": "execute_result"
    }
   ],
   "source": [
    "def game_core_v2(number):\n",
    "    '''Сначала устанавливаем любое random число, а потом уменьшаем или увеличиваем его в зависимости от того, больше оно или меньше нужного.\n",
    "       Функция принимает загаданное число и возвращает число попыток'''\n",
    "    count = 1\n",
    "    predict = np.random.randint(1,101)\n",
    "    while number != predict:\n",
    "        count+=1\n",
    "        if number > predict: \n",
    "            predict += 1\n",
    "        elif number < predict: \n",
    "            predict -= 1\n",
    "    return(count) # выход из цикла, если угадали\n",
    "\n",
    "def score_game(game_core):\n",
    "    '''Запускаем игру 1000 раз, чтобы узнать, как быстро игра угадывает число'''\n",
    "    count_ls = []\n",
    "    np.random.seed(1)  # фиксируем RANDOM SEED, чтобы ваш эксперимент был воспроизводим!\n",
    "    random_array = np.random.randint(1,101, size=(1000))\n",
    "    for number in random_array:\n",
    "        count_ls.append(game_core(number))\n",
    "    score = int(np.mean(count_ls))\n",
    "    print(f\"Ваш алгоритм угадывает число в среднем за {score} попыток\")\n",
    "    return(score)\n",
    "\n",
    "score_game(game_core_v2)"
   ]
  },
  {
   "cell_type": "code",
   "execution_count": 83,
   "metadata": {},
   "outputs": [
    {
     "data": {
      "text/plain": [
       "7"
      ]
     },
     "execution_count": 83,
     "metadata": {},
     "output_type": "execute_result"
    }
   ],
   "source": [
    "'''Делаем третью версию алгоритма угадывания числа'''\n",
    "def game_core_v3(number):\n",
    "    count = 1\n",
    "    a = 1\n",
    "    b = 101\n",
    "    predict = np.random.randint(a,b)\n",
    "    while predict != number:\n",
    "        count += 1\n",
    "        predict = np.random.randint(a,b)\n",
    "        if predict > number:\n",
    "            b = predict\n",
    "        else:\n",
    "            a = predict\n",
    "    return(count)\n",
    "game_core_v3(50)"
   ]
  },
  {
   "cell_type": "code",
   "execution_count": 3,
   "metadata": {},
   "outputs": [
    {
     "name": "stdout",
     "output_type": "stream",
     "text": [
      "Ваш алгоритм угадывает число в среднем за 9 попыток\n"
     ]
    },
    {
     "data": {
      "text/plain": [
       "9"
      ]
     },
     "execution_count": 3,
     "metadata": {},
     "output_type": "execute_result"
    }
   ],
   "source": [
    "# game_core_v3\n",
    "import numpy as np\n",
    "\n",
    "\n",
    "def game_core_v3(number):\n",
    "    '''Делаем третью версию алгоритма угадывания числа, угадывая число,\n",
    "    но каждый раз сокращая интервал, в зависимости от того,\n",
    "    больше или меньше искомое число, от предсказанного нами'''\n",
    "    count = 1                     # Задаем счетчик\n",
    "    num_min = 1                   # Задаем начало интервала угадывания\n",
    "    num_max = 101                 # Задаем верх интервала угадывания\n",
    "    \n",
    "    predict = np.random.randint(num_min, num_max) # предполагаемое число\n",
    "    while predict != number:                     # бесконечный цикл\n",
    "        count += 1                               # добавляем счетчик\n",
    "        predict = np.random.randint(num_min, num_max) # снова угадываем число\n",
    "        if predict > number:        # сравниваем угаданное число,с загаданным\n",
    "# если предполагаемое число больше, то принимаем его за верхний предел\n",
    "            num_max = predict\n",
    "# если предполагаемое число меньше, то принимаем его за нижний предел\n",
    "        else:\n",
    "            num_min = predict\n",
    "    \n",
    "    return(count) # выход из цикла, если угадали\n",
    "\n",
    "def score_game(game_core):\n",
    "    '''Запускаем игру 1000 раз, чтобы узнать, как быстро игра угадывает число'''\n",
    "    count_ls = []\n",
    "    np.random.seed(1)  # фиксируем RANDOM SEED, чтобы ваш эксперимент был воспроизводим!\n",
    "    random_array = np.random.randint(1,101, size=(1000))\n",
    "    for number in random_array:\n",
    "        count_ls.append(game_core(number))\n",
    "    score = int(np.mean(count_ls))\n",
    "    print(f\"Ваш алгоритм угадывает число в среднем за {score} попыток\")\n",
    "    return(score)\n",
    "\n",
    "score_game(game_core_v3)"
   ]
  },
  {
   "cell_type": "code",
   "execution_count": 177,
   "metadata": {},
   "outputs": [
    {
     "name": "stdout",
     "output_type": "stream",
     "text": [
      "b= 50\n",
      "a= 25\n",
      "a= 37\n",
      "a= 43\n",
      "a= 46\n",
      "a= 48\n"
     ]
    },
    {
     "data": {
      "text/plain": [
       "7"
      ]
     },
     "execution_count": 177,
     "metadata": {},
     "output_type": "execute_result"
    }
   ],
   "source": [
    "import math\n",
    "\n",
    "number = 49\n",
    "def game_core_v4(number):\n",
    "    count = 1\n",
    "    a = 1\n",
    "    b = 101\n",
    "    predict = int(((a-1)+(b-1))/2)\n",
    "    while predict != number:\n",
    "        count += 1\n",
    "        if predict > number:\n",
    "            b = predict\n",
    "            print(\"b=\", b)\n",
    "        else:\n",
    "            a = predict\n",
    "            print(\"a=\", a)\n",
    "        predict = math.ceil((a+b-1)/2)\n",
    "    else:\n",
    "        return(count)\n",
    "game_core_v4(number)"
   ]
  },
  {
   "cell_type": "code",
   "execution_count": 172,
   "metadata": {},
   "outputs": [
    {
     "data": {
      "text/plain": [
       "2"
      ]
     },
     "execution_count": 172,
     "metadata": {},
     "output_type": "execute_result"
    }
   ],
   "source": [
    "import math\n",
    "predict = math.ceil((1+3-1)/2)\n",
    "predict"
   ]
  },
  {
   "cell_type": "code",
   "execution_count": 179,
   "metadata": {},
   "outputs": [
    {
     "name": "stdout",
     "output_type": "stream",
     "text": [
      "Ваш алгоритм угадывает число в среднем за 5 попыток\n"
     ]
    },
    {
     "data": {
      "text/plain": [
       "5"
      ]
     },
     "execution_count": 179,
     "metadata": {},
     "output_type": "execute_result"
    }
   ],
   "source": [
    "import math\n",
    "\n",
    "number = 49\n",
    "def game_core_v4(number):\n",
    "    count = 1\n",
    "    a = 1\n",
    "    b = 101\n",
    "    predict = int(((a-1)+(b-1))/2)\n",
    "    while predict != number:\n",
    "        count += 1\n",
    "        if predict > number:\n",
    "            b = predict\n",
    "        \n",
    "        else:\n",
    "            a = predict\n",
    "            \n",
    "        predict = math.ceil((a+b-1)/2)\n",
    "    else:\n",
    "        return(count)\n",
    "game_core_v4(number)\n",
    "\n",
    "def score_game(game_core):\n",
    "    '''Запускаем игру 1000 раз, чтобы узнать, как быстро игра угадывает число'''\n",
    "    count_ls = []\n",
    "    np.random.seed(1)  # фиксируем RANDOM SEED, чтобы ваш эксперимент был воспроизводим!\n",
    "    random_array = np.random.randint(1,101, size=(1000))\n",
    "    for number in random_array:\n",
    "        count_ls.append(game_core(number))\n",
    "    score = int(np.mean(count_ls))\n",
    "    print(f\"Ваш алгоритм угадывает число в среднем за {score} попыток\")\n",
    "    return(score)\n",
    "\n",
    "score_game(game_core_v4)"
   ]
  },
  {
   "cell_type": "code",
   "execution_count": null,
   "metadata": {},
   "outputs": [],
   "source": []
  }
 ],
 "metadata": {
  "kernelspec": {
   "display_name": "Python 3",
   "language": "python",
   "name": "python3"
  },
  "language_info": {
   "codemirror_mode": {
    "name": "ipython",
    "version": 3
   },
   "file_extension": ".py",
   "mimetype": "text/x-python",
   "name": "python",
   "nbconvert_exporter": "python",
   "pygments_lexer": "ipython3",
   "version": "3.8.5"
  }
 },
 "nbformat": 4,
 "nbformat_minor": 4
}

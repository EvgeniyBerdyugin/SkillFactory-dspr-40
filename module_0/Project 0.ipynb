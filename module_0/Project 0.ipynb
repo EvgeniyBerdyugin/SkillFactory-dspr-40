{
 "cells": [
  {
   "cell_type": "code",
   "execution_count": 3,
   "metadata": {},
   "outputs": [
    {
     "name": "stdout",
     "output_type": "stream",
     "text": [
      "Ваш алгоритм угадывает число в среднем за 9 попыток\n"
     ]
    },
    {
     "data": {
      "text/plain": [
       "9"
      ]
     },
     "execution_count": 3,
     "metadata": {},
     "output_type": "execute_result"
    }
   ],
   "source": [
    "# game_core_v3\n",
    "import numpy as np\n",
    "\n",
    "\n",
    "def game_core_v3(number):\n",
    "    '''Делаем третью версию алгоритма угадывания числа, угадывая число,\n",
    "    но каждый раз сокращая интервал, в зависимости от того,\n",
    "    больше или меньше искомое число, от предсказанного нами'''\n",
    "    count = 1                     # Задаем счетчик\n",
    "    num_min = 1                   # Задаем начало интервала угадывания\n",
    "    num_max = 101                 # Задаем верх интервала угадывания\n",
    "    \n",
    "    predict = np.random.randint(num_min, num_max) # предполагаемое число\n",
    "    while predict != number:                     # бесконечный цикл\n",
    "        count += 1                               # прибавляем счетчик\n",
    "        predict = np.random.randint(num_min, num_max) # снова угадываем число\n",
    "        if predict > number:      # сравниваем угаданное число,с загаданным\n",
    "# если предполагаемое число больше, то принимаем его за верхний предел\n",
    "            num_max = predict\n",
    "# если предполагаемое число меньше, то принимаем его за нижний предел\n",
    "        else:\n",
    "            num_min = predict\n",
    "    \n",
    "    return(count) # выход из цикла, если угадали\n",
    "\n",
    "def score_game(game_core):\n",
    "    '''Запускаем игру 1000 раз, чтобы узнать,\n",
    "    как быстро игра угадывает число'''\n",
    "    count_ls = []\n",
    "    # фиксируем RANDOM SEED, чтобы ваш эксперимент был воспроизводим!\n",
    "    np.random.seed(1)\n",
    "    random_array = np.random.randint(1,101, size=(1000))\n",
    "    for number in random_array:\n",
    "        count_ls.append(game_core(number))\n",
    "    score = int(np.mean(count_ls))\n",
    "    print(f\"Ваш алгоритм угадывает число в среднем за {score} попыток\")\n",
    "    return(score)\n",
    "\n",
    "score_game(game_core_v3)"
   ]
  },
  {
   "cell_type": "code",
   "execution_count": 22,
   "metadata": {},
   "outputs": [
    {
     "name": "stdout",
     "output_type": "stream",
     "text": [
      "Ваш алгоритм угадывает число в среднем за 18 попыток\n"
     ]
    },
    {
     "data": {
      "text/plain": [
       "18"
      ]
     },
     "execution_count": 22,
     "metadata": {},
     "output_type": "execute_result"
    }
   ],
   "source": [
    "# game_core_v4\n",
    "import math\n",
    "\n",
    "\n",
    "import numpy as np\n",
    "\n",
    "\n",
    "def game_core_v4(number):\n",
    "    '''Делаем алгоритм, который циклично разбивает интервал пополам,\n",
    "    определяет в какой половине находится заданное число,\n",
    "    сокращая интевал до единтвенного верного числа'''\n",
    "    \n",
    "    count = 1                     # Задаем счетчик\n",
    "    num_min = 1                   # Задаем начало интервала угадывания\n",
    "    num_max = 101                 # Задаем верх интервала угадывания\n",
    "    # проверяем середину интервала\n",
    "    predict = int(((num_min - 1) + (num_max - 1))/2)\n",
    "    while predict != number:   # запускаем бесконечный цикл\n",
    "        count += 1             # прибавляем счетчик\n",
    "        if predict > number:   # сравниваем угаданное число,с загаданным\n",
    "# если середина интервала больше, то принимаем ее за верхний предел\n",
    "            num_max = predict\n",
    "# если середина интервала меньше, то принимаем его за нижний предел\n",
    "        else:\n",
    "            num_min = predict\n",
    "# ищем середину в получившемся интервале\n",
    "        predict = math.ceil((num_min+num_max-1)/2)\n",
    "    else:\n",
    "        return(count) # выход из цикла, если угадали\n",
    "\n",
    "\n",
    "def score_game(game_core):\n",
    "    '''Запускаем игру 1000 раз, чтобы узнать,\n",
    "    как быстро игра угадывает число'''\n",
    "    count_ls = []\n",
    "    # фиксируем RANDOM SEED, чтобы ваш эксперимент был воспроизводим!\n",
    "    np.random.seed(1)\n",
    "    random_array = np.random.randint(1,101, size=(1000))\n",
    "    for number in random_array:\n",
    "        count_ls.append(game_core(number))\n",
    "    score = int(np.mean(count_ls))\n",
    "    print(f\"Ваш алгоритм угадывает число в среднем за {score} попыток\")\n",
    "    return(score)\n",
    "\n",
    "score_game(game_core_v4)"
   ]
  },
  {
   "cell_type": "code",
   "execution_count": 1,
   "metadata": {},
   "outputs": [],
   "source": [
    "# По результатам прогона в 1000 раз, game_core_v4 показал лучшые результаты"
   ]
  }
 ],
 "metadata": {
  "kernelspec": {
   "display_name": "Python 3",
   "language": "python",
   "name": "python3"
  },
  "language_info": {
   "codemirror_mode": {
    "name": "ipython",
    "version": 3
   },
   "file_extension": ".py",
   "mimetype": "text/x-python",
   "name": "python",
   "nbconvert_exporter": "python",
   "pygments_lexer": "ipython3",
   "version": "3.8.5"
  }
 },
 "nbformat": 4,
 "nbformat_minor": 4
}

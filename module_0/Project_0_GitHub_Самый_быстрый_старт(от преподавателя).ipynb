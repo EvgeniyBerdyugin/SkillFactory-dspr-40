{
 "cells": [
  {
   "cell_type": "markdown",
   "metadata": {},
   "source": [
    "## Проект 0. GitHub. Угадай число"
   ]
  },
  {
   "cell_type": "markdown",
   "metadata": {},
   "source": [
    "Алгоритм бинарного поиска:"
   ]
  },
  {
   "cell_type": "markdown",
   "metadata": {},
   "source": [
    "1. Находим середину отсортированного массива.\n",
    "2. Сравниваем её с искомым значением: если предсказанное число меньше загаданного, отсекаем левую часть, если больше, то правую.\n",
    "3. Повторяем, пока не найдём загаданное число."
   ]
  },
  {
   "cell_type": "code",
   "execution_count": 33,
   "metadata": {},
   "outputs": [
    {
     "name": "stdout",
     "output_type": "stream",
     "text": [
      "Your algorithm guesses the average number per 22 attempts\n"
     ]
    },
    {
     "data": {
      "text/plain": [
       "22"
      ]
     },
     "execution_count": 33,
     "metadata": {},
     "output_type": "execute_result"
    }
   ],
   "source": [
    "import numpy as np\n",
    "\n",
    "def score_game(game_score):\n",
    "    \"\"\"We start the game 1000 times to find out how quickly the game guess the number.\"\"\"\n",
    "    count_ls = []\n",
    "    np.random.seed(1) #Random Seed: the experiment could be reproducible\n",
    "    random_array = np.random.randint(1, 10000001, size=(1000))\n",
    "    for number in random_array:\n",
    "        count_ls.append(game_core(number))\n",
    "        \n",
    "    score = int(np.mean(count_ls))\n",
    "    print(f\"Your algorithm guesses the average number per {score} attempts\")\n",
    "    return score\n",
    "\n",
    "\n",
    "def game_core(number):\n",
    "    \"\"\"As a predict we take always the middle of the interval.\n",
    "       In depend of the comparison the lowest limit (minimum) or the highest limit (maximum).\n",
    "       Will be appropriste moved, until the solution will be found.\n",
    "    \"\"\"\n",
    "    count = 1\n",
    "    minimum = 1\n",
    "    maximum = 10000001\n",
    "    \n",
    "    predict = (maximum + minimum) // 2\n",
    "    \n",
    "    while number != predict:\n",
    "        count += 1\n",
    "        #print(predict)\n",
    "        if number > predict:\n",
    "            minimum = predict\n",
    "        else:\n",
    "            maximum = predict\n",
    "            \n",
    "        predict = (maximum + minimum) // 2\n",
    "    return count\n",
    "\n",
    "score_game(game_core)"
   ]
  },
  {
   "cell_type": "code",
   "execution_count": 29,
   "metadata": {},
   "outputs": [
    {
     "name": "stdout",
     "output_type": "stream",
     "text": [
      "5000\n",
      "7500\n",
      "6250\n",
      "5625\n",
      "5312\n",
      "5156\n",
      "5234\n",
      "5195\n",
      "5175\n",
      "5185\n",
      "5190\n",
      "5192\n"
     ]
    },
    {
     "data": {
      "text/plain": [
       "13"
      ]
     },
     "execution_count": 29,
     "metadata": {},
     "output_type": "execute_result"
    }
   ],
   "source": [
    "number = np.random.randint(1, 10001)\n",
    "\n",
    "def game_core(number):\n",
    "    \"\"\"As a predict we take always the middle of the interval.\n",
    "       In depend of the comparison the lowest limit (minimum) or the highest limit (maximum).\n",
    "       Will be appropriste moved, until the solution will be found.\n",
    "    \"\"\"\n",
    "    count = 1\n",
    "    minimum = 1\n",
    "    maximum = 10001\n",
    "    \n",
    "    predict = (maximum + minimum) // 2 - 1\n",
    "    \n",
    "    while number != predict:\n",
    "        count += 1\n",
    "        print(predict)\n",
    "        if number > predict:\n",
    "            minimum = predict\n",
    "        else:\n",
    "            maximum = predict\n",
    "            \n",
    "        predict = (maximum + minimum) // 2\n",
    "    return count\n",
    "\n",
    "game_core(number)"
   ]
  },
  {
   "cell_type": "code",
   "execution_count": 34,
   "metadata": {},
   "outputs": [
    {
     "name": "stdout",
     "output_type": "stream",
     "text": [
      "Your algorithm guesses the average number per 18 attempts\n"
     ]
    },
    {
     "data": {
      "text/plain": [
       "18"
      ]
     },
     "execution_count": 34,
     "metadata": {},
     "output_type": "execute_result"
    }
   ],
   "source": [
    "import numpy as np\n",
    "\n",
    "def score_game(game_score):\n",
    "    \"\"\"We start the game 1000 times to find out how quickly the game guess the number.\"\"\"\n",
    "    count_ls = []\n",
    "    np.random.seed(1) #Random Seed: the experiment could be reproducible\n",
    "    random_array = np.random.randint(1, 1000001, size=(1000))\n",
    "    for number in random_array:\n",
    "        count_ls.append(game_core(number))\n",
    "        \n",
    "    score = int(np.mean(count_ls))\n",
    "    print(f\"Your algorithm guesses the average number per {score} attempts\")\n",
    "    return score\n",
    "\n",
    "def game_core(number):\n",
    "    \"\"\"As a predict we take always the middle of the interval.\n",
    "       In depend of the comparison the lowest limit (minimum) or the highest limit (maximum).\n",
    "       Will be appropriste moved, until the solution will be found.\n",
    "    \"\"\"\n",
    "    count = 1\n",
    "    minimum = 1\n",
    "    maximum = 1000001\n",
    "    \n",
    "    predict = (maximum + minimum) // 2 - 1\n",
    "    \n",
    "    while number != predict:\n",
    "        count += 1\n",
    "        #print(predict)\n",
    "        if number > predict:\n",
    "            minimum = predict\n",
    "        else:\n",
    "            maximum = predict\n",
    "            \n",
    "        predict = (maximum + minimum) // 2\n",
    "    return count\n",
    "score_game(game_core)"
   ]
  },
  {
   "cell_type": "code",
   "execution_count": null,
   "metadata": {},
   "outputs": [],
   "source": []
  }
 ],
 "metadata": {
  "kernelspec": {
   "display_name": "Python 3",
   "language": "python",
   "name": "python3"
  },
  "language_info": {
   "codemirror_mode": {
    "name": "ipython",
    "version": 3
   },
   "file_extension": ".py",
   "mimetype": "text/x-python",
   "name": "python",
   "nbconvert_exporter": "python",
   "pygments_lexer": "ipython3",
   "version": "3.8.8"
  }
 },
 "nbformat": 4,
 "nbformat_minor": 2
}

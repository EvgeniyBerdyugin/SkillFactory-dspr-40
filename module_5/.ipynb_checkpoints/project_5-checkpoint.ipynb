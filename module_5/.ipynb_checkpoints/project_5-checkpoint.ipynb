{
 "cells": [
  {
   "cell_type": "code",
   "execution_count": 493,
   "id": "7aa479b7",
   "metadata": {},
   "outputs": [],
   "source": [
    "import pandas as pd\n",
    "import numpy as np\n",
    "\n",
    "\n",
    "import matplotlib.pyplot as plt\n",
    "import seaborn as sns\n",
    "\n",
    "from datetime import date\n",
    "from datetime import datetime, timedelta\n",
    "\n",
    "from sklearn.preprocessing import PolynomialFeatures\n",
    "\n",
    "from sklearn.feature_selection import f_classif, mutual_info_classif\n",
    "from sklearn.preprocessing import LabelEncoder, OneHotEncoder, StandardScaler, RobustScaler\n",
    "from sklearn.impute import SimpleImputer\n",
    "\n",
    "from sklearn.model_selection import GridSearchCV\n",
    "from sklearn.model_selection import train_test_split\n",
    "from sklearn.linear_model import LogisticRegression\n",
    "\n",
    "from sklearn.metrics import accuracy_score, recall_score, f1_score, precision_score\n",
    "from sklearn.metrics import confusion_matrix\n",
    "from sklearn.metrics import auc, roc_auc_score, roc_curve\n",
    "from sklearn.metrics import log_loss\n",
    "from sklearn.metrics import classification_report\n",
    "from sklearn.model_selection import cross_val_score, KFold\n",
    "from sklearn.linear_model import LogisticRegressionCV\n",
    "from sklearn.model_selection import cross_validate\n",
    "from sklearn.pipeline import Pipeline\n",
    "from sklearn.model_selection import StratifiedShuffleSplit"
   ]
  },
  {
   "cell_type": "code",
   "execution_count": 343,
   "id": "2cf96798",
   "metadata": {},
   "outputs": [],
   "source": [
    "df_test = pd.read_csv('test.csv')\n",
    "df_train = pd.read_csv('train.csv')"
   ]
  },
  {
   "cell_type": "code",
   "execution_count": 344,
   "id": "d0f5c544",
   "metadata": {},
   "outputs": [],
   "source": [
    "RANDOM_SEED = 42\n",
    "!pip freeze > requirements.txt"
   ]
  },
  {
   "cell_type": "code",
   "execution_count": 533,
   "id": "53cb4aa8",
   "metadata": {},
   "outputs": [],
   "source": [
    "df_train['sample'] = 1 # помечаем где у нас трейн\n",
    "df_test['default'] = 0 # в тесте у нас нет значения Default, мы его должны предсказать, по этому пока просто заполняем нулями\n",
    "df_test['sample'] = 0 # помечаем где у нас тест\n",
    "\n",
    "data = df_test.append(df_train, sort=False).reset_index(drop=True) # объединяем\n",
    "df_report = pd.DataFrame(data=None)"
   ]
  },
  {
   "cell_type": "markdown",
   "id": "dbd61823",
   "metadata": {},
   "source": [
    "Описания полей\n",
    "client_id - идентификатор клиента\n",
    "\n",
    "education - уровень образования\n",
    "\n",
    "sex - пол заемщика\n",
    "\n",
    "age - возраст заемщика\n",
    "\n",
    "car - флаг наличия автомобиля\n",
    "\n",
    "car_type - флаг автомобиля иномарки\n",
    "\n",
    "decline_app_cnt - количество отказанных прошлых заявок\n",
    "\n",
    "good_work - флаг наличия “хорошей” работы\n",
    "\n",
    "bki_request_cnt - количество запросов в БКИ\n",
    "\n",
    "home_address - категоризатор домашнего адреса\n",
    "\n",
    "work_address - категоризатор рабочего адреса\n",
    "\n",
    "income - доход заемщика\n",
    "\n",
    "foreign_passport - наличие загранпаспорта\n",
    "\n",
    "sna - связь заемщика с клиентами банка\n",
    "\n",
    "first_time - давность наличия информации о заемщике\n",
    "\n",
    "score_bki - скоринговый балл по данным из БКИ\n",
    "\n",
    "region_rating - рейтинг региона\n",
    "\n",
    "app_date - дата подачи заявки\n",
    "\n",
    "default - флаг дефолта по кредиту"
   ]
  },
  {
   "cell_type": "markdown",
   "id": "19e4cf3c",
   "metadata": {},
   "source": [
    "SCH - school - те, у кого среднее образование (только школа).\n",
    "UGR - undergraduate - бакалавры.\n",
    "GRD - магистры\n",
    "PGR - postgraduate - учёная степень PhD (кандидаты наук по-нашему)\n",
    "ACD - высший уровень. Можно считать высшей категорией.\n",
    "Таким образом, если упорядочить по возрастанию уровня образования, получим следующий список:\n",
    "SCH, UGR, GRD, PGR, ACD. (отредактировано) "
   ]
  },
  {
   "cell_type": "code",
   "execution_count": 118,
   "id": "f82d8b5a",
   "metadata": {},
   "outputs": [],
   "source": [
    "def get_scores(report_df, model, X_test, y_test, name):\n",
    "    '''Create and add metrics into a pandas DF after experiment'''\n",
    "\n",
    "    report = pd.DataFrame(columns={'ROC-AUC'}, data=[0])\n",
    "    report['ROC-AUC'] = roc_auc_score(y_test,\n",
    "                                      model.predict_proba(X_test)[:, 1])\n",
    "    report['PR-AUC'] = precision_score(y_test,model.predict(X_test))\n",
    "    report['F1'] = f1_score(y_test, model.predict(X_test))\n",
    "    report['precision_Neg'] = precision_score(\n",
    "        y_test, model.predict(X_test), pos_label=0)\n",
    "    report['precision_Pos'] = precision_score(\n",
    "        y_test, model.predict(X_test), pos_label=1)\n",
    "    report['recall_Neg'] = recall_score(\n",
    "        y_test, model.predict(X_test), pos_label=0)\n",
    "    report['recall_Pos'] = recall_score(\n",
    "        y_test, model.predict(X_test), pos_label=1)\n",
    "\n",
    "    report.index = [name]\n",
    "    report_df = report_df.append(report)\n",
    "    return report_df"
   ]
  },
  {
   "cell_type": "markdown",
   "id": "506165f4",
   "metadata": {},
   "source": [
    "дописать log_loss"
   ]
  },
  {
   "cell_type": "code",
   "execution_count": 119,
   "id": "6842fe44",
   "metadata": {},
   "outputs": [],
   "source": [
    "def detect_outliers(data):\n",
    "    '''Function is called to detect outliers'''\n",
    "    q1, q3 = np.percentile(sorted(data), [25, 75])\n",
    "\n",
    "    IQR = q3 - q1\n",
    "\n",
    "    l_b = q1 - (1.5 * IQR) # lower bound\n",
    "    u_b = q3 + (1.5 * IQR) # upper bound\n",
    "    outl_count = len(data[data < l_b]) + len(data[data > u_b])\n",
    "\n",
    "    print(\n",
    "        f'Lower Bound: {round(l_b,3)}, Upper Bound {round(u_b,3)}, Outliers Count: {outl_count}')"
   ]
  },
  {
   "cell_type": "code",
   "execution_count": null,
   "id": "4e107c25",
   "metadata": {},
   "outputs": [],
   "source": [
    "def plot_cv_metrics(cv_metrics):\n",
    "    avg_f1_train, std_f1_train = cv_metrics['train_score'].mean(), cv_metrics['train_score'].std()\n",
    "    avg_f1_valid, std_f1_valid = cv_metrics['test_score'].mean(), cv_metrics['test_score'].std()\n",
    "    print('[train] F1-score = {:.2f} +/- {:.2f}'.format(avg_f1_train, std_f1_train))\n",
    "    print('[valid] F1-score = {:.2f} +/- {:.2f}'.format(avg_f1_valid, std_f1_valid))\n",
    "    \n",
    "    plt.figure(figsize=(15, 5))\n",
    "\n",
    "    plt.plot(cv_metrics['train_score'], label='train', marker='.')\n",
    "    plt.plot(cv_metrics['test_score'], label='valid', marker='.')\n",
    "\n",
    "    plt.ylim([0., 1.]);\n",
    "    plt.xlabel('CV iteration', fontsize=15)\n",
    "    plt.ylabel('F1-score', fontsize=15)\n",
    "    plt.legend(fontsize=15)"
   ]
  },
  {
   "cell_type": "code",
   "execution_count": null,
   "id": "d4b1151a",
   "metadata": {},
   "outputs": [],
   "source": [
    "def data_features(data, col):\n",
    "    data['year'] = data[col].apply(lambda x: x.year)\n",
    "    data['month'] = data[col].apply(lambda x: x.month)\n",
    "    data['day_of_yar'] = data[col].apply(lambda x: x.timetuple()[7])\n",
    "    data['weekday'] = data[col].apply(lambda x: x.weekday())\n",
    "    data['is_weekend'] = data['weekday'].apply(lambda x: 1 if x in (5, 6) else 0)"
   ]
  },
  {
   "cell_type": "markdown",
   "id": "2151f3cc",
   "metadata": {},
   "source": [
    "EDA"
   ]
  },
  {
   "cell_type": "markdown",
   "id": "22fb6bd6",
   "metadata": {},
   "source": [
    "Ссылка на pandasprofiling [Обычная ссылка в строке](https://www.google.com)"
   ]
  },
  {
   "cell_type": "code",
   "execution_count": 535,
   "id": "852d9e90",
   "metadata": {},
   "outputs": [],
   "source": [
    "bin_cols = ['sex', 'car', 'car_type', 'good_work', 'foreign_passport']\n",
    "cat_cols = ['education', 'region_rating','home_address', 'work_address',\n",
    "            'sna','first_time']\n",
    "num_cols = ['age', 'decline_app_cnt', 'income', 'bki_request_cnt', 'score_bki']\n",
    "date_cols = ['app_date']"
   ]
  },
  {
   "cell_type": "markdown",
   "id": "43c7ca7e",
   "metadata": {},
   "source": [
    "Посмотрим выбросы"
   ]
  },
  {
   "cell_type": "code",
   "execution_count": 536,
   "id": "6f9c0a8d",
   "metadata": {},
   "outputs": [
    {
     "name": "stdout",
     "output_type": "stream",
     "text": [
      "age\n",
      "Lower Bound: 3.0, Upper Bound 75.0, Outliers Count: 0\n",
      "decline_app_cnt\n",
      "Lower Bound: 0.0, Upper Bound 0.0, Outliers Count: 18677\n",
      "income\n",
      "Lower Bound: -22000.0, Upper Bound 90000.0, Outliers Count: 7000\n",
      "bki_request_cnt\n",
      "Lower Bound: -4.5, Upper Bound 7.5, Outliers Count: 2636\n",
      "score_bki\n",
      "Lower Bound: -3.299, Upper Bound -0.529, Outliers Count: 518\n"
     ]
    }
   ],
   "source": [
    "for col in num_cols:\n",
    "    print(col)\n",
    "    detect_outliers(data[col])"
   ]
  },
  {
   "cell_type": "markdown",
   "id": "32dec81b",
   "metadata": {},
   "source": [
    "* app_date\n",
    "   преобразовать\n",
    "* education\n",
    "   пропуски\n",
    "   LabelEncoding\n",
    "* sex\n",
    "   LabelEncoding\n",
    "* age\n",
    "   Смещенное распределение\n",
    "   Перевести в категории или логарифмировать\n",
    "* car и car_type\n",
    "   высокая корреляция с car_type\n",
    "   LabelEncoding\n",
    "   объеденить с car_type\n",
    "* decline_app_cnt\n",
    "   много нулевых значений\n",
    "   много выбросов\n",
    "   перевести в категории или логарифмировать\n",
    "* good_work\n",
    "   все ок\n",
    "* score_bki\n",
    "   есть выбросы\n",
    "   перевести в категорию?\n",
    "* bki_request_cnt\n",
    "   много нулевых значений\n",
    "   есть выбросы\n",
    "   перевести в категории или логарифмировать\n",
    "* region_rating\n",
    "   слегка смещенное распределение\n",
    "   логарифмировать?\n",
    "* home_address и work_address\n",
    "   высокая корреляция с work_address\n",
    "   объеденить с work_address\n",
    "* income\n",
    "   Смещенное распределение\n",
    "   есть выбросы\n",
    "   Перевести в категории или логарифмировать\n",
    "* sna и first_time\n",
    "   высокая корреляция с first_time\n",
    "   объеденить с first_time\n",
    "* foreign_passport\n",
    "   LabelEncoding\n",
    "* default\n",
    "   Целевая переменная. Не сбалансированная выборка. Количество одного\n",
    "   класса сильно больше количества второго класса.\n",
    "   Пробовать веса классов или добавать в выборку больше значений\n",
    "   класса меньшинства."
   ]
  },
  {
   "cell_type": "markdown",
   "id": "0e5b4716",
   "metadata": {},
   "source": [
    "Обработаем даты"
   ]
  },
  {
   "cell_type": "code",
   "execution_count": 537,
   "id": "befd5af9",
   "metadata": {},
   "outputs": [],
   "source": [
    "for col in date_cols:\n",
    "    data[col] = pd.to_datetime(data[col])"
   ]
  },
  {
   "cell_type": "markdown",
   "id": "70ec7ffa",
   "metadata": {},
   "source": [
    "Заполним пропуски модой"
   ]
  },
  {
   "cell_type": "code",
   "execution_count": 538,
   "id": "3ecfc5e2",
   "metadata": {},
   "outputs": [],
   "source": [
    "mod_edu = data['education'].mode()\n",
    "data['education'] = data['education'].fillna(mod_edu[0])"
   ]
  },
  {
   "cell_type": "code",
   "execution_count": 126,
   "id": "7d5cf39b",
   "metadata": {},
   "outputs": [],
   "source": [
    "# imp = SimpleImputer(strategy='most_frequent')\n",
    "# imp.fit(data)\n",
    "\n",
    "# data = imp.transform(data)\n",
    "\n",
    "# data = pd.DataFrame(data)"
   ]
  },
  {
   "cell_type": "markdown",
   "id": "e7e5b350",
   "metadata": {},
   "source": [
    "Обучим наивную модель для сравнения"
   ]
  },
  {
   "cell_type": "code",
   "execution_count": 348,
   "id": "394495c3",
   "metadata": {},
   "outputs": [],
   "source": [
    "data_naive = data[['client_id', 'age',\n",
    "       'decline_app_cnt', 'good_work', 'score_bki', 'bki_request_cnt',\n",
    "       'region_rating', 'home_address', 'work_address', 'income', 'sna',\n",
    "       'first_time', 'sample', 'default']]"
   ]
  },
  {
   "cell_type": "code",
   "execution_count": 349,
   "id": "b8cdb6cb",
   "metadata": {},
   "outputs": [],
   "source": [
    "# Теперь выделим тестовую часть\n",
    "train_data = data_naive.query('sample == 1').drop(['sample'], axis=1)\n",
    "test_data = data_naive.query('sample == 0').drop(['sample'], axis=1)\n",
    "\n",
    "y = train_data.default.values            # наш таргет\n",
    "X = train_data.drop(['default'], axis=1)"
   ]
  },
  {
   "cell_type": "code",
   "execution_count": 351,
   "id": "99a7f074",
   "metadata": {
    "scrolled": false
   },
   "outputs": [
    {
     "data": {
      "text/plain": [
       "array([[12933,     0],\n",
       "       [ 1827,     0]], dtype=int64)"
      ]
     },
     "execution_count": 351,
     "metadata": {},
     "output_type": "execute_result"
    }
   ],
   "source": [
    "X_train, X_test, y_train, y_test = train_test_split(X, y, test_size=0.2, random_state=RANDOM_SEED)\n",
    "model = LogisticRegression()\n",
    "model.fit(X_train, y_train)\n",
    "y_pred = model.predict(X_test)\n",
    "confusion_matrix(y_test, y_pred)"
   ]
  },
  {
   "cell_type": "code",
   "execution_count": 131,
   "id": "080cdb28",
   "metadata": {},
   "outputs": [
    {
     "data": {
      "text/plain": [
       "0.0"
      ]
     },
     "execution_count": 131,
     "metadata": {},
     "output_type": "execute_result"
    }
   ],
   "source": [
    "f1_score(y_test, y_pred)"
   ]
  },
  {
   "cell_type": "code",
   "execution_count": 132,
   "id": "acd2f8dc",
   "metadata": {},
   "outputs": [
    {
     "data": {
      "text/plain": [
       "0.876219512195122"
      ]
     },
     "execution_count": 132,
     "metadata": {},
     "output_type": "execute_result"
    }
   ],
   "source": [
    "accuracy_score(y_test, y_pred)"
   ]
  },
  {
   "cell_type": "code",
   "execution_count": 133,
   "id": "e49b527c",
   "metadata": {},
   "outputs": [
    {
     "data": {
      "text/plain": [
       "0.0"
      ]
     },
     "execution_count": 133,
     "metadata": {},
     "output_type": "execute_result"
    }
   ],
   "source": [
    "recall_score(y_test, y_pred)"
   ]
  },
  {
   "cell_type": "code",
   "execution_count": 134,
   "id": "31532b40",
   "metadata": {
    "scrolled": true
   },
   "outputs": [
    {
     "name": "stderr",
     "output_type": "stream",
     "text": [
      "C:\\Users\\negat\\anaconda3\\lib\\site-packages\\sklearn\\metrics\\_classification.py:1245: UndefinedMetricWarning: Precision is ill-defined and being set to 0.0 due to no predicted samples. Use `zero_division` parameter to control this behavior.\n",
      "  _warn_prf(average, modifier, msg_start, len(result))\n"
     ]
    },
    {
     "data": {
      "text/plain": [
       "0.0"
      ]
     },
     "execution_count": 134,
     "metadata": {},
     "output_type": "execute_result"
    }
   ],
   "source": [
    "precision_score(y_test, y_pred)"
   ]
  },
  {
   "cell_type": "code",
   "execution_count": 135,
   "id": "98929356",
   "metadata": {},
   "outputs": [
    {
     "name": "stdout",
     "output_type": "stream",
     "text": [
      "              precision    recall  f1-score   support\n",
      "\n",
      "           0       0.88      1.00      0.93     12933\n",
      "           1       0.00      0.00      0.00      1827\n",
      "\n",
      "    accuracy                           0.88     14760\n",
      "   macro avg       0.44      0.50      0.47     14760\n",
      "weighted avg       0.77      0.88      0.82     14760\n",
      "\n"
     ]
    },
    {
     "name": "stderr",
     "output_type": "stream",
     "text": [
      "C:\\Users\\negat\\anaconda3\\lib\\site-packages\\sklearn\\metrics\\_classification.py:1245: UndefinedMetricWarning: Precision and F-score are ill-defined and being set to 0.0 in labels with no predicted samples. Use `zero_division` parameter to control this behavior.\n",
      "  _warn_prf(average, modifier, msg_start, len(result))\n",
      "C:\\Users\\negat\\anaconda3\\lib\\site-packages\\sklearn\\metrics\\_classification.py:1245: UndefinedMetricWarning: Precision and F-score are ill-defined and being set to 0.0 in labels with no predicted samples. Use `zero_division` parameter to control this behavior.\n",
      "  _warn_prf(average, modifier, msg_start, len(result))\n",
      "C:\\Users\\negat\\anaconda3\\lib\\site-packages\\sklearn\\metrics\\_classification.py:1245: UndefinedMetricWarning: Precision and F-score are ill-defined and being set to 0.0 in labels with no predicted samples. Use `zero_division` parameter to control this behavior.\n",
      "  _warn_prf(average, modifier, msg_start, len(result))\n"
     ]
    }
   ],
   "source": [
    "print(classification_report(y_test, y_pred, output_dict=False))"
   ]
  },
  {
   "cell_type": "code",
   "execution_count": 137,
   "id": "b30a681d",
   "metadata": {
    "scrolled": true
   },
   "outputs": [
    {
     "data": {
      "image/png": "[encoded data removed]",
      "text/plain": [
       "<Figure size 432x288 with 1 Axes>"
      ]
     },
     "metadata": {},
     "output_type": "display_data"
    }
   ],
   "source": [
    "probs = model.predict_proba(X_test)\n",
    "fpr, tpr, threshold = roc_curve(y_test, probs[:,1])\n",
    "roc_auc = roc_auc_score(y_test, probs[:,1])\n",
    "\n",
    "plt.figure()\n",
    "plt.plot([0, 1], label='Baseline', linestyle='--')\n",
    "plt.plot(fpr, tpr, label = 'Regression')\n",
    "plt.title('Logistic Regression ROC AUC = %0.3f' % roc_auc)\n",
    "plt.ylabel('True Positive Rate')\n",
    "plt.xlabel('False Positive Rate')\n",
    "plt.legend(loc = 'lower right')\n",
    "plt.show()\n",
    "print(log_loss(y_test, probs))"
   ]
  },
  {
   "cell_type": "code",
   "execution_count": 139,
   "id": "f8ac5902",
   "metadata": {},
   "outputs": [
    {
     "name": "stderr",
     "output_type": "stream",
     "text": [
      "C:\\Users\\negat\\anaconda3\\lib\\site-packages\\sklearn\\metrics\\_classification.py:1245: UndefinedMetricWarning: Precision is ill-defined and being set to 0.0 due to no predicted samples. Use `zero_division` parameter to control this behavior.\n",
      "  _warn_prf(average, modifier, msg_start, len(result))\n",
      "C:\\Users\\negat\\anaconda3\\lib\\site-packages\\sklearn\\metrics\\_classification.py:1245: UndefinedMetricWarning: Precision is ill-defined and being set to 0.0 due to no predicted samples. Use `zero_division` parameter to control this behavior.\n",
      "  _warn_prf(average, modifier, msg_start, len(result))\n"
     ]
    }
   ],
   "source": [
    "df_report = get_scores(df_report, model, X_test, \n",
    "                       y_test, 'LogisticRegression_Naive')"
   ]
  },
  {
   "cell_type": "code",
   "execution_count": 140,
   "id": "5c5c69f9",
   "metadata": {
    "scrolled": true
   },
   "outputs": [
    {
     "data": {
      "text/html": [
       "<div>\n",
       "<style scoped>\n",
       "    .dataframe tbody tr th:only-of-type {\n",
       "        vertical-align: middle;\n",
       "    }\n",
       "\n",
       "    .dataframe tbody tr th {\n",
       "        vertical-align: top;\n",
       "    }\n",
       "\n",
       "    .dataframe thead th {\n",
       "        text-align: right;\n",
       "    }\n",
       "</style>\n",
       "<table border=\"1\" class=\"dataframe\">\n",
       "  <thead>\n",
       "    <tr style=\"text-align: right;\">\n",
       "      <th></th>\n",
       "      <th>ROC-AUC</th>\n",
       "      <th>PR-AUC</th>\n",
       "      <th>F1</th>\n",
       "      <th>precision_Neg</th>\n",
       "      <th>precision_Pos</th>\n",
       "      <th>recall_Neg</th>\n",
       "      <th>recall_Pos</th>\n",
       "    </tr>\n",
       "  </thead>\n",
       "  <tbody>\n",
       "    <tr>\n",
       "      <th>LogisticRegression_Naive</th>\n",
       "      <td>0.589633</td>\n",
       "      <td>0.0</td>\n",
       "      <td>0.0</td>\n",
       "      <td>0.87622</td>\n",
       "      <td>0.0</td>\n",
       "      <td>1.0</td>\n",
       "      <td>0.0</td>\n",
       "    </tr>\n",
       "  </tbody>\n",
       "</table>\n",
       "</div>"
      ],
      "text/plain": [
       "                           ROC-AUC  PR-AUC   F1  precision_Neg  precision_Pos  \\\n",
       "LogisticRegression_Naive  0.589633     0.0  0.0        0.87622            0.0   \n",
       "\n",
       "                          recall_Neg  recall_Pos  \n",
       "LogisticRegression_Naive         1.0         0.0  "
      ]
     },
     "execution_count": 140,
     "metadata": {},
     "output_type": "execute_result"
    }
   ],
   "source": [
    "df_report"
   ]
  },
  {
   "cell_type": "code",
   "execution_count": 142,
   "id": "c7bab06c",
   "metadata": {},
   "outputs": [],
   "source": [
    "# kf = KFold(n_splits=5)\n",
    "# cross_val_score(model, X, y, cv=kf, scoring=\"accuracy\")"
   ]
  },
  {
   "cell_type": "code",
   "execution_count": 143,
   "id": "fee96994",
   "metadata": {},
   "outputs": [],
   "source": [
    "# clf = LogisticRegressionCV(cv=5, random_state=0).fit(X, y)\n",
    "# clf.predict(X)\n",
    "# clf.predict_proba(X).shape\n",
    "# y_pred2 = clf.predict(X)\n",
    "# clf.score(X, y)\n",
    "# confusion_matrix(y, y_pred2)\n",
    "# probs2 = clf.predict_proba(X)\n",
    "# probs2 = probs2[:,1]\n",
    "# probs2 = clf.predict_proba(X)\n",
    "# roc_auc_score(y, probs2[:,1])\n",
    "# log_loss(y, probs2)"
   ]
  },
  {
   "cell_type": "markdown",
   "id": "1f1e3d10",
   "metadata": {},
   "source": [
    "Померим переобучение"
   ]
  },
  {
   "cell_type": "code",
   "execution_count": 144,
   "id": "908efd0a",
   "metadata": {
    "scrolled": true
   },
   "outputs": [],
   "source": [
    "cv_metrics = cross_validate(model, X, y, cv=5, scoring='f1_micro', return_train_score=True)\n",
    "plot_cv_metrics(cv_metrics)"
   ]
  },
  {
   "cell_type": "markdown",
   "id": "4f227f82",
   "metadata": {},
   "source": [
    "Создадим файл submission для наивной модели"
   ]
  },
  {
   "cell_type": "code",
   "execution_count": null,
   "id": "a2f50d20",
   "metadata": {},
   "outputs": [],
   "source": [
    "test_data = test_data.drop(['default'], axis=1)\n",
    "predict_submission = model.predict_proba(test_data)\n",
    "test_client_id = pd.DataFrame()\n",
    "test_client_id['client_id'] = test_data['client_id']\n",
    "test_client_id['default'] = predict_submission[:,1]\n",
    "test_client_id.to_csv('submission.csv', index=False)\n",
    "test_client_id.head(10)"
   ]
  },
  {
   "cell_type": "markdown",
   "id": "721e40a5",
   "metadata": {},
   "source": [
    "Посмотрим распределение логарифмированных числовых переменных"
   ]
  },
  {
   "cell_type": "code",
   "execution_count": 155,
   "id": "0a4f4414",
   "metadata": {},
   "outputs": [
    {
     "name": "stderr",
     "output_type": "stream",
     "text": [
      "C:\\Users\\negat\\anaconda3\\lib\\site-packages\\seaborn\\distributions.py:2557: FutureWarning: `distplot` is a deprecated function and will be removed in a future version. Please adapt your code to use either `displot` (a figure-level function with similar flexibility) or `histplot` (an axes-level function for histograms).\n",
      "  warnings.warn(msg, FutureWarning)\n"
     ]
    },
    {
     "data": {
      "image/png": "[encoded data removed]",
      "text/plain": [
       "<Figure size 432x288 with 1 Axes>"
      ]
     },
     "metadata": {},
     "output_type": "display_data"
    },
    {
     "name": "stderr",
     "output_type": "stream",
     "text": [
      "C:\\Users\\negat\\anaconda3\\lib\\site-packages\\seaborn\\distributions.py:2557: FutureWarning: `distplot` is a deprecated function and will be removed in a future version. Please adapt your code to use either `displot` (a figure-level function with similar flexibility) or `histplot` (an axes-level function for histograms).\n",
      "  warnings.warn(msg, FutureWarning)\n"
     ]
    },
    {
     "data": {
      "image/png": "[encoded data removed]",
      "text/plain": [
       "<Figure size 432x288 with 1 Axes>"
      ]
     },
     "metadata": {},
     "output_type": "display_data"
    },
    {
     "name": "stderr",
     "output_type": "stream",
     "text": [
      "C:\\Users\\negat\\anaconda3\\lib\\site-packages\\seaborn\\distributions.py:2557: FutureWarning: `distplot` is a deprecated function and will be removed in a future version. Please adapt your code to use either `displot` (a figure-level function with similar flexibility) or `histplot` (an axes-level function for histograms).\n",
      "  warnings.warn(msg, FutureWarning)\n"
     ]
    },
    {
     "data": {
      "image/png": "[encoded data removed]",
      "text/plain": [
       "<Figure size 432x288 with 1 Axes>"
      ]
     },
     "metadata": {},
     "output_type": "display_data"
    },
    {
     "name": "stderr",
     "output_type": "stream",
     "text": [
      "C:\\Users\\negat\\anaconda3\\lib\\site-packages\\seaborn\\distributions.py:2557: FutureWarning: `distplot` is a deprecated function and will be removed in a future version. Please adapt your code to use either `displot` (a figure-level function with similar flexibility) or `histplot` (an axes-level function for histograms).\n",
      "  warnings.warn(msg, FutureWarning)\n"
     ]
    },
    {
     "data": {
      "image/png": "[encoded data removed]",
      "text/plain": [
       "<Figure size 432x288 with 1 Axes>"
      ]
     },
     "metadata": {},
     "output_type": "display_data"
    },
    {
     "name": "stderr",
     "output_type": "stream",
     "text": [
      "C:\\Users\\negat\\anaconda3\\lib\\site-packages\\seaborn\\distributions.py:2557: FutureWarning: `distplot` is a deprecated function and will be removed in a future version. Please adapt your code to use either `displot` (a figure-level function with similar flexibility) or `histplot` (an axes-level function for histograms).\n",
      "  warnings.warn(msg, FutureWarning)\n"
     ]
    },
    {
     "data": {
      "image/png": "[encoded data removed]",
      "text/plain": [
       "<Figure size 432x288 with 1 Axes>"
      ]
     },
     "metadata": {},
     "output_type": "display_data"
    }
   ],
   "source": [
    "for col in num_cols:\n",
    "    plt.figure()\n",
    "    sns.distplot(np.log(data[col][data[col] > 0].dropna() +1))\n",
    "    plt.title(col)\n",
    "    plt.show()"
   ]
  },
  {
   "cell_type": "markdown",
   "id": "00994712",
   "metadata": {},
   "source": [
    "income и age приобрели распределение похожее на нормальное, добавим колонки с их логарифмированными значениями"
   ]
  },
  {
   "cell_type": "code",
   "execution_count": 539,
   "id": "cb192a36",
   "metadata": {},
   "outputs": [],
   "source": [
    "col_for_log = ['income', 'age']"
   ]
  },
  {
   "cell_type": "code",
   "execution_count": 540,
   "id": "72c52848",
   "metadata": {},
   "outputs": [],
   "source": [
    "for col in col_for_log:\n",
    "    data[col+'_log'] =np.log(data[col])\n",
    "    num_cols.append(col+'_log')"
   ]
  },
  {
   "cell_type": "markdown",
   "id": "16766ea6",
   "metadata": {},
   "source": [
    "Сделаем категориальный признак из age"
   ]
  },
  {
   "cell_type": "code",
   "execution_count": 541,
   "id": "10b93ed2",
   "metadata": {
    "scrolled": false
   },
   "outputs": [
    {
     "data": {
      "image/png": "[encoded data removed]",
      "text/plain": [
       "<Figure size 432x288 with 1 Axes>"
      ]
     },
     "metadata": {},
     "output_type": "display_data"
    }
   ],
   "source": [
    "sns.set_theme(style=\"whitegrid\")\n",
    "ax = sns.boxplot(x=data['age'])\n",
    "plt.show()"
   ]
  },
  {
   "cell_type": "markdown",
   "id": "76fec122",
   "metadata": {},
   "source": [
    "написать функцию разделения по квартилям и применить ее к age и income"
   ]
  },
  {
   "cell_type": "code",
   "execution_count": 542,
   "id": "6ca252d7",
   "metadata": {
    "scrolled": true
   },
   "outputs": [
    {
     "name": "stdout",
     "output_type": "stream",
     "text": [
      "30.0 48.0\n"
     ]
    }
   ],
   "source": [
    "q1, q3 = np.percentile(sorted(data['age']), [25, 75])\n",
    "print(q1, q3)"
   ]
  },
  {
   "cell_type": "code",
   "execution_count": 543,
   "id": "b11f4299",
   "metadata": {},
   "outputs": [],
   "source": [
    "data['age_cat'] = data['age'].apply(lambda x: 0 if x < q1 else (2 if x > q3 else 1))"
   ]
  },
  {
   "cell_type": "markdown",
   "id": "ad323ff0",
   "metadata": {},
   "source": [
    "посмотрим boxplot числовых признаков"
   ]
  },
  {
   "cell_type": "code",
   "execution_count": 544,
   "id": "2bfd3338",
   "metadata": {
    "scrolled": true
   },
   "outputs": [
    {
     "data": {
      "image/png": "[encoded data removed]",
      "text/plain": [
       "<Figure size 432x288 with 1 Axes>"
      ]
     },
     "metadata": {},
     "output_type": "display_data"
    },
    {
     "data": {
      "image/png": "[encoded data removed]",
      "text/plain": [
       "<Figure size 432x288 with 1 Axes>"
      ]
     },
     "metadata": {},
     "output_type": "display_data"
    },
    {
     "data": {
      "image/png": "[encoded data removed]",
      "text/plain": [
       "<Figure size 432x288 with 1 Axes>"
      ]
     },
     "metadata": {},
     "output_type": "display_data"
    },
    {
     "data": {
      "image/png": "[encoded data removed]",
      "text/plain": [
       "<Figure size 432x288 with 1 Axes>"
      ]
     },
     "metadata": {},
     "output_type": "display_data"
    },
    {
     "data": {
      "image/png": "[encoded data removed]",
      "text/plain": [
       "<Figure size 432x288 with 1 Axes>"
      ]
     },
     "metadata": {},
     "output_type": "display_data"
    },
    {
     "data": {
      "image/png": "[encoded data removed]",
      "text/plain": [
       "<Figure size 432x288 with 1 Axes>"
      ]
     },
     "metadata": {},
     "output_type": "display_data"
    },
    {
     "data": {
      "image/png": "[encoded data removed]",
      "text/plain": [
       "<Figure size 432x288 with 1 Axes>"
      ]
     },
     "metadata": {},
     "output_type": "display_data"
    }
   ],
   "source": [
    "for i in num_cols:\n",
    "    sns.set_theme(style=\"whitegrid\")\n",
    "    ax = sns.boxplot(x=data[i])\n",
    "    plt.show()"
   ]
  },
  {
   "cell_type": "markdown",
   "id": "3bd20699",
   "metadata": {},
   "source": [
    "decline_app_cnt имеет большинство нулей разделим ее на две категории: были отказы и не было"
   ]
  },
  {
   "cell_type": "code",
   "execution_count": 545,
   "id": "ca75f15f",
   "metadata": {},
   "outputs": [],
   "source": [
    "data['decline_app'] = data['decline_app_cnt'].apply(lambda x: 0 if x == 0 else 1)"
   ]
  },
  {
   "cell_type": "markdown",
   "id": "d55c49c5",
   "metadata": {},
   "source": [
    "income имеет сильное смещение и большое количество выбросов. Разделим ее на три категории low, mid и hi (0, 1, 2)"
   ]
  },
  {
   "cell_type": "code",
   "execution_count": 546,
   "id": "d01f5ced",
   "metadata": {},
   "outputs": [],
   "source": [
    "q1, q3 = np.percentile(sorted(data['income']), [25, 75])\n",
    "data['income_cat'] = data['income'].apply(lambda x: 0 if x < q1 else (2 if x > q3 else 1))"
   ]
  },
  {
   "cell_type": "markdown",
   "id": "b119ea53",
   "metadata": {},
   "source": [
    "bki_request_cnt имеет большинство значений около 1. Разделим ее на две категории меньше либо равно 1 и больше единицы (0, 1)"
   ]
  },
  {
   "cell_type": "code",
   "execution_count": 547,
   "id": "91398424",
   "metadata": {},
   "outputs": [],
   "source": [
    "data['bki_request'] = data['bki_request_cnt'].apply(lambda x: 0 if x <= 1 else 1)"
   ]
  },
  {
   "cell_type": "markdown",
   "id": "d49609c2",
   "metadata": {},
   "source": [
    "Обработаем бинарные признаки"
   ]
  },
  {
   "cell_type": "markdown",
   "id": "f82aed20",
   "metadata": {},
   "source": [
    "LabelEncoder для sex, foreign_passport, car, car_type"
   ]
  },
  {
   "cell_type": "code",
   "execution_count": 548,
   "id": "de1f331b",
   "metadata": {},
   "outputs": [],
   "source": [
    "label_encoder = LabelEncoder()\n",
    "data['sex'] = pd.Series(label_encoder.fit_transform(data['sex']))\n",
    "data['foreign_passport'] = pd.Series(label_encoder.fit_transform(data['foreign_passport']))\n",
    "data['car'] = pd.Series(label_encoder.fit_transform(data['car']))\n",
    "data['car_type'] = pd.Series(label_encoder.fit_transform(data['car_type']))"
   ]
  },
  {
   "cell_type": "markdown",
   "id": "e4d35365",
   "metadata": {},
   "source": [
    "объединим car  и car_type"
   ]
  },
  {
   "cell_type": "markdown",
   "id": "529d3a98",
   "metadata": {},
   "source": [
    "проверим, нет ли ошибок: наличие иномарки при отсутствии машины"
   ]
  },
  {
   "cell_type": "code",
   "execution_count": 549,
   "id": "0d536256",
   "metadata": {},
   "outputs": [
    {
     "data": {
      "text/plain": [
       "0    74290\n",
       "Name: car_type, dtype: int64"
      ]
     },
     "execution_count": 549,
     "metadata": {},
     "output_type": "execute_result"
    }
   ],
   "source": [
    "data['car_type'][data['car'] == 0].value_counts()"
   ]
  },
  {
   "cell_type": "markdown",
   "id": "29b0eedc",
   "metadata": {},
   "source": [
    "ошибок нет"
   ]
  },
  {
   "cell_type": "code",
   "execution_count": 550,
   "id": "b50a23d3",
   "metadata": {},
   "outputs": [],
   "source": [
    "data['car_car_type'] = data['car'] + data['car_type']"
   ]
  },
  {
   "cell_type": "markdown",
   "id": "508122d4",
   "metadata": {},
   "source": [
    "Обработаем категориальные признаки"
   ]
  },
  {
   "cell_type": "markdown",
   "id": "c98e14b4",
   "metadata": {},
   "source": [
    "Заменим значения educatoin, значениями от 0 до 4, в зависимости от ранга\n",
    "образования"
   ]
  },
  {
   "cell_type": "code",
   "execution_count": 551,
   "id": "412bef96",
   "metadata": {},
   "outputs": [],
   "source": [
    "data_edu = {'SCH': 0, 'UGR': 1, 'GRD': 2, 'PGR': 3, 'ACD': 4}"
   ]
  },
  {
   "cell_type": "code",
   "execution_count": 552,
   "id": "1732c86f",
   "metadata": {},
   "outputs": [],
   "source": [
    "data['education'] = data['education'].apply(lambda x: data_edu[x])"
   ]
  },
  {
   "cell_type": "markdown",
   "id": "aa98c74f",
   "metadata": {},
   "source": [
    "Объеденим home_adress и work_adress"
   ]
  },
  {
   "cell_type": "code",
   "execution_count": 553,
   "id": "b7dfad4c",
   "metadata": {},
   "outputs": [],
   "source": [
    "data['home_work_address'] = data['home_address'] + data['work_address']"
   ]
  },
  {
   "cell_type": "markdown",
   "id": "29e8f595",
   "metadata": {},
   "source": [
    "Объединим sna и first_time"
   ]
  },
  {
   "cell_type": "code",
   "execution_count": 554,
   "id": "05dcb76b",
   "metadata": {},
   "outputs": [
    {
     "data": {
      "image/png": "[encoded data removed]",
      "text/plain": [
       "<Figure size 1008x504 with 1 Axes>"
      ]
     },
     "metadata": {},
     "output_type": "display_data"
    }
   ],
   "source": [
    "plt.figure(figsize=(14, 7))\n",
    "sns.lineplot(data=data, x='sna', y='first_time');"
   ]
  },
  {
   "cell_type": "code",
   "execution_count": 555,
   "id": "d900210d",
   "metadata": {},
   "outputs": [],
   "source": [
    "data['sna_first_time'] = data['sna'] + data['first_time']"
   ]
  },
  {
   "cell_type": "markdown",
   "id": "28e2a777",
   "metadata": {},
   "source": [
    "Feature engineering"
   ]
  },
  {
   "cell_type": "markdown",
   "id": "7e484ff3",
   "metadata": {},
   "source": [
    "содадим признаки из даты"
   ]
  },
  {
   "cell_type": "code",
   "execution_count": 556,
   "id": "97c1b781",
   "metadata": {},
   "outputs": [],
   "source": [
    "data_features(data, 'app_date')"
   ]
  },
  {
   "cell_type": "markdown",
   "id": "5354b4ca",
   "metadata": {},
   "source": [
    "Посмотрим за какой период данные"
   ]
  },
  {
   "cell_type": "code",
   "execution_count": 557,
   "id": "238be9d9",
   "metadata": {
    "scrolled": true
   },
   "outputs": [
    {
     "data": {
      "text/plain": [
       "2014    110148\n",
       "Name: year, dtype: int64"
      ]
     },
     "execution_count": 557,
     "metadata": {},
     "output_type": "execute_result"
    }
   ],
   "source": [
    "data['year'].value_counts()"
   ]
  },
  {
   "cell_type": "markdown",
   "id": "c2e349f7",
   "metadata": {},
   "source": [
    "только 2014 год. Удилим этот столбец"
   ]
  },
  {
   "cell_type": "code",
   "execution_count": 558,
   "id": "800bb227",
   "metadata": {},
   "outputs": [],
   "source": [
    "data = data.drop('year', axis=1)"
   ]
  },
  {
   "cell_type": "code",
   "execution_count": 559,
   "id": "f7d87059",
   "metadata": {
    "scrolled": false
   },
   "outputs": [
    {
     "data": {
      "text/plain": [
       "3    28.685950\n",
       "2    24.600537\n",
       "4    23.846098\n",
       "1    22.867415\n",
       "Name: month, dtype: float64"
      ]
     },
     "execution_count": 559,
     "metadata": {},
     "output_type": "execute_result"
    }
   ],
   "source": [
    "data['month'].value_counts(normalize=True)*100"
   ]
  },
  {
   "cell_type": "code",
   "execution_count": 560,
   "id": "43b54bc8",
   "metadata": {},
   "outputs": [
    {
     "data": {
      "text/plain": [
       "3    28.819889\n",
       "1    25.682885\n",
       "2    25.512164\n",
       "4    19.985062\n",
       "Name: month, dtype: float64"
      ]
     },
     "execution_count": 560,
     "metadata": {},
     "output_type": "execute_result"
    }
   ],
   "source": [
    "data['month'][data['default'] == 1].value_counts(normalize=True)*100"
   ]
  },
  {
   "cell_type": "markdown",
   "id": "739b2bb3",
   "metadata": {},
   "source": [
    "Данные за 4 месяца, в целом равномерно распределены"
   ]
  },
  {
   "cell_type": "code",
   "execution_count": 561,
   "id": "58905b54",
   "metadata": {
    "scrolled": false
   },
   "outputs": [
    {
     "data": {
      "text/plain": [
       "77     1.353633\n",
       "78     1.237426\n",
       "76     1.225624\n",
       "90     1.195664\n",
       "97     1.176599\n",
       "         ...   \n",
       "110    0.325925\n",
       "7      0.316846\n",
       "3      0.284163\n",
       "2      0.185205\n",
       "1      0.050841\n",
       "Name: day_of_yar, Length: 120, dtype: float64"
      ]
     },
     "execution_count": 561,
     "metadata": {},
     "output_type": "execute_result"
    }
   ],
   "source": [
    "data['day_of_yar'].value_counts(normalize=True)*100"
   ]
  },
  {
   "cell_type": "code",
   "execution_count": 562,
   "id": "0ff44eab",
   "metadata": {},
   "outputs": [
    {
     "data": {
      "text/plain": [
       "28     1.376440\n",
       "76     1.376440\n",
       "23     1.301750\n",
       "77     1.291080\n",
       "92     1.269740\n",
       "         ...   \n",
       "110    0.266752\n",
       "3      0.256082\n",
       "103    0.213402\n",
       "2      0.192061\n",
       "1      0.064020\n",
       "Name: day_of_yar, Length: 120, dtype: float64"
      ]
     },
     "execution_count": 562,
     "metadata": {},
     "output_type": "execute_result"
    }
   ],
   "source": [
    "data['day_of_yar'][data['default'] == 1].value_counts(normalize=True)*100"
   ]
  },
  {
   "cell_type": "code",
   "execution_count": 563,
   "id": "1c4d5a74",
   "metadata": {
    "scrolled": true
   },
   "outputs": [
    {
     "data": {
      "text/plain": [
       "120"
      ]
     },
     "execution_count": 563,
     "metadata": {},
     "output_type": "execute_result"
    }
   ],
   "source": [
    "data['day_of_yar'].max()"
   ]
  },
  {
   "cell_type": "code",
   "execution_count": 564,
   "id": "16310555",
   "metadata": {
    "scrolled": true
   },
   "outputs": [
    {
     "data": {
      "text/plain": [
       "1    16.505066\n",
       "0    16.212732\n",
       "2    15.961252\n",
       "3    15.815993\n",
       "4    15.205905\n",
       "5    11.077823\n",
       "6     9.221230\n",
       "Name: weekday, dtype: float64"
      ]
     },
     "execution_count": 564,
     "metadata": {},
     "output_type": "execute_result"
    }
   ],
   "source": [
    "data['weekday'].value_counts(normalize=True)*100"
   ]
  },
  {
   "cell_type": "code",
   "execution_count": 565,
   "id": "3a087a31",
   "metadata": {},
   "outputs": [
    {
     "data": {
      "text/plain": [
       "1    16.549296\n",
       "3    16.357234\n",
       "0    16.303884\n",
       "2    15.567648\n",
       "4    14.415280\n",
       "5    11.502347\n",
       "6     9.304311\n",
       "Name: weekday, dtype: float64"
      ]
     },
     "execution_count": 565,
     "metadata": {},
     "output_type": "execute_result"
    }
   ],
   "source": [
    "data['weekday'][data['default'] == 1].value_counts(normalize=True)*100"
   ]
  },
  {
   "cell_type": "markdown",
   "id": "b9ef32ff",
   "metadata": {},
   "source": [
    "Данные за все дни периода"
   ]
  },
  {
   "cell_type": "code",
   "execution_count": 566,
   "id": "b101aca1",
   "metadata": {
    "scrolled": true
   },
   "outputs": [
    {
     "data": {
      "text/plain": [
       "0    79.700948\n",
       "1    20.299052\n",
       "Name: is_weekend, dtype: float64"
      ]
     },
     "execution_count": 566,
     "metadata": {},
     "output_type": "execute_result"
    }
   ],
   "source": [
    "data['is_weekend'].value_counts(normalize=True)*100"
   ]
  },
  {
   "cell_type": "code",
   "execution_count": 567,
   "id": "6ff4c4d0",
   "metadata": {},
   "outputs": [
    {
     "data": {
      "text/plain": [
       "0    79.193342\n",
       "1    20.806658\n",
       "Name: is_weekend, dtype: float64"
      ]
     },
     "execution_count": 567,
     "metadata": {},
     "output_type": "execute_result"
    }
   ],
   "source": [
    "data['is_weekend'][data['default'] == 1].value_counts(normalize=True)*100"
   ]
  },
  {
   "cell_type": "code",
   "execution_count": 568,
   "id": "e75b7e60",
   "metadata": {
    "scrolled": true
   },
   "outputs": [
    {
     "data": {
      "text/plain": [
       "Timestamp('2014-04-30 00:00:00')"
      ]
     },
     "execution_count": 568,
     "metadata": {},
     "output_type": "execute_result"
    }
   ],
   "source": [
    "data['app_date'].max()"
   ]
  },
  {
   "cell_type": "code",
   "execution_count": 569,
   "id": "b1539e36",
   "metadata": {},
   "outputs": [],
   "source": [
    "data = data.drop('app_date', axis=1)"
   ]
  },
  {
   "cell_type": "markdown",
   "id": "a246f383",
   "metadata": {},
   "source": [
    "!!!!!!!!!!!!!!!Проверим корреляции новых признаков"
   ]
  },
  {
   "cell_type": "code",
   "execution_count": null,
   "id": "40332520",
   "metadata": {},
   "outputs": [],
   "source": [
    "#sns.heatmap(df[num_cols].corr().abs(), vmin=0, vmax=1)"
   ]
  },
  {
   "cell_type": "code",
   "execution_count": null,
   "id": "51ec4e6f",
   "metadata": {},
   "outputs": [],
   "source": [
    "#data.corr()"
   ]
  },
  {
   "cell_type": "markdown",
   "id": "dd320b15",
   "metadata": {},
   "source": [
    "Добавим полиноминальные признаки"
   ]
  },
  {
   "cell_type": "code",
   "execution_count": 288,
   "id": "10b2e544",
   "metadata": {},
   "outputs": [
    {
     "name": "stdout",
     "output_type": "stream",
     "text": [
      "<class 'pandas.core.frame.DataFrame'>\n",
      "RangeIndex: 110148 entries, 0 to 110147\n",
      "Data columns (total 31 columns):\n",
      " #   Column             Non-Null Count   Dtype  \n",
      "---  ------             --------------   -----  \n",
      " 0   education          110148 non-null  int64  \n",
      " 1   sex                110148 non-null  int32  \n",
      " 2   age                110148 non-null  int64  \n",
      " 3   car                110148 non-null  int32  \n",
      " 4   car_type           110148 non-null  int32  \n",
      " 5   decline_app_cnt    110148 non-null  int64  \n",
      " 6   good_work          110148 non-null  int64  \n",
      " 7   score_bki          110148 non-null  float64\n",
      " 8   bki_request_cnt    110148 non-null  int64  \n",
      " 9   region_rating      110148 non-null  int64  \n",
      " 10  home_address       110148 non-null  int64  \n",
      " 11  work_address       110148 non-null  int64  \n",
      " 12  income             110148 non-null  int64  \n",
      " 13  sna                110148 non-null  int64  \n",
      " 14  first_time         110148 non-null  int64  \n",
      " 15  foreign_passport   110148 non-null  int64  \n",
      " 16  default            110148 non-null  int64  \n",
      " 17  sample             110148 non-null  int64  \n",
      " 18  income_log         110148 non-null  float64\n",
      " 19  age_log            110148 non-null  float64\n",
      " 20  decline_app        110148 non-null  int64  \n",
      " 21  income_cat         110148 non-null  int64  \n",
      " 22  bki_request        110148 non-null  int64  \n",
      " 23  car_car_type       110148 non-null  int32  \n",
      " 24  home_work_address  110148 non-null  int64  \n",
      " 25  age_cat            110148 non-null  int64  \n",
      " 26  sna_first_time     110148 non-null  int64  \n",
      " 27  month              110148 non-null  int64  \n",
      " 28  weekday            110148 non-null  int64  \n",
      " 29  is_weekend         110148 non-null  int64  \n",
      " 30  day_of_yar         110148 non-null  int64  \n",
      "dtypes: float64(3), int32(4), int64(24)\n",
      "memory usage: 24.4 MB\n"
     ]
    }
   ],
   "source": [
    "data.info()"
   ]
  },
  {
   "cell_type": "code",
   "execution_count": 437,
   "id": "1553a2b2",
   "metadata": {},
   "outputs": [],
   "source": [
    "poly = PolynomialFeatures(2)"
   ]
  },
  {
   "cell_type": "code",
   "execution_count": 438,
   "id": "d3801fc3",
   "metadata": {
    "scrolled": false
   },
   "outputs": [],
   "source": [
    "data_pol = poly.fit_transform(data)"
   ]
  },
  {
   "cell_type": "code",
   "execution_count": 439,
   "id": "e3ca1926",
   "metadata": {},
   "outputs": [],
   "source": [
    "data_pol = pd.DataFrame(data_pol)"
   ]
  },
  {
   "cell_type": "code",
   "execution_count": 440,
   "id": "0235e3c5",
   "metadata": {},
   "outputs": [
    {
     "data": {
      "text/html": [
       "<div>\n",
       "<style scoped>\n",
       "    .dataframe tbody tr th:only-of-type {\n",
       "        vertical-align: middle;\n",
       "    }\n",
       "\n",
       "    .dataframe tbody tr th {\n",
       "        vertical-align: top;\n",
       "    }\n",
       "\n",
       "    .dataframe thead th {\n",
       "        text-align: right;\n",
       "    }\n",
       "</style>\n",
       "<table border=\"1\" class=\"dataframe\">\n",
       "  <thead>\n",
       "    <tr style=\"text-align: right;\">\n",
       "      <th></th>\n",
       "      <th>0</th>\n",
       "      <th>1</th>\n",
       "      <th>2</th>\n",
       "      <th>3</th>\n",
       "      <th>4</th>\n",
       "      <th>5</th>\n",
       "      <th>6</th>\n",
       "      <th>7</th>\n",
       "      <th>8</th>\n",
       "      <th>9</th>\n",
       "      <th>...</th>\n",
       "      <th>551</th>\n",
       "      <th>552</th>\n",
       "      <th>553</th>\n",
       "      <th>554</th>\n",
       "      <th>555</th>\n",
       "      <th>556</th>\n",
       "      <th>557</th>\n",
       "      <th>558</th>\n",
       "      <th>559</th>\n",
       "      <th>560</th>\n",
       "    </tr>\n",
       "  </thead>\n",
       "  <tbody>\n",
       "    <tr>\n",
       "      <th>0</th>\n",
       "      <td>1.0</td>\n",
       "      <td>74835.0</td>\n",
       "      <td>2.0</td>\n",
       "      <td>1.0</td>\n",
       "      <td>29.0</td>\n",
       "      <td>1.0</td>\n",
       "      <td>1.0</td>\n",
       "      <td>0.0</td>\n",
       "      <td>0.0</td>\n",
       "      <td>-2.271884</td>\n",
       "      <td>...</td>\n",
       "      <td>9.0</td>\n",
       "      <td>243.0</td>\n",
       "      <td>15.0</td>\n",
       "      <td>3.0</td>\n",
       "      <td>6561.0</td>\n",
       "      <td>405.0</td>\n",
       "      <td>81.0</td>\n",
       "      <td>25.0</td>\n",
       "      <td>5.0</td>\n",
       "      <td>1.0</td>\n",
       "    </tr>\n",
       "    <tr>\n",
       "      <th>1</th>\n",
       "      <td>1.0</td>\n",
       "      <td>17527.0</td>\n",
       "      <td>0.0</td>\n",
       "      <td>0.0</td>\n",
       "      <td>39.0</td>\n",
       "      <td>0.0</td>\n",
       "      <td>0.0</td>\n",
       "      <td>5.0</td>\n",
       "      <td>0.0</td>\n",
       "      <td>-1.504999</td>\n",
       "      <td>...</td>\n",
       "      <td>1.0</td>\n",
       "      <td>24.0</td>\n",
       "      <td>4.0</td>\n",
       "      <td>0.0</td>\n",
       "      <td>576.0</td>\n",
       "      <td>96.0</td>\n",
       "      <td>0.0</td>\n",
       "      <td>16.0</td>\n",
       "      <td>0.0</td>\n",
       "      <td>0.0</td>\n",
       "    </tr>\n",
       "    <tr>\n",
       "      <th>2</th>\n",
       "      <td>1.0</td>\n",
       "      <td>75683.0</td>\n",
       "      <td>1.0</td>\n",
       "      <td>1.0</td>\n",
       "      <td>50.0</td>\n",
       "      <td>1.0</td>\n",
       "      <td>1.0</td>\n",
       "      <td>0.0</td>\n",
       "      <td>0.0</td>\n",
       "      <td>-1.691339</td>\n",
       "      <td>...</td>\n",
       "      <td>9.0</td>\n",
       "      <td>246.0</td>\n",
       "      <td>18.0</td>\n",
       "      <td>3.0</td>\n",
       "      <td>6724.0</td>\n",
       "      <td>492.0</td>\n",
       "      <td>82.0</td>\n",
       "      <td>36.0</td>\n",
       "      <td>6.0</td>\n",
       "      <td>1.0</td>\n",
       "    </tr>\n",
       "    <tr>\n",
       "      <th>3</th>\n",
       "      <td>1.0</td>\n",
       "      <td>26883.0</td>\n",
       "      <td>0.0</td>\n",
       "      <td>1.0</td>\n",
       "      <td>56.0</td>\n",
       "      <td>0.0</td>\n",
       "      <td>0.0</td>\n",
       "      <td>0.0</td>\n",
       "      <td>0.0</td>\n",
       "      <td>-2.374182</td>\n",
       "      <td>...</td>\n",
       "      <td>4.0</td>\n",
       "      <td>68.0</td>\n",
       "      <td>0.0</td>\n",
       "      <td>0.0</td>\n",
       "      <td>1156.0</td>\n",
       "      <td>0.0</td>\n",
       "      <td>0.0</td>\n",
       "      <td>0.0</td>\n",
       "      <td>0.0</td>\n",
       "      <td>0.0</td>\n",
       "    </tr>\n",
       "    <tr>\n",
       "      <th>4</th>\n",
       "      <td>1.0</td>\n",
       "      <td>28862.0</td>\n",
       "      <td>2.0</td>\n",
       "      <td>0.0</td>\n",
       "      <td>38.0</td>\n",
       "      <td>0.0</td>\n",
       "      <td>0.0</td>\n",
       "      <td>0.0</td>\n",
       "      <td>0.0</td>\n",
       "      <td>-2.487502</td>\n",
       "      <td>...</td>\n",
       "      <td>4.0</td>\n",
       "      <td>70.0</td>\n",
       "      <td>2.0</td>\n",
       "      <td>0.0</td>\n",
       "      <td>1225.0</td>\n",
       "      <td>35.0</td>\n",
       "      <td>0.0</td>\n",
       "      <td>1.0</td>\n",
       "      <td>0.0</td>\n",
       "      <td>0.0</td>\n",
       "    </tr>\n",
       "    <tr>\n",
       "      <th>...</th>\n",
       "      <td>...</td>\n",
       "      <td>...</td>\n",
       "      <td>...</td>\n",
       "      <td>...</td>\n",
       "      <td>...</td>\n",
       "      <td>...</td>\n",
       "      <td>...</td>\n",
       "      <td>...</td>\n",
       "      <td>...</td>\n",
       "      <td>...</td>\n",
       "      <td>...</td>\n",
       "      <td>...</td>\n",
       "      <td>...</td>\n",
       "      <td>...</td>\n",
       "      <td>...</td>\n",
       "      <td>...</td>\n",
       "      <td>...</td>\n",
       "      <td>...</td>\n",
       "      <td>...</td>\n",
       "      <td>...</td>\n",
       "      <td>...</td>\n",
       "    </tr>\n",
       "    <tr>\n",
       "      <th>110143</th>\n",
       "      <td>1.0</td>\n",
       "      <td>54887.0</td>\n",
       "      <td>2.0</td>\n",
       "      <td>0.0</td>\n",
       "      <td>45.0</td>\n",
       "      <td>0.0</td>\n",
       "      <td>0.0</td>\n",
       "      <td>0.0</td>\n",
       "      <td>0.0</td>\n",
       "      <td>-1.792064</td>\n",
       "      <td>...</td>\n",
       "      <td>9.0</td>\n",
       "      <td>189.0</td>\n",
       "      <td>3.0</td>\n",
       "      <td>0.0</td>\n",
       "      <td>3969.0</td>\n",
       "      <td>63.0</td>\n",
       "      <td>0.0</td>\n",
       "      <td>1.0</td>\n",
       "      <td>0.0</td>\n",
       "      <td>0.0</td>\n",
       "    </tr>\n",
       "    <tr>\n",
       "      <th>110144</th>\n",
       "      <td>1.0</td>\n",
       "      <td>76821.0</td>\n",
       "      <td>0.0</td>\n",
       "      <td>1.0</td>\n",
       "      <td>41.0</td>\n",
       "      <td>1.0</td>\n",
       "      <td>1.0</td>\n",
       "      <td>0.0</td>\n",
       "      <td>0.0</td>\n",
       "      <td>-2.058029</td>\n",
       "      <td>...</td>\n",
       "      <td>9.0</td>\n",
       "      <td>249.0</td>\n",
       "      <td>0.0</td>\n",
       "      <td>0.0</td>\n",
       "      <td>6889.0</td>\n",
       "      <td>0.0</td>\n",
       "      <td>0.0</td>\n",
       "      <td>0.0</td>\n",
       "      <td>0.0</td>\n",
       "      <td>0.0</td>\n",
       "    </tr>\n",
       "    <tr>\n",
       "      <th>110145</th>\n",
       "      <td>1.0</td>\n",
       "      <td>103695.0</td>\n",
       "      <td>0.0</td>\n",
       "      <td>1.0</td>\n",
       "      <td>31.0</td>\n",
       "      <td>0.0</td>\n",
       "      <td>0.0</td>\n",
       "      <td>0.0</td>\n",
       "      <td>0.0</td>\n",
       "      <td>-1.512635</td>\n",
       "      <td>...</td>\n",
       "      <td>16.0</td>\n",
       "      <td>448.0</td>\n",
       "      <td>4.0</td>\n",
       "      <td>0.0</td>\n",
       "      <td>12544.0</td>\n",
       "      <td>112.0</td>\n",
       "      <td>0.0</td>\n",
       "      <td>1.0</td>\n",
       "      <td>0.0</td>\n",
       "      <td>0.0</td>\n",
       "    </tr>\n",
       "    <tr>\n",
       "      <th>110146</th>\n",
       "      <td>1.0</td>\n",
       "      <td>861.0</td>\n",
       "      <td>0.0</td>\n",
       "      <td>0.0</td>\n",
       "      <td>29.0</td>\n",
       "      <td>0.0</td>\n",
       "      <td>0.0</td>\n",
       "      <td>0.0</td>\n",
       "      <td>1.0</td>\n",
       "      <td>-1.479334</td>\n",
       "      <td>...</td>\n",
       "      <td>1.0</td>\n",
       "      <td>4.0</td>\n",
       "      <td>5.0</td>\n",
       "      <td>1.0</td>\n",
       "      <td>16.0</td>\n",
       "      <td>20.0</td>\n",
       "      <td>4.0</td>\n",
       "      <td>25.0</td>\n",
       "      <td>5.0</td>\n",
       "      <td>1.0</td>\n",
       "    </tr>\n",
       "    <tr>\n",
       "      <th>110147</th>\n",
       "      <td>1.0</td>\n",
       "      <td>15796.0</td>\n",
       "      <td>2.0</td>\n",
       "      <td>1.0</td>\n",
       "      <td>34.0</td>\n",
       "      <td>0.0</td>\n",
       "      <td>0.0</td>\n",
       "      <td>0.0</td>\n",
       "      <td>0.0</td>\n",
       "      <td>-1.764711</td>\n",
       "      <td>...</td>\n",
       "      <td>1.0</td>\n",
       "      <td>23.0</td>\n",
       "      <td>3.0</td>\n",
       "      <td>0.0</td>\n",
       "      <td>529.0</td>\n",
       "      <td>69.0</td>\n",
       "      <td>0.0</td>\n",
       "      <td>9.0</td>\n",
       "      <td>0.0</td>\n",
       "      <td>0.0</td>\n",
       "    </tr>\n",
       "  </tbody>\n",
       "</table>\n",
       "<p>110148 rows × 561 columns</p>\n",
       "</div>"
      ],
      "text/plain": [
       "        0         1    2    3     4    5    6    7    8         9    ...  \\\n",
       "0       1.0   74835.0  2.0  1.0  29.0  1.0  1.0  0.0  0.0 -2.271884  ...   \n",
       "1       1.0   17527.0  0.0  0.0  39.0  0.0  0.0  5.0  0.0 -1.504999  ...   \n",
       "2       1.0   75683.0  1.0  1.0  50.0  1.0  1.0  0.0  0.0 -1.691339  ...   \n",
       "3       1.0   26883.0  0.0  1.0  56.0  0.0  0.0  0.0  0.0 -2.374182  ...   \n",
       "4       1.0   28862.0  2.0  0.0  38.0  0.0  0.0  0.0  0.0 -2.487502  ...   \n",
       "...     ...       ...  ...  ...   ...  ...  ...  ...  ...       ...  ...   \n",
       "110143  1.0   54887.0  2.0  0.0  45.0  0.0  0.0  0.0  0.0 -1.792064  ...   \n",
       "110144  1.0   76821.0  0.0  1.0  41.0  1.0  1.0  0.0  0.0 -2.058029  ...   \n",
       "110145  1.0  103695.0  0.0  1.0  31.0  0.0  0.0  0.0  0.0 -1.512635  ...   \n",
       "110146  1.0     861.0  0.0  0.0  29.0  0.0  0.0  0.0  1.0 -1.479334  ...   \n",
       "110147  1.0   15796.0  2.0  1.0  34.0  0.0  0.0  0.0  0.0 -1.764711  ...   \n",
       "\n",
       "         551    552   553  554      555    556   557   558  559  560  \n",
       "0        9.0  243.0  15.0  3.0   6561.0  405.0  81.0  25.0  5.0  1.0  \n",
       "1        1.0   24.0   4.0  0.0    576.0   96.0   0.0  16.0  0.0  0.0  \n",
       "2        9.0  246.0  18.0  3.0   6724.0  492.0  82.0  36.0  6.0  1.0  \n",
       "3        4.0   68.0   0.0  0.0   1156.0    0.0   0.0   0.0  0.0  0.0  \n",
       "4        4.0   70.0   2.0  0.0   1225.0   35.0   0.0   1.0  0.0  0.0  \n",
       "...      ...    ...   ...  ...      ...    ...   ...   ...  ...  ...  \n",
       "110143   9.0  189.0   3.0  0.0   3969.0   63.0   0.0   1.0  0.0  0.0  \n",
       "110144   9.0  249.0   0.0  0.0   6889.0    0.0   0.0   0.0  0.0  0.0  \n",
       "110145  16.0  448.0   4.0  0.0  12544.0  112.0   0.0   1.0  0.0  0.0  \n",
       "110146   1.0    4.0   5.0  1.0     16.0   20.0   4.0  25.0  5.0  1.0  \n",
       "110147   1.0   23.0   3.0  0.0    529.0   69.0   0.0   9.0  0.0  0.0  \n",
       "\n",
       "[110148 rows x 561 columns]"
      ]
     },
     "execution_count": 440,
     "metadata": {},
     "output_type": "execute_result"
    }
   ],
   "source": [
    "data_pol"
   ]
  },
  {
   "cell_type": "code",
   "execution_count": 441,
   "id": "40b1b8e1",
   "metadata": {
    "scrolled": true
   },
   "outputs": [],
   "source": [
    "data1 = data.join(data_pol)"
   ]
  },
  {
   "cell_type": "code",
   "execution_count": 302,
   "id": "6a4d7031",
   "metadata": {
    "scrolled": true
   },
   "outputs": [
    {
     "data": {
      "text/plain": [
       "Index(['education', 'sex', 'age', 'car', 'car_type', 'decline_app_cnt',\n",
       "       'good_work', 'score_bki', 'bki_request_cnt', 'region_rating',\n",
       "       'home_address', 'work_address', 'income', 'sna', 'first_time',\n",
       "       'foreign_passport', 'default', 'sample', 'income_log', 'age_log',\n",
       "       'decline_app', 'income_cat', 'bki_request', 'car_car_type',\n",
       "       'home_work_address', 'age_cat', 'sna_first_time', 'month', 'weekday',\n",
       "       'is_weekend', 'day_of_yar'],\n",
       "      dtype='object')"
      ]
     },
     "execution_count": 302,
     "metadata": {},
     "output_type": "execute_result"
    }
   ],
   "source": [
    "data.columns"
   ]
  },
  {
   "cell_type": "markdown",
   "id": "96cb51ef",
   "metadata": {},
   "source": [
    "!!!!!!!!Выберем дискретные и числовые признаки, отсеем их по F-class и Mutual-info-class"
   ]
  },
  {
   "cell_type": "code",
   "execution_count": null,
   "id": "c40f9aa0",
   "metadata": {},
   "outputs": [],
   "source": [
    "#diskrete = "
   ]
  },
  {
   "cell_type": "code",
   "execution_count": 442,
   "id": "01379d2d",
   "metadata": {
    "scrolled": true
   },
   "outputs": [
    {
     "data": {
      "text/html": [
       "<div>\n",
       "<style scoped>\n",
       "    .dataframe tbody tr th:only-of-type {\n",
       "        vertical-align: middle;\n",
       "    }\n",
       "\n",
       "    .dataframe tbody tr th {\n",
       "        vertical-align: top;\n",
       "    }\n",
       "\n",
       "    .dataframe thead th {\n",
       "        text-align: right;\n",
       "    }\n",
       "</style>\n",
       "<table border=\"1\" class=\"dataframe\">\n",
       "  <thead>\n",
       "    <tr style=\"text-align: right;\">\n",
       "      <th></th>\n",
       "      <th>client_id</th>\n",
       "      <th>education</th>\n",
       "      <th>sex</th>\n",
       "      <th>age</th>\n",
       "      <th>car</th>\n",
       "      <th>car_type</th>\n",
       "      <th>decline_app_cnt</th>\n",
       "      <th>good_work</th>\n",
       "      <th>score_bki</th>\n",
       "      <th>bki_request_cnt</th>\n",
       "      <th>...</th>\n",
       "      <th>551</th>\n",
       "      <th>552</th>\n",
       "      <th>553</th>\n",
       "      <th>554</th>\n",
       "      <th>555</th>\n",
       "      <th>556</th>\n",
       "      <th>557</th>\n",
       "      <th>558</th>\n",
       "      <th>559</th>\n",
       "      <th>560</th>\n",
       "    </tr>\n",
       "  </thead>\n",
       "  <tbody>\n",
       "    <tr>\n",
       "      <th>0</th>\n",
       "      <td>74835</td>\n",
       "      <td>2</td>\n",
       "      <td>1</td>\n",
       "      <td>29</td>\n",
       "      <td>1</td>\n",
       "      <td>1</td>\n",
       "      <td>0</td>\n",
       "      <td>0</td>\n",
       "      <td>-2.271884</td>\n",
       "      <td>3</td>\n",
       "      <td>...</td>\n",
       "      <td>9.0</td>\n",
       "      <td>243.0</td>\n",
       "      <td>15.0</td>\n",
       "      <td>3.0</td>\n",
       "      <td>6561.0</td>\n",
       "      <td>405.0</td>\n",
       "      <td>81.0</td>\n",
       "      <td>25.0</td>\n",
       "      <td>5.0</td>\n",
       "      <td>1.0</td>\n",
       "    </tr>\n",
       "    <tr>\n",
       "      <th>1</th>\n",
       "      <td>17527</td>\n",
       "      <td>0</td>\n",
       "      <td>0</td>\n",
       "      <td>39</td>\n",
       "      <td>0</td>\n",
       "      <td>0</td>\n",
       "      <td>5</td>\n",
       "      <td>0</td>\n",
       "      <td>-1.504999</td>\n",
       "      <td>2</td>\n",
       "      <td>...</td>\n",
       "      <td>1.0</td>\n",
       "      <td>24.0</td>\n",
       "      <td>4.0</td>\n",
       "      <td>0.0</td>\n",
       "      <td>576.0</td>\n",
       "      <td>96.0</td>\n",
       "      <td>0.0</td>\n",
       "      <td>16.0</td>\n",
       "      <td>0.0</td>\n",
       "      <td>0.0</td>\n",
       "    </tr>\n",
       "    <tr>\n",
       "      <th>2</th>\n",
       "      <td>75683</td>\n",
       "      <td>1</td>\n",
       "      <td>1</td>\n",
       "      <td>50</td>\n",
       "      <td>1</td>\n",
       "      <td>1</td>\n",
       "      <td>0</td>\n",
       "      <td>0</td>\n",
       "      <td>-1.691339</td>\n",
       "      <td>1</td>\n",
       "      <td>...</td>\n",
       "      <td>9.0</td>\n",
       "      <td>246.0</td>\n",
       "      <td>18.0</td>\n",
       "      <td>3.0</td>\n",
       "      <td>6724.0</td>\n",
       "      <td>492.0</td>\n",
       "      <td>82.0</td>\n",
       "      <td>36.0</td>\n",
       "      <td>6.0</td>\n",
       "      <td>1.0</td>\n",
       "    </tr>\n",
       "    <tr>\n",
       "      <th>3</th>\n",
       "      <td>26883</td>\n",
       "      <td>0</td>\n",
       "      <td>1</td>\n",
       "      <td>56</td>\n",
       "      <td>0</td>\n",
       "      <td>0</td>\n",
       "      <td>0</td>\n",
       "      <td>0</td>\n",
       "      <td>-2.374182</td>\n",
       "      <td>1</td>\n",
       "      <td>...</td>\n",
       "      <td>4.0</td>\n",
       "      <td>68.0</td>\n",
       "      <td>0.0</td>\n",
       "      <td>0.0</td>\n",
       "      <td>1156.0</td>\n",
       "      <td>0.0</td>\n",
       "      <td>0.0</td>\n",
       "      <td>0.0</td>\n",
       "      <td>0.0</td>\n",
       "      <td>0.0</td>\n",
       "    </tr>\n",
       "    <tr>\n",
       "      <th>4</th>\n",
       "      <td>28862</td>\n",
       "      <td>2</td>\n",
       "      <td>0</td>\n",
       "      <td>38</td>\n",
       "      <td>0</td>\n",
       "      <td>0</td>\n",
       "      <td>0</td>\n",
       "      <td>0</td>\n",
       "      <td>-2.487502</td>\n",
       "      <td>0</td>\n",
       "      <td>...</td>\n",
       "      <td>4.0</td>\n",
       "      <td>70.0</td>\n",
       "      <td>2.0</td>\n",
       "      <td>0.0</td>\n",
       "      <td>1225.0</td>\n",
       "      <td>35.0</td>\n",
       "      <td>0.0</td>\n",
       "      <td>1.0</td>\n",
       "      <td>0.0</td>\n",
       "      <td>0.0</td>\n",
       "    </tr>\n",
       "    <tr>\n",
       "      <th>...</th>\n",
       "      <td>...</td>\n",
       "      <td>...</td>\n",
       "      <td>...</td>\n",
       "      <td>...</td>\n",
       "      <td>...</td>\n",
       "      <td>...</td>\n",
       "      <td>...</td>\n",
       "      <td>...</td>\n",
       "      <td>...</td>\n",
       "      <td>...</td>\n",
       "      <td>...</td>\n",
       "      <td>...</td>\n",
       "      <td>...</td>\n",
       "      <td>...</td>\n",
       "      <td>...</td>\n",
       "      <td>...</td>\n",
       "      <td>...</td>\n",
       "      <td>...</td>\n",
       "      <td>...</td>\n",
       "      <td>...</td>\n",
       "      <td>...</td>\n",
       "    </tr>\n",
       "    <tr>\n",
       "      <th>110143</th>\n",
       "      <td>54887</td>\n",
       "      <td>2</td>\n",
       "      <td>0</td>\n",
       "      <td>45</td>\n",
       "      <td>0</td>\n",
       "      <td>0</td>\n",
       "      <td>0</td>\n",
       "      <td>0</td>\n",
       "      <td>-1.792064</td>\n",
       "      <td>3</td>\n",
       "      <td>...</td>\n",
       "      <td>9.0</td>\n",
       "      <td>189.0</td>\n",
       "      <td>3.0</td>\n",
       "      <td>0.0</td>\n",
       "      <td>3969.0</td>\n",
       "      <td>63.0</td>\n",
       "      <td>0.0</td>\n",
       "      <td>1.0</td>\n",
       "      <td>0.0</td>\n",
       "      <td>0.0</td>\n",
       "    </tr>\n",
       "    <tr>\n",
       "      <th>110144</th>\n",
       "      <td>76821</td>\n",
       "      <td>0</td>\n",
       "      <td>1</td>\n",
       "      <td>41</td>\n",
       "      <td>1</td>\n",
       "      <td>1</td>\n",
       "      <td>0</td>\n",
       "      <td>0</td>\n",
       "      <td>-2.058029</td>\n",
       "      <td>1</td>\n",
       "      <td>...</td>\n",
       "      <td>9.0</td>\n",
       "      <td>249.0</td>\n",
       "      <td>0.0</td>\n",
       "      <td>0.0</td>\n",
       "      <td>6889.0</td>\n",
       "      <td>0.0</td>\n",
       "      <td>0.0</td>\n",
       "      <td>0.0</td>\n",
       "      <td>0.0</td>\n",
       "      <td>0.0</td>\n",
       "    </tr>\n",
       "    <tr>\n",
       "      <th>110145</th>\n",
       "      <td>103695</td>\n",
       "      <td>0</td>\n",
       "      <td>1</td>\n",
       "      <td>31</td>\n",
       "      <td>0</td>\n",
       "      <td>0</td>\n",
       "      <td>0</td>\n",
       "      <td>0</td>\n",
       "      <td>-1.512635</td>\n",
       "      <td>4</td>\n",
       "      <td>...</td>\n",
       "      <td>16.0</td>\n",
       "      <td>448.0</td>\n",
       "      <td>4.0</td>\n",
       "      <td>0.0</td>\n",
       "      <td>12544.0</td>\n",
       "      <td>112.0</td>\n",
       "      <td>0.0</td>\n",
       "      <td>1.0</td>\n",
       "      <td>0.0</td>\n",
       "      <td>0.0</td>\n",
       "    </tr>\n",
       "    <tr>\n",
       "      <th>110146</th>\n",
       "      <td>861</td>\n",
       "      <td>0</td>\n",
       "      <td>0</td>\n",
       "      <td>29</td>\n",
       "      <td>0</td>\n",
       "      <td>0</td>\n",
       "      <td>0</td>\n",
       "      <td>1</td>\n",
       "      <td>-1.479334</td>\n",
       "      <td>3</td>\n",
       "      <td>...</td>\n",
       "      <td>1.0</td>\n",
       "      <td>4.0</td>\n",
       "      <td>5.0</td>\n",
       "      <td>1.0</td>\n",
       "      <td>16.0</td>\n",
       "      <td>20.0</td>\n",
       "      <td>4.0</td>\n",
       "      <td>25.0</td>\n",
       "      <td>5.0</td>\n",
       "      <td>1.0</td>\n",
       "    </tr>\n",
       "    <tr>\n",
       "      <th>110147</th>\n",
       "      <td>15796</td>\n",
       "      <td>2</td>\n",
       "      <td>1</td>\n",
       "      <td>34</td>\n",
       "      <td>0</td>\n",
       "      <td>0</td>\n",
       "      <td>0</td>\n",
       "      <td>0</td>\n",
       "      <td>-1.764711</td>\n",
       "      <td>2</td>\n",
       "      <td>...</td>\n",
       "      <td>1.0</td>\n",
       "      <td>23.0</td>\n",
       "      <td>3.0</td>\n",
       "      <td>0.0</td>\n",
       "      <td>529.0</td>\n",
       "      <td>69.0</td>\n",
       "      <td>0.0</td>\n",
       "      <td>9.0</td>\n",
       "      <td>0.0</td>\n",
       "      <td>0.0</td>\n",
       "    </tr>\n",
       "  </tbody>\n",
       "</table>\n",
       "<p>110148 rows × 593 columns</p>\n",
       "</div>"
      ],
      "text/plain": [
       "        client_id  education  sex  age  car  car_type  decline_app_cnt  \\\n",
       "0           74835          2    1   29    1         1                0   \n",
       "1           17527          0    0   39    0         0                5   \n",
       "2           75683          1    1   50    1         1                0   \n",
       "3           26883          0    1   56    0         0                0   \n",
       "4           28862          2    0   38    0         0                0   \n",
       "...           ...        ...  ...  ...  ...       ...              ...   \n",
       "110143      54887          2    0   45    0         0                0   \n",
       "110144      76821          0    1   41    1         1                0   \n",
       "110145     103695          0    1   31    0         0                0   \n",
       "110146        861          0    0   29    0         0                0   \n",
       "110147      15796          2    1   34    0         0                0   \n",
       "\n",
       "        good_work  score_bki  bki_request_cnt  ...   551    552   553  554  \\\n",
       "0               0  -2.271884                3  ...   9.0  243.0  15.0  3.0   \n",
       "1               0  -1.504999                2  ...   1.0   24.0   4.0  0.0   \n",
       "2               0  -1.691339                1  ...   9.0  246.0  18.0  3.0   \n",
       "3               0  -2.374182                1  ...   4.0   68.0   0.0  0.0   \n",
       "4               0  -2.487502                0  ...   4.0   70.0   2.0  0.0   \n",
       "...           ...        ...              ...  ...   ...    ...   ...  ...   \n",
       "110143          0  -1.792064                3  ...   9.0  189.0   3.0  0.0   \n",
       "110144          0  -2.058029                1  ...   9.0  249.0   0.0  0.0   \n",
       "110145          0  -1.512635                4  ...  16.0  448.0   4.0  0.0   \n",
       "110146          1  -1.479334                3  ...   1.0    4.0   5.0  1.0   \n",
       "110147          0  -1.764711                2  ...   1.0   23.0   3.0  0.0   \n",
       "\n",
       "            555    556   557   558  559  560  \n",
       "0        6561.0  405.0  81.0  25.0  5.0  1.0  \n",
       "1         576.0   96.0   0.0  16.0  0.0  0.0  \n",
       "2        6724.0  492.0  82.0  36.0  6.0  1.0  \n",
       "3        1156.0    0.0   0.0   0.0  0.0  0.0  \n",
       "4        1225.0   35.0   0.0   1.0  0.0  0.0  \n",
       "...         ...    ...   ...   ...  ...  ...  \n",
       "110143   3969.0   63.0   0.0   1.0  0.0  0.0  \n",
       "110144   6889.0    0.0   0.0   0.0  0.0  0.0  \n",
       "110145  12544.0  112.0   0.0   1.0  0.0  0.0  \n",
       "110146     16.0   20.0   4.0  25.0  5.0  1.0  \n",
       "110147    529.0   69.0   0.0   9.0  0.0  0.0  \n",
       "\n",
       "[110148 rows x 593 columns]"
      ]
     },
     "execution_count": 442,
     "metadata": {},
     "output_type": "execute_result"
    }
   ],
   "source": [
    "data1"
   ]
  },
  {
   "cell_type": "markdown",
   "id": "5a133aec",
   "metadata": {},
   "source": [
    "обучим модель на всех признаках"
   ]
  },
  {
   "cell_type": "code",
   "execution_count": 486,
   "id": "f0dc6b9b",
   "metadata": {},
   "outputs": [],
   "source": [
    "# Теперь выделим тестовую часть\n",
    "train_data = data1.query('sample == 1').drop(['sample'], axis=1)\n",
    "test_data = data1.query('sample == 0').drop(['sample'], axis=1)\n",
    "\n",
    "y = train_data.default.values            # наш таргет\n",
    "X = train_data.drop(['default', 'client_id'], axis=1)"
   ]
  },
  {
   "cell_type": "code",
   "execution_count": 487,
   "id": "9c69380d",
   "metadata": {
    "scrolled": false
   },
   "outputs": [
    {
     "data": {
      "text/plain": [
       "array([[12933,     0],\n",
       "       [    0,  1827]], dtype=int64)"
      ]
     },
     "execution_count": 487,
     "metadata": {},
     "output_type": "execute_result"
    }
   ],
   "source": [
    "X = StandardScaler().fit_transform(X.values)\n",
    "X_train, X_test, y_train, y_test = train_test_split(X, y, test_size=0.2, random_state=RANDOM_SEED)\n",
    "model = LogisticRegression()\n",
    "model.fit(X_train, y_train)\n",
    "y_pred = model.predict(X_test)\n",
    "confusion_matrix(y_test, y_pred)"
   ]
  },
  {
   "cell_type": "code",
   "execution_count": 452,
   "id": "23f11468",
   "metadata": {},
   "outputs": [
    {
     "name": "stdout",
     "output_type": "stream",
     "text": [
      "1.0\n",
      "1.0\n",
      "1.0\n",
      "1.0\n"
     ]
    }
   ],
   "source": [
    "print(f1_score(y_test, y_pred))\n",
    "print(accuracy_score(y_test, y_pred))\n",
    "print(recall_score(y_test, y_pred))\n",
    "print(precision_score(y_test, y_pred))"
   ]
  },
  {
   "cell_type": "code",
   "execution_count": 453,
   "id": "c69f1a69",
   "metadata": {},
   "outputs": [
    {
     "name": "stdout",
     "output_type": "stream",
     "text": [
      "              precision    recall  f1-score   support\n",
      "\n",
      "           0       1.00      1.00      1.00     12933\n",
      "           1       1.00      1.00      1.00      1827\n",
      "\n",
      "    accuracy                           1.00     14760\n",
      "   macro avg       1.00      1.00      1.00     14760\n",
      "weighted avg       1.00      1.00      1.00     14760\n",
      "\n"
     ]
    }
   ],
   "source": [
    "print(classification_report(y_test, y_pred, output_dict=False))"
   ]
  },
  {
   "cell_type": "code",
   "execution_count": 454,
   "id": "c2b97234",
   "metadata": {},
   "outputs": [],
   "source": [
    "probs = model.predict_proba(X_test)"
   ]
  },
  {
   "cell_type": "code",
   "execution_count": 455,
   "id": "8980202b",
   "metadata": {},
   "outputs": [
    {
     "data": {
      "image/png": "[encoded data removed]",
      "text/plain": [
       "<Figure size 432x288 with 1 Axes>"
      ]
     },
     "metadata": {},
     "output_type": "display_data"
    }
   ],
   "source": [
    "fpr, tpr, threshold = roc_curve(y_test, probs[:,1])\n",
    "roc_auc = roc_auc_score(y_test, probs[:,1])\n",
    "\n",
    "plt.figure()\n",
    "plt.plot([0, 1], label='Baseline', linestyle='--')\n",
    "plt.plot(fpr, tpr, label = 'Regression')\n",
    "plt.title('Logistic Regression ROC AUC = %0.3f' % roc_auc)\n",
    "plt.ylabel('True Positive Rate')\n",
    "plt.xlabel('False Positive Rate')\n",
    "plt.legend(loc = 'lower right')\n",
    "plt.show()"
   ]
  },
  {
   "cell_type": "code",
   "execution_count": 456,
   "id": "3df111c5",
   "metadata": {},
   "outputs": [],
   "source": [
    "df_report = get_scores(df_report, model, X_test, \n",
    "                       y_test, 'LogisticRegression_All_scal')"
   ]
  },
  {
   "cell_type": "code",
   "execution_count": 457,
   "id": "dbdc766c",
   "metadata": {
    "scrolled": true
   },
   "outputs": [
    {
     "data": {
      "text/html": [
       "<div>\n",
       "<style scoped>\n",
       "    .dataframe tbody tr th:only-of-type {\n",
       "        vertical-align: middle;\n",
       "    }\n",
       "\n",
       "    .dataframe tbody tr th {\n",
       "        vertical-align: top;\n",
       "    }\n",
       "\n",
       "    .dataframe thead th {\n",
       "        text-align: right;\n",
       "    }\n",
       "</style>\n",
       "<table border=\"1\" class=\"dataframe\">\n",
       "  <thead>\n",
       "    <tr style=\"text-align: right;\">\n",
       "      <th></th>\n",
       "      <th>ROC-AUC</th>\n",
       "      <th>PR-AUC</th>\n",
       "      <th>F1</th>\n",
       "      <th>precision_Neg</th>\n",
       "      <th>precision_Pos</th>\n",
       "      <th>recall_Neg</th>\n",
       "      <th>recall_Pos</th>\n",
       "    </tr>\n",
       "  </thead>\n",
       "  <tbody>\n",
       "    <tr>\n",
       "      <th>LogisticRegression_Naive</th>\n",
       "      <td>0.589633</td>\n",
       "      <td>0.000000</td>\n",
       "      <td>0.000000</td>\n",
       "      <td>0.876220</td>\n",
       "      <td>0.000000</td>\n",
       "      <td>1.000000</td>\n",
       "      <td>0.000000</td>\n",
       "    </tr>\n",
       "    <tr>\n",
       "      <th>LogisticRegression_All</th>\n",
       "      <td>0.565067</td>\n",
       "      <td>0.000000</td>\n",
       "      <td>0.000000</td>\n",
       "      <td>0.876186</td>\n",
       "      <td>0.000000</td>\n",
       "      <td>0.999691</td>\n",
       "      <td>0.000000</td>\n",
       "    </tr>\n",
       "    <tr>\n",
       "      <th>LogisticRegression_simple_scale</th>\n",
       "      <td>0.740767</td>\n",
       "      <td>0.386139</td>\n",
       "      <td>0.040456</td>\n",
       "      <td>0.878027</td>\n",
       "      <td>0.386139</td>\n",
       "      <td>0.995206</td>\n",
       "      <td>0.021346</td>\n",
       "    </tr>\n",
       "    <tr>\n",
       "      <th>LogisticRegression_All_scal</th>\n",
       "      <td>1.000000</td>\n",
       "      <td>1.000000</td>\n",
       "      <td>1.000000</td>\n",
       "      <td>1.000000</td>\n",
       "      <td>1.000000</td>\n",
       "      <td>1.000000</td>\n",
       "      <td>1.000000</td>\n",
       "    </tr>\n",
       "  </tbody>\n",
       "</table>\n",
       "</div>"
      ],
      "text/plain": [
       "                                  ROC-AUC    PR-AUC        F1  precision_Neg  \\\n",
       "LogisticRegression_Naive         0.589633  0.000000  0.000000       0.876220   \n",
       "LogisticRegression_All           0.565067  0.000000  0.000000       0.876186   \n",
       "LogisticRegression_simple_scale  0.740767  0.386139  0.040456       0.878027   \n",
       "LogisticRegression_All_scal      1.000000  1.000000  1.000000       1.000000   \n",
       "\n",
       "                                 precision_Pos  recall_Neg  recall_Pos  \n",
       "LogisticRegression_Naive              0.000000    1.000000    0.000000  \n",
       "LogisticRegression_All                0.000000    0.999691    0.000000  \n",
       "LogisticRegression_simple_scale       0.386139    0.995206    0.021346  \n",
       "LogisticRegression_All_scal           1.000000    1.000000    1.000000  "
      ]
     },
     "execution_count": 457,
     "metadata": {},
     "output_type": "execute_result"
    }
   ],
   "source": [
    "df_report"
   ]
  },
  {
   "cell_type": "code",
   "execution_count": 458,
   "id": "b6207234",
   "metadata": {
    "scrolled": true
   },
   "outputs": [
    {
     "data": {
      "text/plain": [
       "5.271758598164489e-06"
      ]
     },
     "execution_count": 458,
     "metadata": {},
     "output_type": "execute_result"
    }
   ],
   "source": [
    "log_loss(y_test, probs)"
   ]
  },
  {
   "cell_type": "code",
   "execution_count": 481,
   "id": "00c295e8",
   "metadata": {},
   "outputs": [],
   "source": [
    "cv_metrics = cross_validate(model, X, y, cv=5, scoring='roc_auc', return_train_score=True)"
   ]
  },
  {
   "cell_type": "code",
   "execution_count": 482,
   "id": "40dc3fa9",
   "metadata": {},
   "outputs": [
    {
     "name": "stdout",
     "output_type": "stream",
     "text": [
      "[train] F1-score = 1.00 +/- 0.00\n",
      "[valid] F1-score = 1.00 +/- 0.00\n"
     ]
    },
    {
     "data": {
      "image/png": "[encoded data removed]",
      "text/plain": [
       "<Figure size 1080x360 with 1 Axes>"
      ]
     },
     "metadata": {},
     "output_type": "display_data"
    }
   ],
   "source": [
    "plot_cv_metrics(cv_metrics)"
   ]
  },
  {
   "cell_type": "markdown",
   "id": "0b7120e2",
   "metadata": {},
   "source": [
    "Модель выучила данные"
   ]
  },
  {
   "cell_type": "markdown",
   "id": "ea120b28",
   "metadata": {},
   "source": [
    "Обучим без полиноминалов с стандартизацией"
   ]
  },
  {
   "cell_type": "code",
   "execution_count": 498,
   "id": "d1d75e37",
   "metadata": {},
   "outputs": [],
   "source": [
    "# Теперь выделим тестовую часть\n",
    "train_data = data.query('sample == 1').drop(['sample'], axis=1)\n",
    "test_data = data.query('sample == 0').drop(['sample'], axis=1)\n",
    "\n",
    "y = train_data.default.values            # наш таргет\n",
    "X = train_data.drop(['default', 'client_id'], axis=1)"
   ]
  },
  {
   "cell_type": "code",
   "execution_count": 523,
   "id": "b2831987",
   "metadata": {},
   "outputs": [
    {
     "data": {
      "text/plain": [
       "0         1\n",
       "1         1\n",
       "2         0\n",
       "3         0\n",
       "4         0\n",
       "         ..\n",
       "110143    1\n",
       "110144    0\n",
       "110145    1\n",
       "110146    1\n",
       "110147    1\n",
       "Name: bki_request, Length: 110148, dtype: int64"
      ]
     },
     "execution_count": 523,
     "metadata": {},
     "output_type": "execute_result"
    }
   ],
   "source": [
    "data['bki_request']"
   ]
  },
  {
   "cell_type": "code",
   "execution_count": 517,
   "id": "886b4664",
   "metadata": {
    "scrolled": true
   },
   "outputs": [
    {
     "data": {
      "text/plain": [
       "Index(['client_id', 'education', 'sex', 'age', 'car', 'car_type',\n",
       "       'decline_app_cnt', 'good_work', 'score_bki', 'bki_request_cnt',\n",
       "       'region_rating', 'home_address', 'work_address', 'income', 'sna',\n",
       "       'first_time', 'foreign_passport', 'default', 'sample', 'income_log',\n",
       "       'age_log', 'age_cat', 'decline_app', 'income_cat', 'bki_request',\n",
       "       'car_car_type', 'home_work_address', 'sna_first_time', 'month',\n",
       "       'day_of_yar', 'weekday', 'is_weekend'],\n",
       "      dtype='object')"
      ]
     },
     "execution_count": 517,
     "metadata": {},
     "output_type": "execute_result"
    }
   ],
   "source": [
    "data.columns"
   ]
  },
  {
   "cell_type": "code",
   "execution_count": 571,
   "id": "95c68c7e",
   "metadata": {},
   "outputs": [
    {
     "data": {
      "text/html": [
       "<div>\n",
       "<style scoped>\n",
       "    .dataframe tbody tr th:only-of-type {\n",
       "        vertical-align: middle;\n",
       "    }\n",
       "\n",
       "    .dataframe tbody tr th {\n",
       "        vertical-align: top;\n",
       "    }\n",
       "\n",
       "    .dataframe thead th {\n",
       "        text-align: right;\n",
       "    }\n",
       "</style>\n",
       "<table border=\"1\" class=\"dataframe\">\n",
       "  <thead>\n",
       "    <tr style=\"text-align: right;\">\n",
       "      <th></th>\n",
       "      <th>client_id</th>\n",
       "      <th>education</th>\n",
       "      <th>sex</th>\n",
       "      <th>age</th>\n",
       "      <th>car</th>\n",
       "      <th>car_type</th>\n",
       "      <th>decline_app_cnt</th>\n",
       "      <th>good_work</th>\n",
       "      <th>score_bki</th>\n",
       "      <th>bki_request_cnt</th>\n",
       "      <th>...</th>\n",
       "      <th>decline_app</th>\n",
       "      <th>income_cat</th>\n",
       "      <th>bki_request</th>\n",
       "      <th>car_car_type</th>\n",
       "      <th>home_work_address</th>\n",
       "      <th>sna_first_time</th>\n",
       "      <th>month</th>\n",
       "      <th>day_of_yar</th>\n",
       "      <th>weekday</th>\n",
       "      <th>is_weekend</th>\n",
       "    </tr>\n",
       "  </thead>\n",
       "  <tbody>\n",
       "    <tr>\n",
       "      <th>0</th>\n",
       "      <td>74835</td>\n",
       "      <td>2</td>\n",
       "      <td>1</td>\n",
       "      <td>29</td>\n",
       "      <td>1</td>\n",
       "      <td>1</td>\n",
       "      <td>0</td>\n",
       "      <td>0</td>\n",
       "      <td>-2.271884</td>\n",
       "      <td>3</td>\n",
       "      <td>...</td>\n",
       "      <td>0</td>\n",
       "      <td>2</td>\n",
       "      <td>1</td>\n",
       "      <td>2</td>\n",
       "      <td>3</td>\n",
       "      <td>5</td>\n",
       "      <td>3</td>\n",
       "      <td>81</td>\n",
       "      <td>5</td>\n",
       "      <td>1</td>\n",
       "    </tr>\n",
       "    <tr>\n",
       "      <th>1</th>\n",
       "      <td>17527</td>\n",
       "      <td>0</td>\n",
       "      <td>0</td>\n",
       "      <td>39</td>\n",
       "      <td>0</td>\n",
       "      <td>0</td>\n",
       "      <td>5</td>\n",
       "      <td>0</td>\n",
       "      <td>-1.504999</td>\n",
       "      <td>2</td>\n",
       "      <td>...</td>\n",
       "      <td>1</td>\n",
       "      <td>0</td>\n",
       "      <td>1</td>\n",
       "      <td>0</td>\n",
       "      <td>3</td>\n",
       "      <td>7</td>\n",
       "      <td>1</td>\n",
       "      <td>24</td>\n",
       "      <td>4</td>\n",
       "      <td>0</td>\n",
       "    </tr>\n",
       "    <tr>\n",
       "      <th>2</th>\n",
       "      <td>75683</td>\n",
       "      <td>1</td>\n",
       "      <td>1</td>\n",
       "      <td>50</td>\n",
       "      <td>1</td>\n",
       "      <td>1</td>\n",
       "      <td>0</td>\n",
       "      <td>0</td>\n",
       "      <td>-1.691339</td>\n",
       "      <td>1</td>\n",
       "      <td>...</td>\n",
       "      <td>0</td>\n",
       "      <td>1</td>\n",
       "      <td>0</td>\n",
       "      <td>2</td>\n",
       "      <td>3</td>\n",
       "      <td>4</td>\n",
       "      <td>3</td>\n",
       "      <td>82</td>\n",
       "      <td>6</td>\n",
       "      <td>1</td>\n",
       "    </tr>\n",
       "    <tr>\n",
       "      <th>3</th>\n",
       "      <td>26883</td>\n",
       "      <td>0</td>\n",
       "      <td>1</td>\n",
       "      <td>56</td>\n",
       "      <td>0</td>\n",
       "      <td>0</td>\n",
       "      <td>0</td>\n",
       "      <td>0</td>\n",
       "      <td>-2.374182</td>\n",
       "      <td>1</td>\n",
       "      <td>...</td>\n",
       "      <td>0</td>\n",
       "      <td>0</td>\n",
       "      <td>0</td>\n",
       "      <td>0</td>\n",
       "      <td>3</td>\n",
       "      <td>4</td>\n",
       "      <td>2</td>\n",
       "      <td>34</td>\n",
       "      <td>0</td>\n",
       "      <td>0</td>\n",
       "    </tr>\n",
       "    <tr>\n",
       "      <th>4</th>\n",
       "      <td>28862</td>\n",
       "      <td>2</td>\n",
       "      <td>0</td>\n",
       "      <td>38</td>\n",
       "      <td>0</td>\n",
       "      <td>0</td>\n",
       "      <td>0</td>\n",
       "      <td>0</td>\n",
       "      <td>-2.487502</td>\n",
       "      <td>0</td>\n",
       "      <td>...</td>\n",
       "      <td>0</td>\n",
       "      <td>2</td>\n",
       "      <td>0</td>\n",
       "      <td>0</td>\n",
       "      <td>5</td>\n",
       "      <td>4</td>\n",
       "      <td>2</td>\n",
       "      <td>35</td>\n",
       "      <td>1</td>\n",
       "      <td>0</td>\n",
       "    </tr>\n",
       "    <tr>\n",
       "      <th>...</th>\n",
       "      <td>...</td>\n",
       "      <td>...</td>\n",
       "      <td>...</td>\n",
       "      <td>...</td>\n",
       "      <td>...</td>\n",
       "      <td>...</td>\n",
       "      <td>...</td>\n",
       "      <td>...</td>\n",
       "      <td>...</td>\n",
       "      <td>...</td>\n",
       "      <td>...</td>\n",
       "      <td>...</td>\n",
       "      <td>...</td>\n",
       "      <td>...</td>\n",
       "      <td>...</td>\n",
       "      <td>...</td>\n",
       "      <td>...</td>\n",
       "      <td>...</td>\n",
       "      <td>...</td>\n",
       "      <td>...</td>\n",
       "      <td>...</td>\n",
       "    </tr>\n",
       "    <tr>\n",
       "      <th>110143</th>\n",
       "      <td>54887</td>\n",
       "      <td>2</td>\n",
       "      <td>0</td>\n",
       "      <td>45</td>\n",
       "      <td>0</td>\n",
       "      <td>0</td>\n",
       "      <td>0</td>\n",
       "      <td>0</td>\n",
       "      <td>-1.792064</td>\n",
       "      <td>3</td>\n",
       "      <td>...</td>\n",
       "      <td>0</td>\n",
       "      <td>0</td>\n",
       "      <td>1</td>\n",
       "      <td>0</td>\n",
       "      <td>3</td>\n",
       "      <td>8</td>\n",
       "      <td>3</td>\n",
       "      <td>63</td>\n",
       "      <td>1</td>\n",
       "      <td>0</td>\n",
       "    </tr>\n",
       "    <tr>\n",
       "      <th>110144</th>\n",
       "      <td>76821</td>\n",
       "      <td>0</td>\n",
       "      <td>1</td>\n",
       "      <td>41</td>\n",
       "      <td>1</td>\n",
       "      <td>1</td>\n",
       "      <td>0</td>\n",
       "      <td>0</td>\n",
       "      <td>-2.058029</td>\n",
       "      <td>1</td>\n",
       "      <td>...</td>\n",
       "      <td>0</td>\n",
       "      <td>2</td>\n",
       "      <td>0</td>\n",
       "      <td>2</td>\n",
       "      <td>4</td>\n",
       "      <td>5</td>\n",
       "      <td>3</td>\n",
       "      <td>83</td>\n",
       "      <td>0</td>\n",
       "      <td>0</td>\n",
       "    </tr>\n",
       "    <tr>\n",
       "      <th>110145</th>\n",
       "      <td>103695</td>\n",
       "      <td>0</td>\n",
       "      <td>1</td>\n",
       "      <td>31</td>\n",
       "      <td>0</td>\n",
       "      <td>0</td>\n",
       "      <td>0</td>\n",
       "      <td>0</td>\n",
       "      <td>-1.512635</td>\n",
       "      <td>4</td>\n",
       "      <td>...</td>\n",
       "      <td>0</td>\n",
       "      <td>1</td>\n",
       "      <td>1</td>\n",
       "      <td>0</td>\n",
       "      <td>5</td>\n",
       "      <td>4</td>\n",
       "      <td>4</td>\n",
       "      <td>112</td>\n",
       "      <td>1</td>\n",
       "      <td>0</td>\n",
       "    </tr>\n",
       "    <tr>\n",
       "      <th>110146</th>\n",
       "      <td>861</td>\n",
       "      <td>0</td>\n",
       "      <td>0</td>\n",
       "      <td>29</td>\n",
       "      <td>0</td>\n",
       "      <td>0</td>\n",
       "      <td>0</td>\n",
       "      <td>1</td>\n",
       "      <td>-1.479334</td>\n",
       "      <td>3</td>\n",
       "      <td>...</td>\n",
       "      <td>0</td>\n",
       "      <td>0</td>\n",
       "      <td>1</td>\n",
       "      <td>0</td>\n",
       "      <td>4</td>\n",
       "      <td>5</td>\n",
       "      <td>1</td>\n",
       "      <td>4</td>\n",
       "      <td>5</td>\n",
       "      <td>1</td>\n",
       "    </tr>\n",
       "    <tr>\n",
       "      <th>110147</th>\n",
       "      <td>15796</td>\n",
       "      <td>2</td>\n",
       "      <td>1</td>\n",
       "      <td>34</td>\n",
       "      <td>0</td>\n",
       "      <td>0</td>\n",
       "      <td>0</td>\n",
       "      <td>0</td>\n",
       "      <td>-1.764711</td>\n",
       "      <td>2</td>\n",
       "      <td>...</td>\n",
       "      <td>0</td>\n",
       "      <td>1</td>\n",
       "      <td>1</td>\n",
       "      <td>0</td>\n",
       "      <td>5</td>\n",
       "      <td>4</td>\n",
       "      <td>1</td>\n",
       "      <td>23</td>\n",
       "      <td>3</td>\n",
       "      <td>0</td>\n",
       "    </tr>\n",
       "  </tbody>\n",
       "</table>\n",
       "<p>110148 rows × 32 columns</p>\n",
       "</div>"
      ],
      "text/plain": [
       "        client_id  education  sex  age  car  car_type  decline_app_cnt  \\\n",
       "0           74835          2    1   29    1         1                0   \n",
       "1           17527          0    0   39    0         0                5   \n",
       "2           75683          1    1   50    1         1                0   \n",
       "3           26883          0    1   56    0         0                0   \n",
       "4           28862          2    0   38    0         0                0   \n",
       "...           ...        ...  ...  ...  ...       ...              ...   \n",
       "110143      54887          2    0   45    0         0                0   \n",
       "110144      76821          0    1   41    1         1                0   \n",
       "110145     103695          0    1   31    0         0                0   \n",
       "110146        861          0    0   29    0         0                0   \n",
       "110147      15796          2    1   34    0         0                0   \n",
       "\n",
       "        good_work  score_bki  bki_request_cnt  ...  decline_app  income_cat  \\\n",
       "0               0  -2.271884                3  ...            0           2   \n",
       "1               0  -1.504999                2  ...            1           0   \n",
       "2               0  -1.691339                1  ...            0           1   \n",
       "3               0  -2.374182                1  ...            0           0   \n",
       "4               0  -2.487502                0  ...            0           2   \n",
       "...           ...        ...              ...  ...          ...         ...   \n",
       "110143          0  -1.792064                3  ...            0           0   \n",
       "110144          0  -2.058029                1  ...            0           2   \n",
       "110145          0  -1.512635                4  ...            0           1   \n",
       "110146          1  -1.479334                3  ...            0           0   \n",
       "110147          0  -1.764711                2  ...            0           1   \n",
       "\n",
       "        bki_request  car_car_type  home_work_address  sna_first_time  month  \\\n",
       "0                 1             2                  3               5      3   \n",
       "1                 1             0                  3               7      1   \n",
       "2                 0             2                  3               4      3   \n",
       "3                 0             0                  3               4      2   \n",
       "4                 0             0                  5               4      2   \n",
       "...             ...           ...                ...             ...    ...   \n",
       "110143            1             0                  3               8      3   \n",
       "110144            0             2                  4               5      3   \n",
       "110145            1             0                  5               4      4   \n",
       "110146            1             0                  4               5      1   \n",
       "110147            1             0                  5               4      1   \n",
       "\n",
       "        day_of_yar  weekday  is_weekend  \n",
       "0               81        5           1  \n",
       "1               24        4           0  \n",
       "2               82        6           1  \n",
       "3               34        0           0  \n",
       "4               35        1           0  \n",
       "...            ...      ...         ...  \n",
       "110143          63        1           0  \n",
       "110144          83        0           0  \n",
       "110145         112        1           0  \n",
       "110146           4        5           1  \n",
       "110147          23        3           0  \n",
       "\n",
       "[110148 rows x 32 columns]"
      ]
     },
     "execution_count": 571,
     "metadata": {},
     "output_type": "execute_result"
    }
   ],
   "source": [
    "data"
   ]
  },
  {
   "cell_type": "code",
   "execution_count": 528,
   "id": "13fc5d73",
   "metadata": {},
   "outputs": [],
   "source": [
    "#scale_col = ['age', 'score_bki', 'bki_request_cnt', 'region_rating', 'income', 'income_log', 'age_log', 'car_car_type', 'home_work_address', 'sna_first_time', 'day_of_yar']"
   ]
  },
  {
   "cell_type": "code",
   "execution_count": 581,
   "id": "0bfd987c",
   "metadata": {
    "scrolled": true
   },
   "outputs": [],
   "source": [
    "# Теперь выделим тестовую часть с предварительной стандартизацией\n",
    "#data_scal = pd.DataFrame(StandardScaler().fit_transform(data[scale_col].values))\n",
    "#data_disc = data.drop(scale_col, axis=1)\n",
    "#data2 = data_disc.join(data_scal)\n",
    "train_data = data.query('sample == 1').drop(['sample'], axis=1)\n",
    "test_data = data.query('sample == 0').drop(['sample'], axis=1)\n",
    "\n",
    "y = train_data.default.values            # наш таргет\n",
    "X = train_data.drop(['default', 'client_id'], axis=1)"
   ]
  },
  {
   "cell_type": "code",
   "execution_count": 582,
   "id": "09edf272",
   "metadata": {},
   "outputs": [
    {
     "data": {
      "text/plain": [
       "array([[12871,    62],\n",
       "       [ 1788,    39]], dtype=int64)"
      ]
     },
     "execution_count": 582,
     "metadata": {},
     "output_type": "execute_result"
    }
   ],
   "source": [
    "X = StandardScaler().fit_transform(X.values)\n",
    "#X = RobustScaler().fit_transform(X.values) сработал хуже\n",
    "X_train, X_test, y_train, y_test = train_test_split(X, y, test_size=0.2, random_state=RANDOM_SEED)\n",
    "model = LogisticRegression()\n",
    "model.fit(X_train, y_train)\n",
    "y_pred = model.predict(X_test)\n",
    "confusion_matrix(y_test, y_pred)"
   ]
  },
  {
   "cell_type": "code",
   "execution_count": 576,
   "id": "da09e002",
   "metadata": {},
   "outputs": [
    {
     "name": "stdout",
     "output_type": "stream",
     "text": [
      "0.04045643153526972\n",
      "0.8746612466124661\n",
      "0.021346469622331693\n",
      "0.38613861386138615\n",
      "              precision    recall  f1-score   support\n",
      "\n",
      "           0       0.88      1.00      0.93     12933\n",
      "           1       0.39      0.02      0.04      1827\n",
      "\n",
      "    accuracy                           0.87     14760\n",
      "   macro avg       0.63      0.51      0.49     14760\n",
      "weighted avg       0.82      0.87      0.82     14760\n",
      "\n"
     ]
    }
   ],
   "source": [
    "print(f1_score(y_test, y_pred))\n",
    "print(accuracy_score(y_test, y_pred))\n",
    "print(recall_score(y_test, y_pred))\n",
    "print(precision_score(y_test, y_pred))\n",
    "print(classification_report(y_test, y_pred, output_dict=False))"
   ]
  },
  {
   "cell_type": "code",
   "execution_count": 577,
   "id": "df23ebd7",
   "metadata": {},
   "outputs": [
    {
     "data": {
      "image/png": "[encoded data removed]",
      "text/plain": [
       "<Figure size 432x288 with 1 Axes>"
      ]
     },
     "metadata": {},
     "output_type": "display_data"
    },
    {
     "name": "stdout",
     "output_type": "stream",
     "text": [
      "0.33427398549936765\n"
     ]
    }
   ],
   "source": [
    "probs = model.predict_proba(X_test)\n",
    "fpr, tpr, threshold = roc_curve(y_test, probs[:,1])\n",
    "roc_auc = roc_auc_score(y_test, probs[:,1])\n",
    "\n",
    "plt.figure()\n",
    "plt.plot([0, 1], label='Baseline', linestyle='--')\n",
    "plt.plot(fpr, tpr, label = 'Regression')\n",
    "plt.title('Logistic Regression ROC AUC = %0.3f' % roc_auc)\n",
    "plt.ylabel('True Positive Rate')\n",
    "plt.xlabel('False Positive Rate')\n",
    "plt.legend(loc = 'lower right')\n",
    "plt.show()\n",
    "print(log_loss(y_test, probs))"
   ]
  },
  {
   "cell_type": "code",
   "execution_count": 578,
   "id": "fae58524",
   "metadata": {},
   "outputs": [
    {
     "data": {
      "text/html": [
       "<div>\n",
       "<style scoped>\n",
       "    .dataframe tbody tr th:only-of-type {\n",
       "        vertical-align: middle;\n",
       "    }\n",
       "\n",
       "    .dataframe tbody tr th {\n",
       "        vertical-align: top;\n",
       "    }\n",
       "\n",
       "    .dataframe thead th {\n",
       "        text-align: right;\n",
       "    }\n",
       "</style>\n",
       "<table border=\"1\" class=\"dataframe\">\n",
       "  <thead>\n",
       "    <tr style=\"text-align: right;\">\n",
       "      <th></th>\n",
       "      <th>ROC-AUC</th>\n",
       "      <th>PR-AUC</th>\n",
       "      <th>F1</th>\n",
       "      <th>precision_Neg</th>\n",
       "      <th>precision_Pos</th>\n",
       "      <th>recall_Neg</th>\n",
       "      <th>recall_Pos</th>\n",
       "    </tr>\n",
       "  </thead>\n",
       "  <tbody>\n",
       "    <tr>\n",
       "      <th>LogisticRegression_simple_scale</th>\n",
       "      <td>0.740758</td>\n",
       "      <td>0.386139</td>\n",
       "      <td>0.040456</td>\n",
       "      <td>0.878027</td>\n",
       "      <td>0.386139</td>\n",
       "      <td>0.995206</td>\n",
       "      <td>0.021346</td>\n",
       "    </tr>\n",
       "  </tbody>\n",
       "</table>\n",
       "</div>"
      ],
      "text/plain": [
       "                                  ROC-AUC    PR-AUC        F1  precision_Neg  \\\n",
       "LogisticRegression_simple_scale  0.740758  0.386139  0.040456       0.878027   \n",
       "\n",
       "                                 precision_Pos  recall_Neg  recall_Pos  \n",
       "LogisticRegression_simple_scale       0.386139    0.995206    0.021346  "
      ]
     },
     "execution_count": 578,
     "metadata": {},
     "output_type": "execute_result"
    }
   ],
   "source": [
    "df_report = get_scores(df_report, model, X_test, \n",
    "                       y_test, 'LogisticRegression_simple_scale')\n",
    "df_report"
   ]
  },
  {
   "cell_type": "code",
   "execution_count": 579,
   "id": "99758785",
   "metadata": {
    "scrolled": true
   },
   "outputs": [
    {
     "name": "stdout",
     "output_type": "stream",
     "text": [
      "[train] F1-score = 0.73 +/- 0.00\n",
      "[valid] F1-score = 0.73 +/- 0.01\n"
     ]
    },
    {
     "data": {
      "image/png": "[encoded data removed]",
      "text/plain": [
       "<Figure size 1080x360 with 1 Axes>"
      ]
     },
     "metadata": {},
     "output_type": "display_data"
    }
   ],
   "source": [
    "cv_metrics = cross_validate(model, X, y, cv=5, scoring='roc_auc', return_train_score=True)\n",
    "plot_cv_metrics(cv_metrics)"
   ]
  },
  {
   "cell_type": "markdown",
   "id": "e6aedd41",
   "metadata": {},
   "source": [
    "Возможно пригодятся графики"
   ]
  },
  {
   "cell_type": "code",
   "execution_count": 58,
   "id": "429788b9",
   "metadata": {
    "scrolled": false
   },
   "outputs": [
    {
     "data": {
      "text/plain": [
       "<AxesSubplot:title={'center':'По датам'}>"
      ]
     },
     "execution_count": 58,
     "metadata": {},
     "output_type": "execute_result"
    },
    {
     "data": {
      "image/png": "[encoded data removed]",
      "text/plain": [
       "<Figure size 432x288 with 1 Axes>"
      ]
     },
     "metadata": {},
     "output_type": "display_data"
    }
   ],
   "source": [
    "data['region_rating'].value_counts().plot(kind = 'bar', \n",
    "                              grid = True, \n",
    "                              colormap = 'coolwarm', \n",
    "                              title = 'По датам')"
   ]
  },
  {
   "cell_type": "code",
   "execution_count": 70,
   "id": "847154c3",
   "metadata": {
    "scrolled": true
   },
   "outputs": [
    {
     "data": {
      "text/plain": [
       "<AxesSubplot:xlabel='default', ylabel='income'>"
      ]
     },
     "execution_count": 70,
     "metadata": {},
     "output_type": "execute_result"
    },
    {
     "data": {
      "image/png": "[encoded data removed]",
      "text/plain": [
       "<Figure size 432x288 with 1 Axes>"
      ]
     },
     "metadata": {},
     "output_type": "display_data"
    }
   ],
   "source": [
    "sns.barplot(x='default', y='income', data=data)"
   ]
  },
  {
   "cell_type": "code",
   "execution_count": 71,
   "id": "28409919",
   "metadata": {
    "scrolled": true
   },
   "outputs": [
    {
     "data": {
      "text/plain": [
       "<AxesSubplot:xlabel='default', ylabel='age'>"
      ]
     },
     "execution_count": 71,
     "metadata": {},
     "output_type": "execute_result"
    },
    {
     "data": {
      "image/png": "[encoded data removed]",
      "text/plain": [
       "<Figure size 432x288 with 1 Axes>"
      ]
     },
     "metadata": {},
     "output_type": "display_data"
    }
   ],
   "source": [
    "sns.barplot(x='default', y='age', data=data)"
   ]
  },
  {
   "cell_type": "code",
   "execution_count": 75,
   "id": "16ece481",
   "metadata": {
    "scrolled": true
   },
   "outputs": [
    {
     "data": {
      "text/plain": [
       "<AxesSubplot:xlabel='region_rating', ylabel='default'>"
      ]
     },
     "execution_count": 75,
     "metadata": {},
     "output_type": "execute_result"
    },
    {
     "data": {
      "image/png": "[encoded data removed]",
      "text/plain": [
       "<Figure size 432x288 with 1 Axes>"
      ]
     },
     "metadata": {},
     "output_type": "display_data"
    }
   ],
   "source": [
    "sns.barplot(x='region_rating', y='default', data=data)"
   ]
  },
  {
   "cell_type": "code",
   "execution_count": 74,
   "id": "004a098f",
   "metadata": {
    "scrolled": true
   },
   "outputs": [
    {
     "data": {
      "text/plain": [
       "<AxesSubplot:xlabel='default', ylabel='sex'>"
      ]
     },
     "execution_count": 74,
     "metadata": {},
     "output_type": "execute_result"
    },
    {
     "data": {
      "image/png": "[encoded data removed]",
      "text/plain": [
       "<Figure size 432x288 with 1 Axes>"
      ]
     },
     "metadata": {},
     "output_type": "display_data"
    }
   ],
   "source": [
    "sns.barplot(x='default', y='sex', data=data)"
   ]
  },
  {
   "cell_type": "code",
   "execution_count": 76,
   "id": "ff015641",
   "metadata": {},
   "outputs": [
    {
     "name": "stderr",
     "output_type": "stream",
     "text": [
      "*c* argument looks like a single numeric RGB or RGBA sequence, which should be avoided as value-mapping will have precedence in case its length matches with *x* & *y*.  Please use the *color* keyword-argument or provide a 2-D array with a single row if you intend to specify the same RGB or RGBA value for all points.\n"
     ]
    },
    {
     "data": {
      "text/plain": [
       "<AxesSubplot:xlabel='default', ylabel='income'>"
      ]
     },
     "execution_count": 76,
     "metadata": {},
     "output_type": "execute_result"
    },
    {
     "data": {
      "image/png": "[encoded data removed]",
      "text/plain": [
       "<Figure size 432x288 with 1 Axes>"
      ]
     },
     "metadata": {},
     "output_type": "display_data"
    }
   ],
   "source": [
    "data.plot(x='default', y='income', kind='scatter', grid=True)"
   ]
  },
  {
   "cell_type": "code",
   "execution_count": 66,
   "id": "1c84eefb",
   "metadata": {
    "scrolled": true
   },
   "outputs": [
    {
     "data": {
      "image/png": "[encoded data removed]",
      "text/plain": [
       "<Figure size 1008x504 with 1 Axes>"
      ]
     },
     "metadata": {},
     "output_type": "display_data"
    }
   ],
   "source": [
    "plt.figure(figsize=(14, 7))\n",
    "sns.lineplot(data=data, x='income', y='default');"
   ]
  },
  {
   "cell_type": "code",
   "execution_count": null,
   "id": "9ee34895",
   "metadata": {},
   "outputs": [],
   "source": []
  },
  {
   "cell_type": "markdown",
   "id": "70de5c74",
   "metadata": {},
   "source": [
    "функции обучения из интернета, потом посмотреть"
   ]
  },
  {
   "cell_type": "code",
   "execution_count": null,
   "id": "f47991d4",
   "metadata": {},
   "outputs": [],
   "source": [
    "def fit_model(self, X, y):\n",
    "        \"\"\"\n",
    "        X::pd.DataFrame: Input data\n",
    "        y::np.ndarray: response for input data\n",
    "        \"\"\"\n",
    "        X = X.values\n",
    "        XY = np.hstack((X, y[:, None]))\n",
    "        np.random.shuffle(XY)\n",
    "        X = XY[:, :-1]\n",
    "        y = XY[:, -1]\n",
    "        cv_out = StratifiedShuffleSplit(n_splits=400)\n",
    "        cv_in = StratifiedKFold(n_splits=5)\n",
    "        clf = Pipeline([('scaler', StandardScaler()),\n",
    "                        ('lg', linear_model.LogisticRegressionCV(\n",
    "                                  penalty='l1',\n",
    "                                  solver='liblinear',\n",
    "                                  cv=cv_in))])\n",
    "\n",
    "        self.res = {'coef':[], 'auc':[], 'model':0}\n",
    "\n",
    "        for idx, (train, test) in enumerate(cv_out.split(X, y)):\n",
    "            clf.fit(X[train], y[train])\n",
    "            prediction = clf.predict(X[test])\n",
    "            self.res['coef'].append((idx, clf.named_steps['lg'].coef_[0]))\n",
    "            self.res['auc'].append((idx, roc_auc_score(y[test], prediction)))\n",
    "\n",
    "        self.res['model'] = clf\n",
    "\n",
    "        output_saved = self.save_pickle(self.res, self.out)\n",
    "        return output_saved"
   ]
  },
  {
   "cell_type": "code",
   "execution_count": null,
   "id": "8259ac15",
   "metadata": {},
   "outputs": [],
   "source": [
    "def validate(self):\n",
    "        '''\n",
    "        Ten-fold cross-validation with stratified sampling.\n",
    "        '''\n",
    "        print('Validating new model: {}()'.format(self.__class__.__name__))\n",
    "\n",
    "        accuracy_scores = []\n",
    "        precision_scores = []\n",
    "        recall_scores = []\n",
    "        f1_scores = []\n",
    "\n",
    "        sss = StratifiedShuffleSplit(n_splits=10)\n",
    "        for train_index, test_index in sss.split(self.data, self.labels):\n",
    "            x_train, x_test = self.data[train_index], self.data[test_index]\n",
    "            y_train, y_test = self.labels[train_index], self.labels[test_index]\n",
    "\n",
    "            model = self.create_model()\n",
    "            model.fit(x_train, y_train, epochs=100, batch_size=128,\n",
    "                      class_weight=self.class_weight)\n",
    "            y_pred = model.predict_classes(x_test, batch_size=128)\n",
    "\n",
    "            accuracy_scores.append(accuracy_score(y_test, y_pred))\n",
    "            precision_scores.append(precision_score(y_test, y_pred))\n",
    "            recall_scores.append(recall_score(y_test, y_pred))\n",
    "            f1_scores.append(f1_score(y_test, y_pred))\n",
    "\n",
    "        print('')\n",
    "        print('Accuracy: {}'.format(np.mean(accuracy_scores)))\n",
    "        print('Precision: {}'.format(np.mean(precision_scores)))\n",
    "        print('Recall: {}'.format(np.mean(recall_scores)))\n",
    "        print('F1-measure: {}'.format(np.mean(f1_scores)))"
   ]
  },
  {
   "cell_type": "markdown",
   "id": "74cf40dc",
   "metadata": {},
   "source": [
    "кросс валидация на разных параметрах и на стратифицированной выборке"
   ]
  },
  {
   "cell_type": "code",
   "execution_count": 512,
   "id": "4cd61464",
   "metadata": {},
   "outputs": [],
   "source": [
    "# sss_outer = StratifiedShuffleSplit(n_splits=5, test_size=0.4, random_state=15)\n",
    "# sss_inner = StratifiedShuffleSplit(n_splits=3, test_size=0.2, random_state=16)\n",
    "# pipe_logistic = Pipeline([('scl', StandardScaler()),('clf', LogisticRegression(penalty='l2'))])\n",
    "# parameters = {'clf__C': np.logspace(-4,1,50)}\n",
    "# grid_search = GridSearchCV(estimator=pipe_logistic, param_grid=parameters, verbose=1, scoring='f1', cv=sss_inner)"
   ]
  },
  {
   "cell_type": "code",
   "execution_count": 513,
   "id": "18944073",
   "metadata": {
    "scrolled": false
   },
   "outputs": [
    {
     "name": "stdout",
     "output_type": "stream",
     "text": [
      "Fitting 3 folds for each of 50 candidates, totalling 150 fits\n",
      "Fitting 3 folds for each of 50 candidates, totalling 150 fits\n",
      "Fitting 3 folds for each of 50 candidates, totalling 150 fits\n",
      "Fitting 3 folds for each of 50 candidates, totalling 150 fits\n",
      "Fitting 3 folds for each of 50 candidates, totalling 150 fits\n"
     ]
    }
   ],
   "source": [
    "# scoring = ['precision_macro', 'recall_macro']\n",
    "# scores = cross_validate(grid_search, X, y, scoring=scoring)"
   ]
  },
  {
   "cell_type": "code",
   "execution_count": 83,
   "id": "b945b282",
   "metadata": {},
   "outputs": [
    {
     "data": {
      "text/plain": [
       "['fit_time', 'score_time', 'test_precision_macro', 'test_recall_macro']"
      ]
     },
     "execution_count": 83,
     "metadata": {},
     "output_type": "execute_result"
    }
   ],
   "source": [
    "#sorted(scores.keys())"
   ]
  },
  {
   "cell_type": "code",
   "execution_count": 84,
   "id": "edb083f7",
   "metadata": {},
   "outputs": [
    {
     "data": {
      "text/plain": [
       "array([0.51029912, 0.50632138, 0.51001102, 0.51139806, 0.51334548])"
      ]
     },
     "execution_count": 84,
     "metadata": {},
     "output_type": "execute_result"
    }
   ],
   "source": [
    "#scores['test_recall_macro']"
   ]
  },
  {
   "cell_type": "code",
   "execution_count": 68,
   "id": "ef46cdb4",
   "metadata": {
    "scrolled": true
   },
   "outputs": [
    {
     "name": "stdout",
     "output_type": "stream",
     "text": [
      "Fitting 3 folds for each of 50 candidates, totalling 150 fits\n",
      "Fitting 3 folds for each of 50 candidates, totalling 150 fits\n",
      "Fitting 3 folds for each of 50 candidates, totalling 150 fits\n"
     ]
    },
    {
     "data": {
      "text/plain": [
       "array([0.04781282, 0.04261796, 0.04853387])"
      ]
     },
     "execution_count": 68,
     "metadata": {},
     "output_type": "execute_result"
    }
   ],
   "source": [
    "#cross_val_score(grid_search, X, y, cv=sss_inner)"
   ]
  },
  {
   "cell_type": "code",
   "execution_count": 79,
   "id": "069a5e9b",
   "metadata": {
    "scrolled": true
   },
   "outputs": [
    {
     "name": "stdout",
     "output_type": "stream",
     "text": [
      "Fitting 3 folds for each of 50 candidates, totalling 150 fits\n"
     ]
    },
    {
     "data": {
      "text/plain": [
       "GridSearchCV(cv=StratifiedShuffleSplit(n_splits=3, random_state=16, test_size=0.2,\n",
       "            train_size=None),\n",
       "             estimator=Pipeline(steps=[('scl', StandardScaler()),\n",
       "                                       ('clf', LogisticRegression())]),\n",
       "             param_grid={'clf__C': array([1.00000000e-04, 1.26485522e-04, 1.59985872e-04, 2.02358965e-04,\n",
       "       2.55954792e-04, 3.23745754e-04, 4.09491506e-04, 5.17947468e-04,\n",
       "       6.55128557e-04, 8.286427...\n",
       "       7.19685673e-02, 9.10298178e-02, 1.15139540e-01, 1.45634848e-01,\n",
       "       1.84206997e-01, 2.32995181e-01, 2.94705170e-01, 3.72759372e-01,\n",
       "       4.71486636e-01, 5.96362332e-01, 7.54312006e-01, 9.54095476e-01,\n",
       "       1.20679264e+00, 1.52641797e+00, 1.93069773e+00, 2.44205309e+00,\n",
       "       3.08884360e+00, 3.90693994e+00, 4.94171336e+00, 6.25055193e+00,\n",
       "       7.90604321e+00, 1.00000000e+01])},\n",
       "             scoring='f1', verbose=1)"
      ]
     },
     "execution_count": 79,
     "metadata": {},
     "output_type": "execute_result"
    }
   ],
   "source": [
    "#grid_search.fit(X, y)"
   ]
  },
  {
   "cell_type": "code",
   "execution_count": 80,
   "id": "6d87f79d",
   "metadata": {
    "scrolled": true
   },
   "outputs": [
    {
     "data": {
      "text/plain": [
       "{'memory': None,\n",
       " 'steps': [('scl', StandardScaler()),\n",
       "  ('clf', LogisticRegression(C=0.3727593720314942))],\n",
       " 'verbose': False,\n",
       " 'scl': StandardScaler(),\n",
       " 'clf': LogisticRegression(C=0.3727593720314942),\n",
       " 'scl__copy': True,\n",
       " 'scl__with_mean': True,\n",
       " 'scl__with_std': True,\n",
       " 'clf__C': 0.3727593720314942,\n",
       " 'clf__class_weight': None,\n",
       " 'clf__dual': False,\n",
       " 'clf__fit_intercept': True,\n",
       " 'clf__intercept_scaling': 1,\n",
       " 'clf__l1_ratio': None,\n",
       " 'clf__max_iter': 100,\n",
       " 'clf__multi_class': 'auto',\n",
       " 'clf__n_jobs': None,\n",
       " 'clf__penalty': 'l2',\n",
       " 'clf__random_state': None,\n",
       " 'clf__solver': 'lbfgs',\n",
       " 'clf__tol': 0.0001,\n",
       " 'clf__verbose': 0,\n",
       " 'clf__warm_start': False}"
      ]
     },
     "execution_count": 80,
     "metadata": {},
     "output_type": "execute_result"
    }
   ],
   "source": [
    "#grid_search.best_estimator_.get_params()"
   ]
  },
  {
   "cell_type": "markdown",
   "id": "8aa4bd41",
   "metadata": {},
   "source": [
    "Создаем файл на оценку "
   ]
  },
  {
   "cell_type": "code",
   "execution_count": 580,
   "id": "ac8bfb2b",
   "metadata": {},
   "outputs": [
    {
     "data": {
      "text/html": [
       "<div>\n",
       "<style scoped>\n",
       "    .dataframe tbody tr th:only-of-type {\n",
       "        vertical-align: middle;\n",
       "    }\n",
       "\n",
       "    .dataframe tbody tr th {\n",
       "        vertical-align: top;\n",
       "    }\n",
       "\n",
       "    .dataframe thead th {\n",
       "        text-align: right;\n",
       "    }\n",
       "</style>\n",
       "<table border=\"1\" class=\"dataframe\">\n",
       "  <thead>\n",
       "    <tr style=\"text-align: right;\">\n",
       "      <th></th>\n",
       "      <th>client_id</th>\n",
       "      <th>default</th>\n",
       "    </tr>\n",
       "  </thead>\n",
       "  <tbody>\n",
       "    <tr>\n",
       "      <th>0</th>\n",
       "      <td>74835</td>\n",
       "      <td>0.040691</td>\n",
       "    </tr>\n",
       "    <tr>\n",
       "      <th>1</th>\n",
       "      <td>17527</td>\n",
       "      <td>0.330637</td>\n",
       "    </tr>\n",
       "    <tr>\n",
       "      <th>2</th>\n",
       "      <td>75683</td>\n",
       "      <td>0.053784</td>\n",
       "    </tr>\n",
       "    <tr>\n",
       "      <th>3</th>\n",
       "      <td>26883</td>\n",
       "      <td>0.090657</td>\n",
       "    </tr>\n",
       "    <tr>\n",
       "      <th>4</th>\n",
       "      <td>28862</td>\n",
       "      <td>0.030094</td>\n",
       "    </tr>\n",
       "    <tr>\n",
       "      <th>5</th>\n",
       "      <td>99881</td>\n",
       "      <td>0.269504</td>\n",
       "    </tr>\n",
       "    <tr>\n",
       "      <th>6</th>\n",
       "      <td>26630</td>\n",
       "      <td>0.301211</td>\n",
       "    </tr>\n",
       "    <tr>\n",
       "      <th>7</th>\n",
       "      <td>79934</td>\n",
       "      <td>0.039780</td>\n",
       "    </tr>\n",
       "    <tr>\n",
       "      <th>8</th>\n",
       "      <td>16605</td>\n",
       "      <td>0.027053</td>\n",
       "    </tr>\n",
       "    <tr>\n",
       "      <th>9</th>\n",
       "      <td>105449</td>\n",
       "      <td>0.026982</td>\n",
       "    </tr>\n",
       "  </tbody>\n",
       "</table>\n",
       "</div>"
      ],
      "text/plain": [
       "   client_id   default\n",
       "0      74835  0.040691\n",
       "1      17527  0.330637\n",
       "2      75683  0.053784\n",
       "3      26883  0.090657\n",
       "4      28862  0.030094\n",
       "5      99881  0.269504\n",
       "6      26630  0.301211\n",
       "7      79934  0.039780\n",
       "8      16605  0.027053\n",
       "9     105449  0.026982"
      ]
     },
     "execution_count": 580,
     "metadata": {},
     "output_type": "execute_result"
    }
   ],
   "source": [
    "test_data = test_data.drop(['default'], axis=1)\n",
    "test_client_id = pd.DataFrame()\n",
    "test_client_id['client_id'] = test_data['client_id']\n",
    "test_data = test_data.drop(['client_id'], axis=1)\n",
    "test_data = StandardScaler().fit_transform(test_data.values)\n",
    "predict_submission = model.predict_proba(test_data)\n",
    "test_client_id['default'] = predict_submission[:,1]\n",
    "test_client_id.to_csv('submission.csv', index=False)\n",
    "test_client_id.head(10)"
   ]
  },
  {
   "cell_type": "code",
   "execution_count": 69,
   "id": "2acc8ca3",
   "metadata": {},
   "outputs": [
    {
     "data": {
      "text/html": [
       "<div>\n",
       "<style scoped>\n",
       "    .dataframe tbody tr th:only-of-type {\n",
       "        vertical-align: middle;\n",
       "    }\n",
       "\n",
       "    .dataframe tbody tr th {\n",
       "        vertical-align: top;\n",
       "    }\n",
       "\n",
       "    .dataframe thead th {\n",
       "        text-align: right;\n",
       "    }\n",
       "</style>\n",
       "<table border=\"1\" class=\"dataframe\">\n",
       "  <thead>\n",
       "    <tr style=\"text-align: right;\">\n",
       "      <th></th>\n",
       "      <th>client_id</th>\n",
       "      <th>default</th>\n",
       "    </tr>\n",
       "  </thead>\n",
       "  <tbody>\n",
       "    <tr>\n",
       "      <th>0</th>\n",
       "      <td>74835</td>\n",
       "      <td>0.143412</td>\n",
       "    </tr>\n",
       "    <tr>\n",
       "      <th>1</th>\n",
       "      <td>17527</td>\n",
       "      <td>0.168292</td>\n",
       "    </tr>\n",
       "    <tr>\n",
       "      <th>2</th>\n",
       "      <td>75683</td>\n",
       "      <td>0.115649</td>\n",
       "    </tr>\n",
       "    <tr>\n",
       "      <th>3</th>\n",
       "      <td>26883</td>\n",
       "      <td>0.154027</td>\n",
       "    </tr>\n",
       "    <tr>\n",
       "      <th>4</th>\n",
       "      <td>28862</td>\n",
       "      <td>0.077724</td>\n",
       "    </tr>\n",
       "    <tr>\n",
       "      <th>5</th>\n",
       "      <td>99881</td>\n",
       "      <td>0.100012</td>\n",
       "    </tr>\n",
       "    <tr>\n",
       "      <th>6</th>\n",
       "      <td>26630</td>\n",
       "      <td>0.152253</td>\n",
       "    </tr>\n",
       "    <tr>\n",
       "      <th>7</th>\n",
       "      <td>79934</td>\n",
       "      <td>0.096744</td>\n",
       "    </tr>\n",
       "    <tr>\n",
       "      <th>8</th>\n",
       "      <td>16605</td>\n",
       "      <td>0.108159</td>\n",
       "    </tr>\n",
       "    <tr>\n",
       "      <th>9</th>\n",
       "      <td>105449</td>\n",
       "      <td>0.072841</td>\n",
       "    </tr>\n",
       "  </tbody>\n",
       "</table>\n",
       "</div>"
      ],
      "text/plain": [
       "   client_id   default\n",
       "0      74835  0.143412\n",
       "1      17527  0.168292\n",
       "2      75683  0.115649\n",
       "3      26883  0.154027\n",
       "4      28862  0.077724\n",
       "5      99881  0.100012\n",
       "6      26630  0.152253\n",
       "7      79934  0.096744\n",
       "8      16605  0.108159\n",
       "9     105449  0.072841"
      ]
     },
     "execution_count": 69,
     "metadata": {},
     "output_type": "execute_result"
    }
   ],
   "source": []
  },
  {
   "cell_type": "code",
   "execution_count": 509,
   "id": "dbea4a83",
   "metadata": {
    "scrolled": true
   },
   "outputs": [
    {
     "data": {
      "text/html": [
       "<div>\n",
       "<style scoped>\n",
       "    .dataframe tbody tr th:only-of-type {\n",
       "        vertical-align: middle;\n",
       "    }\n",
       "\n",
       "    .dataframe tbody tr th {\n",
       "        vertical-align: top;\n",
       "    }\n",
       "\n",
       "    .dataframe thead th {\n",
       "        text-align: right;\n",
       "    }\n",
       "</style>\n",
       "<table border=\"1\" class=\"dataframe\">\n",
       "  <thead>\n",
       "    <tr style=\"text-align: right;\">\n",
       "      <th></th>\n",
       "      <th>client_id</th>\n",
       "      <th>default</th>\n",
       "    </tr>\n",
       "  </thead>\n",
       "  <tbody>\n",
       "    <tr>\n",
       "      <th>0</th>\n",
       "      <td>74835</td>\n",
       "      <td>0.027595</td>\n",
       "    </tr>\n",
       "    <tr>\n",
       "      <th>1</th>\n",
       "      <td>17527</td>\n",
       "      <td>0.570683</td>\n",
       "    </tr>\n",
       "    <tr>\n",
       "      <th>2</th>\n",
       "      <td>75683</td>\n",
       "      <td>0.033541</td>\n",
       "    </tr>\n",
       "    <tr>\n",
       "      <th>3</th>\n",
       "      <td>26883</td>\n",
       "      <td>0.107459</td>\n",
       "    </tr>\n",
       "    <tr>\n",
       "      <th>4</th>\n",
       "      <td>28862</td>\n",
       "      <td>0.030728</td>\n",
       "    </tr>\n",
       "    <tr>\n",
       "      <th>5</th>\n",
       "      <td>99881</td>\n",
       "      <td>0.521419</td>\n",
       "    </tr>\n",
       "    <tr>\n",
       "      <th>6</th>\n",
       "      <td>26630</td>\n",
       "      <td>0.570629</td>\n",
       "    </tr>\n",
       "    <tr>\n",
       "      <th>7</th>\n",
       "      <td>79934</td>\n",
       "      <td>0.031471</td>\n",
       "    </tr>\n",
       "    <tr>\n",
       "      <th>8</th>\n",
       "      <td>16605</td>\n",
       "      <td>0.034888</td>\n",
       "    </tr>\n",
       "    <tr>\n",
       "      <th>9</th>\n",
       "      <td>105449</td>\n",
       "      <td>0.021665</td>\n",
       "    </tr>\n",
       "  </tbody>\n",
       "</table>\n",
       "</div>"
      ],
      "text/plain": [
       "   client_id   default\n",
       "0      74835  0.027595\n",
       "1      17527  0.570683\n",
       "2      75683  0.033541\n",
       "3      26883  0.107459\n",
       "4      28862  0.030728\n",
       "5      99881  0.521419\n",
       "6      26630  0.570629\n",
       "7      79934  0.031471\n",
       "8      16605  0.034888\n",
       "9     105449  0.021665"
      ]
     },
     "execution_count": 509,
     "metadata": {},
     "output_type": "execute_result"
    }
   ],
   "source": [
    "test_client_id['default'] = predict_submission[:,1]\n",
    "test_client_id.to_csv('submission.csv', index=False)\n",
    "test_client_id.head(10)"
   ]
  },
  {
   "cell_type": "code",
   "execution_count": 466,
   "id": "82133e22",
   "metadata": {},
   "outputs": [
    {
     "data": {
      "text/html": [
       "<div>\n",
       "<style scoped>\n",
       "    .dataframe tbody tr th:only-of-type {\n",
       "        vertical-align: middle;\n",
       "    }\n",
       "\n",
       "    .dataframe tbody tr th {\n",
       "        vertical-align: top;\n",
       "    }\n",
       "\n",
       "    .dataframe thead th {\n",
       "        text-align: right;\n",
       "    }\n",
       "</style>\n",
       "<table border=\"1\" class=\"dataframe\">\n",
       "  <thead>\n",
       "    <tr style=\"text-align: right;\">\n",
       "      <th></th>\n",
       "      <th>client_id</th>\n",
       "      <th>default</th>\n",
       "    </tr>\n",
       "  </thead>\n",
       "  <tbody>\n",
       "    <tr>\n",
       "      <th>count</th>\n",
       "      <td>36349.000000</td>\n",
       "      <td>3.634900e+04</td>\n",
       "    </tr>\n",
       "    <tr>\n",
       "      <th>mean</th>\n",
       "      <td>54945.647473</td>\n",
       "      <td>7.165848e-05</td>\n",
       "    </tr>\n",
       "    <tr>\n",
       "      <th>std</th>\n",
       "      <td>31706.052195</td>\n",
       "      <td>1.081306e-04</td>\n",
       "    </tr>\n",
       "    <tr>\n",
       "      <th>min</th>\n",
       "      <td>4.000000</td>\n",
       "      <td>1.486114e-09</td>\n",
       "    </tr>\n",
       "    <tr>\n",
       "      <th>25%</th>\n",
       "      <td>27744.000000</td>\n",
       "      <td>1.082935e-05</td>\n",
       "    </tr>\n",
       "    <tr>\n",
       "      <th>50%</th>\n",
       "      <td>54657.000000</td>\n",
       "      <td>3.293988e-05</td>\n",
       "    </tr>\n",
       "    <tr>\n",
       "      <th>75%</th>\n",
       "      <td>82322.000000</td>\n",
       "      <td>8.597565e-05</td>\n",
       "    </tr>\n",
       "    <tr>\n",
       "      <th>max</th>\n",
       "      <td>110148.000000</td>\n",
       "      <td>1.634528e-03</td>\n",
       "    </tr>\n",
       "  </tbody>\n",
       "</table>\n",
       "</div>"
      ],
      "text/plain": [
       "           client_id       default\n",
       "count   36349.000000  3.634900e+04\n",
       "mean    54945.647473  7.165848e-05\n",
       "std     31706.052195  1.081306e-04\n",
       "min         4.000000  1.486114e-09\n",
       "25%     27744.000000  1.082935e-05\n",
       "50%     54657.000000  3.293988e-05\n",
       "75%     82322.000000  8.597565e-05\n",
       "max    110148.000000  1.634528e-03"
      ]
     },
     "execution_count": 466,
     "metadata": {},
     "output_type": "execute_result"
    }
   ],
   "source": [
    "test_client_id.describe()"
   ]
  },
  {
   "cell_type": "markdown",
   "id": "8259e7ac",
   "metadata": {},
   "source": [
    "EDA"
   ]
  },
  {
   "cell_type": "code",
   "execution_count": null,
   "id": "e88a6659",
   "metadata": {},
   "outputs": [],
   "source": [
    "# Ищем самые значсимые признаки среди числовых\n",
    "def impotant_muncols(cols, data):\n",
    "  imp_num = pd.Series(f_classif(data.query('sample == 1')[cols], data.query('sample == 1')['default'])[0], index = cols)\n",
    "  imp_num.sort_values(inplace = True)\n",
    "  imp_num.plot(kind = 'barh', figsize=(15,10))\n",
    "  return ''\n",
    "\n",
    "# Функция анализа категориальных переменных\n",
    "def category_info(data, col):\n",
    "    plt.figure(figsize=(15, 4))\n",
    "    plt.subplot(121)\n",
    "    sns.distplot(data[col].values, bins=7, color='#a1c9e0')\n",
    "    plt.title(' распределение ' + col, fontsize=15)\n",
    "    plt.xlabel(col)\n",
    "    plt.ylabel('Quantity (frequency)')\n",
    "            \n",
    "    # boxplot: распределение признака по целевой переменной\n",
    "    plt.subplot(122)\n",
    "    sns.boxplot(x=data.query('sample == 1')['default'], y=data.query('sample == 1')[col])\n",
    "    plt.title(col + ': distribution by default', fontsize=15)\n",
    "    plt.xlabel('default')\n",
    "    plt.ylabel(col)\n",
    "    plt.show()\n",
    "\n",
    "# Вспомогательная функция определения значимых признаков\n",
    "\n",
    "def impotant_feature(data, col, key):\n",
    "    cols = data.loc[:, col].value_counts().index\n",
    "    combinations_all = list(combinations(cols, 2))\n",
    "    for comb in combinations_all:\n",
    "        if ttest_ind(data.loc[data.loc[:, col] == comb[0], key],\n",
    "                     data.loc[data.loc[:, column] == comb[1], key]).pvalue \\\n",
    "                <= 0.05/len(combinations_all):\n",
    "            print('обнаружена статистическая значимость измерения: ', col)\n",
    "            break"
   ]
  },
  {
   "cell_type": "code",
   "execution_count": null,
   "id": "26f254a1",
   "metadata": {},
   "outputs": [],
   "source": []
  },
  {
   "cell_type": "markdown",
   "id": "d42bd399",
   "metadata": {},
   "source": [
    "распределение по бинарным и категориальным переменным"
   ]
  },
  {
   "cell_type": "code",
   "execution_count": null,
   "id": "d20f57b4",
   "metadata": {},
   "outputs": [],
   "source": [
    "plt.figure(figsize=[20, 20])\n",
    "i = 1\n",
    "\n",
    "for k in bool_cols:\n",
    "    plt.subplot(4, 3, i)\n",
    "    sns.barplot(x=k,\n",
    "                y='proportion',\n",
    "                hue='default',\n",
    "                data=df_train[[k, 'default']].value_counts(\n",
    "                    normalize=True).rename('proportion').reset_index(),\n",
    "                palette=[colors[3], colors[4]])\n",
    "    plt.title('Binary Feature Name\\n' + k, fontsize=15)\n",
    "    i += 1\n",
    "plt.tight_layout()\n",
    "plt.show()"
   ]
  },
  {
   "cell_type": "code",
   "execution_count": null,
   "id": "385c5077",
   "metadata": {},
   "outputs": [],
   "source": [
    "def get_boxplot(data, col1, col2, hue=None):\n",
    "    '''Function is called to plot boxplots'''\n",
    "    fig, ax = plt.subplots(figsize=(7, 5))\n",
    "    sns.boxplot(x=col1, y=col2, hue=hue, data=data, palette=colors)\n",
    "    plt.xticks(rotation=45)\n",
    "    ax.set_title(f'Boxplot for {col1} and {col2}', fontsize=14)\n",
    "    plt.show()"
   ]
  },
  {
   "cell_type": "markdown",
   "id": "d8bd2c38",
   "metadata": {},
   "source": [
    "функция для метрики"
   ]
  },
  {
   "cell_type": "code",
   "execution_count": null,
   "id": "3f9ccd86",
   "metadata": {},
   "outputs": [],
   "source": [
    "def make_roc_auc(model, X, y):\n",
    "    '''Plot ROC-AUC and PR curves'''\n",
    "    fig, (ax1, ax2) = plt.subplots(1, 2, figsize=(13, 5))\n",
    "    plot_precision_recall_curve(model, X, y, ax=ax1)\n",
    "    plot_roc_curve(model, X, y, ax=ax2)\n",
    "    plt.show()"
   ]
  },
  {
   "cell_type": "markdown",
   "id": "5aa2130b",
   "metadata": {},
   "source": [
    "Feature Engineering — способ создания признаков, техника решения задач МО, которая увеличивает качество разрабатываемых алгоритмов. Превращает специфичные данные в понятные для модели векторы.\n",
    "\n",
    "Способы:\n",
    "\n",
    "Ручное создание признаков\n",
    "Новые признаки можно создавать на основе имеющихся, если понятно, что означает тот или иной признак. Техника может значительно улучшить модель, но требуется погружение в предметную область. Например, зная массу и рост человека, можно посчитать индекс массы тела; зная координаты места нарушения ПДД и центра города, можно посчитать расстояние между ними.\n",
    "Полиномиальные признаки\n",
    "Например, попарное перемножение имеющихся столбцов, чтобы получить нелинейные комбинации признаков. Другой пример — возведение признаков в квадрат или корень из признака, чтобы получить искусственные признаки.\n",
    "Dummy-переменные\n",
    "Между категориальными признаками не всегда есть порядок, поэтому их следует заменять на dummy-переменные, в виде цифр, чтобы алгоритм подумал, что в данных есть порядок. Например, лев, тигр, медведь лучше записать как 0, 1, 2. Расстояние между «лев» и «тигр» равно 1, а между «лев» и «медведь» — 2, хотя это не так. Решение — создать новые признаки по количеству категорий. Для признака «лев» значение будет 1, если это лев, иначе 0. Теперь расстояния между всеми признаками равны 1.\n",
    "Работа с датой/временем\n",
    "Обычно дата — это строка, похожая на «2005-06-02». В таком виде признак имеет мало смысла, но его можно разделить на набор других признаков. Модель не принимает текст, поэтому заменяем его на набор других числовых признаков. Например, день, месяц, год или день недели, праздник/выходной.\n",
    "Статистики по наборам признаков\n",
    "Если в данных есть признаки, описывающие значение в разные моменты времени, то они могут быть полезными. Например, зарплата_2016, зарплата_2017, зарплата_2018. Отсюда можно вытащить среднюю зарплату за 3 года, медианную зарплату, динамику зарплаты, максимальную и минимальную зарплату."
   ]
  }
 ],
 "metadata": {
  "kernelspec": {
   "display_name": "Python 3",
   "language": "python",
   "name": "python3"
  },
  "language_info": {
   "codemirror_mode": {
    "name": "ipython",
    "version": 3
   },
   "file_extension": ".py",
   "mimetype": "text/x-python",
   "name": "python",
   "nbconvert_exporter": "python",
   "pygments_lexer": "ipython3",
   "version": "3.8.8"
  }
 },
 "nbformat": 4,
 "nbformat_minor": 5
}

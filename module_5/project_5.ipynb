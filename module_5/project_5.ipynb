{
 "cells": [
  {
   "cell_type": "code",
   "execution_count": 1,
   "id": "7aa479b7",
   "metadata": {},
   "outputs": [],
   "source": [
    "from pandas import Series\n",
    "import pandas as pd\n",
    "import numpy as np\n",
    "\n",
    "\n",
    "import matplotlib.pyplot as plt\n",
    "import seaborn as sns\n",
    "\n",
    "from datetime import date\n",
    "from datetime import datetime, timedelta\n",
    "\n",
    "from sklearn.preprocessing import PolynomialFeatures\n",
    "\n",
    "from sklearn.feature_selection import f_classif, mutual_info_classif\n",
    "from sklearn.preprocessing import LabelEncoder, OneHotEncoder, StandardScaler\n",
    "from sklearn.impute import SimpleImputer\n",
    "\n",
    "from sklearn.model_selection import GridSearchCV\n",
    "from sklearn.model_selection import train_test_split\n",
    "from sklearn.linear_model import LogisticRegression\n",
    "\n",
    "from sklearn.metrics import accuracy_score, recall_score, f1_score, precision_score\n",
    "from sklearn.metrics import confusion_matrix\n",
    "from sklearn.metrics import auc, roc_auc_score, roc_curve\n",
    "from sklearn.metrics import log_loss\n",
    "from sklearn.metrics import classification_report\n",
    "from sklearn.model_selection import cross_val_score, KFold\n",
    "from sklearn.linear_model import LogisticRegressionCV\n",
    "from sklearn.model_selection import cross_validate\n",
    "from sklearn.pipeline import Pipeline\n",
    "from sklearn.model_selection import StratifiedShuffleSplit"
   ]
  },
  {
   "cell_type": "code",
   "execution_count": 2,
   "id": "2cf96798",
   "metadata": {},
   "outputs": [],
   "source": [
    "df_test = pd.read_csv('test.csv')\n",
    "df_train = pd.read_csv('train.csv')"
   ]
  },
  {
   "cell_type": "code",
   "execution_count": 3,
   "id": "d0f5c544",
   "metadata": {},
   "outputs": [],
   "source": [
    "RANDOM_SEED = 42\n",
    "!pip freeze > requirements.txt"
   ]
  },
  {
   "cell_type": "code",
   "execution_count": 4,
   "id": "53cb4aa8",
   "metadata": {},
   "outputs": [],
   "source": [
    "df_train['sample'] = 1 # помечаем где у нас трейн\n",
    "df_test['default'] = 0 # в тесте у нас нет значения Default, мы его должны предсказать, по этому пока просто заполняем нулями\n",
    "df_test['sample'] = 0 # помечаем где у нас тест\n",
    "\n",
    "data = df_test.append(df_train, sort=False).reset_index(drop=True) # объединяем"
   ]
  },
  {
   "cell_type": "markdown",
   "id": "dbd61823",
   "metadata": {},
   "source": [
    "Описания полей\n",
    "client_id - идентификатор клиента\n",
    "\n",
    "education - уровень образования\n",
    "\n",
    "sex - пол заемщика\n",
    "\n",
    "age - возраст заемщика\n",
    "\n",
    "car - флаг наличия автомобиля\n",
    "\n",
    "car_type - флаг автомобиля иномарки\n",
    "\n",
    "decline_app_cnt - количество отказанных прошлых заявок\n",
    "\n",
    "good_work - флаг наличия “хорошей” работы\n",
    "\n",
    "bki_request_cnt - количество запросов в БКИ\n",
    "\n",
    "home_address - категоризатор домашнего адреса\n",
    "\n",
    "work_address - категоризатор рабочего адреса\n",
    "\n",
    "income - доход заемщика\n",
    "\n",
    "foreign_passport - наличие загранпаспорта\n",
    "\n",
    "sna - связь заемщика с клиентами банка\n",
    "\n",
    "first_time - давность наличия информации о заемщике\n",
    "\n",
    "score_bki - скоринговый балл по данным из БКИ\n",
    "\n",
    "region_rating - рейтинг региона\n",
    "\n",
    "app_date - дата подачи заявки\n",
    "\n",
    "default - флаг дефолта по кредиту"
   ]
  },
  {
   "cell_type": "markdown",
   "id": "19e4cf3c",
   "metadata": {},
   "source": [
    "SCH - school - те, у кого среднее образование (только школа).\n",
    "UGR - undergraduate - бакалавры.\n",
    "GRD - магистры\n",
    "PGR - postgraduate - учёная степень PhD (кандидаты наук по-нашему)\n",
    "ACD - высший уровень. Можно считать высшей категорией.\n",
    "Таким образом, если упорядочить по возрастанию уровня образования, получим следующий список:\n",
    "SCH, UGR, GRD, PGR, ACD. (отредактировано) "
   ]
  },
  {
   "cell_type": "code",
   "execution_count": 5,
   "id": "f82d8b5a",
   "metadata": {},
   "outputs": [],
   "source": [
    "def get_scores(report_df, model, X_test, y_test, name):\n",
    "    '''Create and add metrics into a pandas DF after experiment'''\n",
    "\n",
    "    report = pd.DataFrame(columns={'ROC-AUC'}, data=[0])\n",
    "    report['ROC-AUC'] = roc_auc_score(y_test,\n",
    "                                      model.predict_proba(X_test)[:, 1])\n",
    "    report['PR-AUC'] = precision_score(y_test,model.predict(X_test))\n",
    "    report['F1'] = f1_score(y_test, model.predict(X_test))\n",
    "    report['precision_Neg'] = precision_score(\n",
    "        y_test, model.predict(X_test), pos_label=0)\n",
    "    report['precision_Pos'] = precision_score(\n",
    "        y_test, model.predict(X_test), pos_label=1)\n",
    "    report['recall_Neg'] = recall_score(\n",
    "        y_test, model.predict(X_test), pos_label=0)\n",
    "    report['recall_Pos'] = recall_score(\n",
    "        y_test, model.predict(X_test), pos_label=1)\n",
    "\n",
    "    report.index = [name]\n",
    "    report_df = report_df.append(report)\n",
    "    return report_df"
   ]
  },
  {
   "cell_type": "code",
   "execution_count": 6,
   "id": "6842fe44",
   "metadata": {},
   "outputs": [],
   "source": [
    "def detect_outliers(data):\n",
    "    '''Function is called to detect outliers'''\n",
    "    q1, q3 = np.percentile(sorted(data), [25, 75])\n",
    "\n",
    "    IQR = q3 - q1\n",
    "\n",
    "    l_b = q1 - (1.5 * IQR) # lower bound\n",
    "    u_b = q3 + (1.5 * IQR) # upper bound\n",
    "    outl_count = len(data[data < l_b]) + len(data[data > u_b])\n",
    "\n",
    "    print(\n",
    "        f'Lower Bound: {round(l_b,3)}, Upper Bound {round(u_b,3)}, Outliers Count: {outl_count}')"
   ]
  },
  {
   "cell_type": "code",
   "execution_count": 7,
   "id": "cdcbdd7f",
   "metadata": {},
   "outputs": [
    {
     "data": {
      "text/plain": [
       "Index(['client_id', 'app_date', 'education', 'sex', 'age', 'car', 'car_type',\n",
       "       'decline_app_cnt', 'good_work', 'score_bki', 'bki_request_cnt',\n",
       "       'region_rating', 'home_address', 'work_address', 'income', 'sna',\n",
       "       'first_time', 'foreign_passport', 'default', 'sample'],\n",
       "      dtype='object')"
      ]
     },
     "execution_count": 7,
     "metadata": {},
     "output_type": "execute_result"
    }
   ],
   "source": [
    "data.columns"
   ]
  },
  {
   "cell_type": "markdown",
   "id": "4dcd653a",
   "metadata": {},
   "source": [
    "дописать log_loss"
   ]
  },
  {
   "cell_type": "markdown",
   "id": "2151f3cc",
   "metadata": {},
   "source": [
    "EDA"
   ]
  },
  {
   "cell_type": "markdown",
   "id": "22fb6bd6",
   "metadata": {},
   "source": [
    "Ссылка на pandasprofiling [Обычная ссылка в строке](https://www.google.com)"
   ]
  },
  {
   "cell_type": "code",
   "execution_count": 8,
   "id": "852d9e90",
   "metadata": {},
   "outputs": [],
   "source": [
    "bin_cols = ['sex', 'car', 'car_type', 'good_work', 'foreign_passport']\n",
    "cat_cols = ['education', 'region_rating','home_address', 'work_address',\n",
    "            'sna','first_time']\n",
    "num_cols = ['age', 'decline_app_cnt', 'income', 'bki_request_cnt', 'score_bki']\n",
    "date_cols = ['app_date']"
   ]
  },
  {
   "cell_type": "markdown",
   "id": "43c7ca7e",
   "metadata": {},
   "source": [
    "Посмотрим выбросы"
   ]
  },
  {
   "cell_type": "code",
   "execution_count": 9,
   "id": "6f9c0a8d",
   "metadata": {},
   "outputs": [
    {
     "name": "stdout",
     "output_type": "stream",
     "text": [
      "age\n",
      "Lower Bound: 3.0, Upper Bound 75.0, Outliers Count: 0\n",
      "decline_app_cnt\n",
      "Lower Bound: 0.0, Upper Bound 0.0, Outliers Count: 18677\n",
      "income\n",
      "Lower Bound: -22000.0, Upper Bound 90000.0, Outliers Count: 7000\n",
      "bki_request_cnt\n",
      "Lower Bound: -4.5, Upper Bound 7.5, Outliers Count: 2636\n",
      "score_bki\n",
      "Lower Bound: -3.299, Upper Bound -0.529, Outliers Count: 518\n"
     ]
    }
   ],
   "source": [
    "for col in num_cols:\n",
    "    print(col)\n",
    "    detect_outliers(data[col])"
   ]
  },
  {
   "cell_type": "markdown",
   "id": "bb149126",
   "metadata": {},
   "source": [
    "'client_id' удалим"
   ]
  },
  {
   "cell_type": "markdown",
   "id": "32dec81b",
   "metadata": {},
   "source": [
    "* app_date\n",
    "   преобразовать\n",
    "* education\n",
    "   пропуски\n",
    "   LabelEncoding\n",
    "* sex\n",
    "   LabelEncoding\n",
    "* age\n",
    "   Смещенное распределение\n",
    "   Перевести в категории или логарифмировать\n",
    "* car и car_type\n",
    "   высокая корреляция с car_type\n",
    "   LabelEncoding\n",
    "   объеденить с car_type\n",
    "* decline_app_cnt\n",
    "   много нулевых значений\n",
    "   много выбросов\n",
    "   перевести в категории или логарифмировать\n",
    "* good_work\n",
    "   все ок\n",
    "* score_bki\n",
    "   есть выбросы\n",
    "   перевести в категорию?\n",
    "* bki_request_cnt\n",
    "   много нулевых значений\n",
    "   есть выбросы\n",
    "   перевести в категории или логарифмировать\n",
    "* region_rating\n",
    "   слегка смещенное распределение\n",
    "   логарифмировать?\n",
    "* home_address и work_address\n",
    "   высокая корреляция с work_address\n",
    "   объеденить с work_address\n",
    "* income\n",
    "   Смещенное распределение\n",
    "   есть выбросы\n",
    "   Перевести в категории или логарифмировать\n",
    "* sna и first_time\n",
    "   высокая корреляция с first_time\n",
    "   объеденить с first_time\n",
    "* foreign_passport\n",
    "   LabelEncoding\n",
    "* default\n",
    "   Целевая переменная. Не сбалансированная выборка. Количество одного\n",
    "   класса сильно больше количества второго класса.\n",
    "   Пробовать веса классов или добавать в выборку больше значений\n",
    "   класса меньшинства."
   ]
  },
  {
   "cell_type": "markdown",
   "id": "0e5b4716",
   "metadata": {},
   "source": [
    "Обработаем даты"
   ]
  },
  {
   "cell_type": "code",
   "execution_count": 10,
   "id": "befd5af9",
   "metadata": {},
   "outputs": [],
   "source": [
    "for col in date_cols:\n",
    "    data[col] = pd.to_datetime(data[col])"
   ]
  },
  {
   "cell_type": "code",
   "execution_count": 11,
   "id": "3b7bc097",
   "metadata": {
    "scrolled": true
   },
   "outputs": [
    {
     "data": {
      "text/plain": [
       "0        2014-03-22\n",
       "1        2014-01-24\n",
       "2        2014-03-23\n",
       "3        2014-02-03\n",
       "4        2014-02-04\n",
       "            ...    \n",
       "110143   2014-03-04\n",
       "110144   2014-03-24\n",
       "110145   2014-04-22\n",
       "110146   2014-01-04\n",
       "110147   2014-01-23\n",
       "Name: app_date, Length: 110148, dtype: datetime64[ns]"
      ]
     },
     "execution_count": 11,
     "metadata": {},
     "output_type": "execute_result"
    }
   ],
   "source": [
    "data['app_date']"
   ]
  },
  {
   "cell_type": "markdown",
   "id": "70ec7ffa",
   "metadata": {},
   "source": [
    "Заполним пропуски модой"
   ]
  },
  {
   "cell_type": "code",
   "execution_count": 12,
   "id": "3ecfc5e2",
   "metadata": {},
   "outputs": [],
   "source": [
    "mod_edu = data['education'].mode()\n",
    "data['education'] = data['education'].fillna(mod_edu[0])"
   ]
  },
  {
   "cell_type": "code",
   "execution_count": 13,
   "id": "7d5cf39b",
   "metadata": {},
   "outputs": [],
   "source": [
    "# imp = SimpleImputer(strategy='most_frequent')\n",
    "# imp.fit(data)\n",
    "\n",
    "# data = imp.transform(data)\n",
    "\n",
    "# data = pd.DataFrame(data)"
   ]
  },
  {
   "cell_type": "markdown",
   "id": "e7e5b350",
   "metadata": {},
   "source": [
    "Обучим наивную модель для сравнения"
   ]
  },
  {
   "cell_type": "code",
   "execution_count": 14,
   "id": "394495c3",
   "metadata": {},
   "outputs": [],
   "source": [
    "data_naive = data[['client_id', 'age',\n",
    "       'decline_app_cnt', 'good_work', 'score_bki', 'bki_request_cnt',\n",
    "       'region_rating', 'home_address', 'work_address', 'income', 'sna',\n",
    "       'first_time', 'sample', 'default']]"
   ]
  },
  {
   "cell_type": "code",
   "execution_count": 15,
   "id": "b8cdb6cb",
   "metadata": {},
   "outputs": [],
   "source": [
    "# Теперь выделим тестовую часть\n",
    "train_data = data_naive.query('sample == 1').drop(['sample'], axis=1)\n",
    "test_data = data_naive.query('sample == 0').drop(['sample'], axis=1)\n",
    "\n",
    "y = train_data.default.values            # наш таргет\n",
    "X = train_data.drop(['default'], axis=1)"
   ]
  },
  {
   "cell_type": "code",
   "execution_count": 16,
   "id": "526ea6f7",
   "metadata": {},
   "outputs": [],
   "source": [
    "X_train, X_test, y_train, y_test = train_test_split(X, y, test_size=0.2, random_state=RANDOM_SEED)"
   ]
  },
  {
   "cell_type": "code",
   "execution_count": 17,
   "id": "99a7f074",
   "metadata": {
    "scrolled": false
   },
   "outputs": [
    {
     "data": {
      "text/plain": [
       "array([[12933,     0],\n",
       "       [ 1827,     0]], dtype=int64)"
      ]
     },
     "execution_count": 17,
     "metadata": {},
     "output_type": "execute_result"
    }
   ],
   "source": [
    "model = LogisticRegression()\n",
    "model.fit(X_train, y_train)\n",
    "y_pred = model.predict(X_test)\n",
    "confusion_matrix(y_test, y_pred)"
   ]
  },
  {
   "cell_type": "markdown",
   "id": "998cb90d",
   "metadata": {},
   "source": [
    "Модуль sklearn выдаёт матрицу ошибок в следующем виде: TN FP FN TP"
   ]
  },
  {
   "cell_type": "code",
   "execution_count": 18,
   "id": "080cdb28",
   "metadata": {},
   "outputs": [
    {
     "data": {
      "text/plain": [
       "0.0"
      ]
     },
     "execution_count": 18,
     "metadata": {},
     "output_type": "execute_result"
    }
   ],
   "source": [
    "f1_score(y_test, y_pred)"
   ]
  },
  {
   "cell_type": "code",
   "execution_count": 19,
   "id": "acd2f8dc",
   "metadata": {},
   "outputs": [
    {
     "data": {
      "text/plain": [
       "0.876219512195122"
      ]
     },
     "execution_count": 19,
     "metadata": {},
     "output_type": "execute_result"
    }
   ],
   "source": [
    "accuracy_score(y_test, y_pred)"
   ]
  },
  {
   "cell_type": "code",
   "execution_count": 20,
   "id": "e49b527c",
   "metadata": {},
   "outputs": [
    {
     "data": {
      "text/plain": [
       "0.0"
      ]
     },
     "execution_count": 20,
     "metadata": {},
     "output_type": "execute_result"
    }
   ],
   "source": [
    "recall_score(y_test, y_pred)"
   ]
  },
  {
   "cell_type": "code",
   "execution_count": 21,
   "id": "31532b40",
   "metadata": {
    "scrolled": true
   },
   "outputs": [
    {
     "name": "stderr",
     "output_type": "stream",
     "text": [
      "C:\\Users\\negat\\anaconda3\\lib\\site-packages\\sklearn\\metrics\\_classification.py:1245: UndefinedMetricWarning: Precision is ill-defined and being set to 0.0 due to no predicted samples. Use `zero_division` parameter to control this behavior.\n",
      "  _warn_prf(average, modifier, msg_start, len(result))\n"
     ]
    },
    {
     "data": {
      "text/plain": [
       "0.0"
      ]
     },
     "execution_count": 21,
     "metadata": {},
     "output_type": "execute_result"
    }
   ],
   "source": [
    "precision_score(y_test, y_pred)"
   ]
  },
  {
   "cell_type": "code",
   "execution_count": 22,
   "id": "98929356",
   "metadata": {},
   "outputs": [
    {
     "name": "stdout",
     "output_type": "stream",
     "text": [
      "              precision    recall  f1-score   support\n",
      "\n",
      "           0       0.88      1.00      0.93     12933\n",
      "           1       0.00      0.00      0.00      1827\n",
      "\n",
      "    accuracy                           0.88     14760\n",
      "   macro avg       0.44      0.50      0.47     14760\n",
      "weighted avg       0.77      0.88      0.82     14760\n",
      "\n"
     ]
    },
    {
     "name": "stderr",
     "output_type": "stream",
     "text": [
      "C:\\Users\\negat\\anaconda3\\lib\\site-packages\\sklearn\\metrics\\_classification.py:1245: UndefinedMetricWarning: Precision and F-score are ill-defined and being set to 0.0 in labels with no predicted samples. Use `zero_division` parameter to control this behavior.\n",
      "  _warn_prf(average, modifier, msg_start, len(result))\n",
      "C:\\Users\\negat\\anaconda3\\lib\\site-packages\\sklearn\\metrics\\_classification.py:1245: UndefinedMetricWarning: Precision and F-score are ill-defined and being set to 0.0 in labels with no predicted samples. Use `zero_division` parameter to control this behavior.\n",
      "  _warn_prf(average, modifier, msg_start, len(result))\n",
      "C:\\Users\\negat\\anaconda3\\lib\\site-packages\\sklearn\\metrics\\_classification.py:1245: UndefinedMetricWarning: Precision and F-score are ill-defined and being set to 0.0 in labels with no predicted samples. Use `zero_division` parameter to control this behavior.\n",
      "  _warn_prf(average, modifier, msg_start, len(result))\n"
     ]
    }
   ],
   "source": [
    "print(classification_report(y_test, y_pred, output_dict=False))"
   ]
  },
  {
   "cell_type": "code",
   "execution_count": 23,
   "id": "426806a2",
   "metadata": {},
   "outputs": [],
   "source": [
    "probs = model.predict_proba(X_test)\n",
    "#probs = probs[:,1]"
   ]
  },
  {
   "cell_type": "code",
   "execution_count": 24,
   "id": "b30a681d",
   "metadata": {
    "scrolled": true
   },
   "outputs": [
    {
     "data": {
      "image/png": "[encoded data removed]",
      "text/plain": [
       "<Figure size 432x288 with 1 Axes>"
      ]
     },
     "metadata": {
      "needs_background": "light"
     },
     "output_type": "display_data"
    }
   ],
   "source": [
    "fpr, tpr, threshold = roc_curve(y_test, probs[:,1])\n",
    "roc_auc = roc_auc_score(y_test, probs[:,1])\n",
    "\n",
    "plt.figure()\n",
    "plt.plot([0, 1], label='Baseline', linestyle='--')\n",
    "plt.plot(fpr, tpr, label = 'Regression')\n",
    "plt.title('Logistic Regression ROC AUC = %0.3f' % roc_auc)\n",
    "plt.ylabel('True Positive Rate')\n",
    "plt.xlabel('False Positive Rate')\n",
    "plt.legend(loc = 'lower right')\n",
    "plt.show()"
   ]
  },
  {
   "cell_type": "code",
   "execution_count": 25,
   "id": "cec5bc26",
   "metadata": {},
   "outputs": [],
   "source": [
    "df_report = pd.DataFrame(data=None)"
   ]
  },
  {
   "cell_type": "code",
   "execution_count": 26,
   "id": "f8ac5902",
   "metadata": {},
   "outputs": [
    {
     "name": "stderr",
     "output_type": "stream",
     "text": [
      "C:\\Users\\negat\\anaconda3\\lib\\site-packages\\sklearn\\metrics\\_classification.py:1245: UndefinedMetricWarning: Precision is ill-defined and being set to 0.0 due to no predicted samples. Use `zero_division` parameter to control this behavior.\n",
      "  _warn_prf(average, modifier, msg_start, len(result))\n",
      "C:\\Users\\negat\\anaconda3\\lib\\site-packages\\sklearn\\metrics\\_classification.py:1245: UndefinedMetricWarning: Precision is ill-defined and being set to 0.0 due to no predicted samples. Use `zero_division` parameter to control this behavior.\n",
      "  _warn_prf(average, modifier, msg_start, len(result))\n"
     ]
    }
   ],
   "source": [
    "df_report = get_scores(df_report, model, X_test, \n",
    "                       y_test, 'LogisticRegression_Naive')"
   ]
  },
  {
   "cell_type": "code",
   "execution_count": 27,
   "id": "5c5c69f9",
   "metadata": {
    "scrolled": true
   },
   "outputs": [
    {
     "data": {
      "text/html": [
       "<div>\n",
       "<style scoped>\n",
       "    .dataframe tbody tr th:only-of-type {\n",
       "        vertical-align: middle;\n",
       "    }\n",
       "\n",
       "    .dataframe tbody tr th {\n",
       "        vertical-align: top;\n",
       "    }\n",
       "\n",
       "    .dataframe thead th {\n",
       "        text-align: right;\n",
       "    }\n",
       "</style>\n",
       "<table border=\"1\" class=\"dataframe\">\n",
       "  <thead>\n",
       "    <tr style=\"text-align: right;\">\n",
       "      <th></th>\n",
       "      <th>ROC-AUC</th>\n",
       "      <th>PR-AUC</th>\n",
       "      <th>F1</th>\n",
       "      <th>precision_Neg</th>\n",
       "      <th>precision_Pos</th>\n",
       "      <th>recall_Neg</th>\n",
       "      <th>recall_Pos</th>\n",
       "    </tr>\n",
       "  </thead>\n",
       "  <tbody>\n",
       "    <tr>\n",
       "      <th>LogisticRegression_Naive</th>\n",
       "      <td>0.589633</td>\n",
       "      <td>0.0</td>\n",
       "      <td>0.0</td>\n",
       "      <td>0.87622</td>\n",
       "      <td>0.0</td>\n",
       "      <td>1.0</td>\n",
       "      <td>0.0</td>\n",
       "    </tr>\n",
       "  </tbody>\n",
       "</table>\n",
       "</div>"
      ],
      "text/plain": [
       "                           ROC-AUC  PR-AUC   F1  precision_Neg  precision_Pos  \\\n",
       "LogisticRegression_Naive  0.589633     0.0  0.0        0.87622            0.0   \n",
       "\n",
       "                          recall_Neg  recall_Pos  \n",
       "LogisticRegression_Naive         1.0         0.0  "
      ]
     },
     "execution_count": 27,
     "metadata": {},
     "output_type": "execute_result"
    }
   ],
   "source": [
    "df_report"
   ]
  },
  {
   "cell_type": "code",
   "execution_count": 28,
   "id": "0e6535c3",
   "metadata": {},
   "outputs": [
    {
     "data": {
      "text/plain": [
       "0.36890218945748554"
      ]
     },
     "execution_count": 28,
     "metadata": {},
     "output_type": "execute_result"
    }
   ],
   "source": [
    "log_loss(y_test, probs)"
   ]
  },
  {
   "cell_type": "code",
   "execution_count": 102,
   "id": "c7bab06c",
   "metadata": {},
   "outputs": [],
   "source": [
    "# kf = KFold(n_splits=5)\n",
    "# cross_val_score(model, X, y, cv=kf, scoring=\"accuracy\")"
   ]
  },
  {
   "cell_type": "code",
   "execution_count": 33,
   "id": "fee96994",
   "metadata": {},
   "outputs": [],
   "source": [
    "# clf = LogisticRegressionCV(cv=5, random_state=0).fit(X, y)\n",
    "# clf.predict(X)\n",
    "# clf.predict_proba(X).shape\n",
    "# y_pred2 = clf.predict(X)\n",
    "# clf.score(X, y)\n",
    "# confusion_matrix(y, y_pred2)\n",
    "# probs2 = clf.predict_proba(X)\n",
    "# probs2 = probs2[:,1]\n",
    "# probs2 = clf.predict_proba(X)\n",
    "# roc_auc_score(y, probs2[:,1])\n",
    "# log_loss(y, probs2)"
   ]
  },
  {
   "cell_type": "markdown",
   "id": "1f1e3d10",
   "metadata": {},
   "source": [
    "Померим переобучение"
   ]
  },
  {
   "cell_type": "code",
   "execution_count": 29,
   "id": "908efd0a",
   "metadata": {
    "scrolled": true
   },
   "outputs": [],
   "source": [
    "cv_metrics = cross_validate(model, X, y, cv=5, scoring='f1_micro', return_train_score=True)"
   ]
  },
  {
   "cell_type": "code",
   "execution_count": 30,
   "id": "1849fa16",
   "metadata": {},
   "outputs": [],
   "source": [
    "def plot_cv_metrics(cv_metrics):\n",
    "    avg_f1_train, std_f1_train = cv_metrics['train_score'].mean(), cv_metrics['train_score'].std()\n",
    "    avg_f1_valid, std_f1_valid = cv_metrics['test_score'].mean(), cv_metrics['test_score'].std()\n",
    "    print('[train] F1-score = {:.2f} +/- {:.2f}'.format(avg_f1_train, std_f1_train))\n",
    "    print('[valid] F1-score = {:.2f} +/- {:.2f}'.format(avg_f1_valid, std_f1_valid))\n",
    "    \n",
    "    plt.figure(figsize=(15, 5))\n",
    "\n",
    "    plt.plot(cv_metrics['train_score'], label='train', marker='.')\n",
    "    plt.plot(cv_metrics['test_score'], label='valid', marker='.')\n",
    "\n",
    "    plt.ylim([0., 1.]);\n",
    "    plt.xlabel('CV iteration', fontsize=15)\n",
    "    plt.ylabel('F1-score', fontsize=15)\n",
    "    plt.legend(fontsize=15)"
   ]
  },
  {
   "cell_type": "code",
   "execution_count": 31,
   "id": "f09e377d",
   "metadata": {
    "scrolled": true
   },
   "outputs": [
    {
     "name": "stdout",
     "output_type": "stream",
     "text": [
      "[train] F1-score = 0.87 +/- 0.00\n",
      "[valid] F1-score = 0.87 +/- 0.00\n"
     ]
    },
    {
     "data": {
      "image/png": "[encoded data removed]",
      "text/plain": [
       "<Figure size 1080x360 with 1 Axes>"
      ]
     },
     "metadata": {
      "needs_background": "light"
     },
     "output_type": "display_data"
    }
   ],
   "source": [
    "plot_cv_metrics(cv_metrics)"
   ]
  },
  {
   "cell_type": "markdown",
   "id": "4f227f82",
   "metadata": {},
   "source": [
    "сюда скопировать создание файла submission"
   ]
  },
  {
   "cell_type": "code",
   "execution_count": null,
   "id": "a2f50d20",
   "metadata": {},
   "outputs": [],
   "source": []
  },
  {
   "cell_type": "code",
   "execution_count": null,
   "id": "b8345253",
   "metadata": {},
   "outputs": [],
   "source": []
  },
  {
   "cell_type": "markdown",
   "id": "721e40a5",
   "metadata": {},
   "source": [
    "Посмотрим распределение логарифмированных "
   ]
  },
  {
   "cell_type": "code",
   "execution_count": 32,
   "id": "0a4f4414",
   "metadata": {},
   "outputs": [
    {
     "name": "stderr",
     "output_type": "stream",
     "text": [
      "C:\\Users\\negat\\anaconda3\\lib\\site-packages\\seaborn\\distributions.py:2557: FutureWarning: `distplot` is a deprecated function and will be removed in a future version. Please adapt your code to use either `displot` (a figure-level function with similar flexibility) or `histplot` (an axes-level function for histograms).\n",
      "  warnings.warn(msg, FutureWarning)\n"
     ]
    },
    {
     "data": {
      "image/png": "[encoded data removed]",
      "text/plain": [
       "<Figure size 432x288 with 1 Axes>"
      ]
     },
     "metadata": {
      "needs_background": "light"
     },
     "output_type": "display_data"
    },
    {
     "name": "stderr",
     "output_type": "stream",
     "text": [
      "C:\\Users\\negat\\anaconda3\\lib\\site-packages\\seaborn\\distributions.py:2557: FutureWarning: `distplot` is a deprecated function and will be removed in a future version. Please adapt your code to use either `displot` (a figure-level function with similar flexibility) or `histplot` (an axes-level function for histograms).\n",
      "  warnings.warn(msg, FutureWarning)\n"
     ]
    },
    {
     "data": {
      "image/png": "[encoded data removed]",
      "text/plain": [
       "<Figure size 432x288 with 1 Axes>"
      ]
     },
     "metadata": {
      "needs_background": "light"
     },
     "output_type": "display_data"
    },
    {
     "name": "stderr",
     "output_type": "stream",
     "text": [
      "C:\\Users\\negat\\anaconda3\\lib\\site-packages\\seaborn\\distributions.py:2557: FutureWarning: `distplot` is a deprecated function and will be removed in a future version. Please adapt your code to use either `displot` (a figure-level function with similar flexibility) or `histplot` (an axes-level function for histograms).\n",
      "  warnings.warn(msg, FutureWarning)\n"
     ]
    },
    {
     "data": {
      "image/png": "[encoded data removed]",
      "text/plain": [
       "<Figure size 432x288 with 1 Axes>"
      ]
     },
     "metadata": {
      "needs_background": "light"
     },
     "output_type": "display_data"
    },
    {
     "name": "stderr",
     "output_type": "stream",
     "text": [
      "C:\\Users\\negat\\anaconda3\\lib\\site-packages\\seaborn\\distributions.py:2557: FutureWarning: `distplot` is a deprecated function and will be removed in a future version. Please adapt your code to use either `displot` (a figure-level function with similar flexibility) or `histplot` (an axes-level function for histograms).\n",
      "  warnings.warn(msg, FutureWarning)\n"
     ]
    },
    {
     "data": {
      "image/png": "[encoded data removed]",
      "text/plain": [
       "<Figure size 432x288 with 1 Axes>"
      ]
     },
     "metadata": {
      "needs_background": "light"
     },
     "output_type": "display_data"
    },
    {
     "name": "stderr",
     "output_type": "stream",
     "text": [
      "C:\\Users\\negat\\anaconda3\\lib\\site-packages\\seaborn\\distributions.py:2557: FutureWarning: `distplot` is a deprecated function and will be removed in a future version. Please adapt your code to use either `displot` (a figure-level function with similar flexibility) or `histplot` (an axes-level function for histograms).\n",
      "  warnings.warn(msg, FutureWarning)\n"
     ]
    },
    {
     "data": {
      "image/png": "[encoded data removed]",
      "text/plain": [
       "<Figure size 432x288 with 1 Axes>"
      ]
     },
     "metadata": {
      "needs_background": "light"
     },
     "output_type": "display_data"
    }
   ],
   "source": [
    "for col in num_cols:\n",
    "    plt.figure()\n",
    "    sns.distplot(np.log(data[col][data[col] > 0].dropna() +1))\n",
    "    plt.title(col)\n",
    "    plt.show()"
   ]
  },
  {
   "cell_type": "markdown",
   "id": "f8521a97",
   "metadata": {},
   "source": [
    "income и age приобрели распределение похожее на нормальное"
   ]
  },
  {
   "cell_type": "code",
   "execution_count": 33,
   "id": "cb192a36",
   "metadata": {},
   "outputs": [],
   "source": [
    "col_for_log = ['income', 'age']"
   ]
  },
  {
   "cell_type": "code",
   "execution_count": 38,
   "id": "69e0e672",
   "metadata": {},
   "outputs": [],
   "source": [
    "for col in col_for_log:\n",
    "    data[col+'_log'] =np.log(data[col])\n",
    "    num_cols.append(col+'_log')"
   ]
  },
  {
   "cell_type": "markdown",
   "id": "a4224273",
   "metadata": {},
   "source": [
    "посмотрим boxplot числовых признаков"
   ]
  },
  {
   "cell_type": "code",
   "execution_count": null,
   "id": "d73bc20c",
   "metadata": {},
   "outputs": [],
   "source": []
  },
  {
   "cell_type": "code",
   "execution_count": 48,
   "id": "e3d69cf6",
   "metadata": {
    "scrolled": true
   },
   "outputs": [
    {
     "data": {
      "image/png": "[encoded data removed]",
      "text/plain": [
       "<Figure size 432x288 with 1 Axes>"
      ]
     },
     "metadata": {},
     "output_type": "display_data"
    },
    {
     "data": {
      "image/png": "[encoded data removed]",
      "text/plain": [
       "<Figure size 432x288 with 1 Axes>"
      ]
     },
     "metadata": {},
     "output_type": "display_data"
    },
    {
     "data": {
      "image/png": "[encoded data removed]",
      "text/plain": [
       "<Figure size 432x288 with 1 Axes>"
      ]
     },
     "metadata": {},
     "output_type": "display_data"
    },
    {
     "data": {
      "image/png": "[encoded data removed]",
      "text/plain": [
       "<Figure size 432x288 with 1 Axes>"
      ]
     },
     "metadata": {},
     "output_type": "display_data"
    },
    {
     "data": {
      "image/png": "[encoded data removed]",
      "text/plain": [
       "<Figure size 432x288 with 1 Axes>"
      ]
     },
     "metadata": {},
     "output_type": "display_data"
    },
    {
     "data": {
      "image/png": "[encoded data removed]",
      "text/plain": [
       "<Figure size 432x288 with 1 Axes>"
      ]
     },
     "metadata": {},
     "output_type": "display_data"
    },
    {
     "data": {
      "image/png": "[encoded data removed]",
      "text/plain": [
       "<Figure size 432x288 with 1 Axes>"
      ]
     },
     "metadata": {},
     "output_type": "display_data"
    }
   ],
   "source": [
    "for i in num_cols:\n",
    "    sns.set_theme(style=\"whitegrid\")\n",
    "    ax = sns.boxplot(x=data[i])\n",
    "    plt.show()"
   ]
  },
  {
   "cell_type": "markdown",
   "id": "d816c159",
   "metadata": {},
   "source": [
    "разделим decline_app_cnt на две категории: были отказы и не было"
   ]
  },
  {
   "cell_type": "code",
   "execution_count": 53,
   "id": "d3b6e127",
   "metadata": {},
   "outputs": [],
   "source": [
    "data['decline_app'] = data['decline_app_cnt'].apply(lambda x: 0 if x == 0 else 1)"
   ]
  },
  {
   "cell_type": "markdown",
   "id": "ee8d5ca2",
   "metadata": {},
   "source": [
    "разделим income на три категории low, mid и hi (0, 1, 2)"
   ]
  },
  {
   "cell_type": "code",
   "execution_count": 81,
   "id": "86ac1a94",
   "metadata": {},
   "outputs": [],
   "source": [
    "q1, q3 = np.percentile(sorted(data['income']), [25, 75])"
   ]
  },
  {
   "cell_type": "code",
   "execution_count": 88,
   "id": "7e36eccd",
   "metadata": {},
   "outputs": [],
   "source": [
    "data['income_cat'] = data['income'].apply(lambda x: 0 if x < q1 else (2 if x > q3 else 1))"
   ]
  },
  {
   "cell_type": "code",
   "execution_count": 89,
   "id": "7bc43b78",
   "metadata": {},
   "outputs": [
    {
     "data": {
      "text/plain": [
       "1    59003\n",
       "2    27344\n",
       "0    23801\n",
       "Name: income_cat, dtype: int64"
      ]
     },
     "execution_count": 89,
     "metadata": {},
     "output_type": "execute_result"
    }
   ],
   "source": [
    "data['income_cat'].value_counts()"
   ]
  },
  {
   "cell_type": "markdown",
   "id": "846feee3",
   "metadata": {},
   "source": [
    "разделим bki_request_cnt на две категории low и  hi (0, 1)"
   ]
  },
  {
   "cell_type": "code",
   "execution_count": 91,
   "id": "c7ababe3",
   "metadata": {},
   "outputs": [],
   "source": [
    "data['bki_request'] = data['bki_request_cnt'].apply(lambda x: 0 if x <= 0 else 1)"
   ]
  },
  {
   "cell_type": "code",
   "execution_count": null,
   "id": "4bf855b2",
   "metadata": {},
   "outputs": [],
   "source": []
  },
  {
   "cell_type": "code",
   "execution_count": 92,
   "id": "7a286d82",
   "metadata": {},
   "outputs": [
    {
     "data": {
      "text/plain": [
       "1    81240\n",
       "0    28908\n",
       "Name: bki_request, dtype: int64"
      ]
     },
     "execution_count": 92,
     "metadata": {},
     "output_type": "execute_result"
    }
   ],
   "source": [
    "data['bki_request'].value_counts()"
   ]
  },
  {
   "cell_type": "code",
   "execution_count": 58,
   "id": "bdb8c270",
   "metadata": {
    "scrolled": false
   },
   "outputs": [
    {
     "data": {
      "text/plain": [
       "<AxesSubplot:title={'center':'По датам'}>"
      ]
     },
     "execution_count": 58,
     "metadata": {},
     "output_type": "execute_result"
    },
    {
     "data": {
      "image/png": "[encoded data removed]",
      "text/plain": [
       "<Figure size 432x288 with 1 Axes>"
      ]
     },
     "metadata": {},
     "output_type": "display_data"
    }
   ],
   "source": [
    "data['region_rating'].value_counts().plot(kind = 'bar', \n",
    "                              grid = True, \n",
    "                              colormap = 'coolwarm', \n",
    "                              title = 'По датам')"
   ]
  },
  {
   "cell_type": "code",
   "execution_count": 70,
   "id": "caccf205",
   "metadata": {
    "scrolled": true
   },
   "outputs": [
    {
     "data": {
      "text/plain": [
       "<AxesSubplot:xlabel='default', ylabel='income'>"
      ]
     },
     "execution_count": 70,
     "metadata": {},
     "output_type": "execute_result"
    },
    {
     "data": {
      "image/png": "[encoded data removed]",
      "text/plain": [
       "<Figure size 432x288 with 1 Axes>"
      ]
     },
     "metadata": {},
     "output_type": "display_data"
    }
   ],
   "source": [
    "sns.barplot(x='default', y='income', data=data)"
   ]
  },
  {
   "cell_type": "code",
   "execution_count": 71,
   "id": "35fca701",
   "metadata": {
    "scrolled": true
   },
   "outputs": [
    {
     "data": {
      "text/plain": [
       "<AxesSubplot:xlabel='default', ylabel='age'>"
      ]
     },
     "execution_count": 71,
     "metadata": {},
     "output_type": "execute_result"
    },
    {
     "data": {
      "image/png": "[encoded data removed]",
      "text/plain": [
       "<Figure size 432x288 with 1 Axes>"
      ]
     },
     "metadata": {},
     "output_type": "display_data"
    }
   ],
   "source": [
    "sns.barplot(x='default', y='age', data=data)"
   ]
  },
  {
   "cell_type": "code",
   "execution_count": 75,
   "id": "b7bc6374",
   "metadata": {
    "scrolled": true
   },
   "outputs": [
    {
     "data": {
      "text/plain": [
       "<AxesSubplot:xlabel='region_rating', ylabel='default'>"
      ]
     },
     "execution_count": 75,
     "metadata": {},
     "output_type": "execute_result"
    },
    {
     "data": {
      "image/png": "[encoded data removed]",
      "text/plain": [
       "<Figure size 432x288 with 1 Axes>"
      ]
     },
     "metadata": {},
     "output_type": "display_data"
    }
   ],
   "source": [
    "sns.barplot(x='region_rating', y='default', data=data)"
   ]
  },
  {
   "cell_type": "code",
   "execution_count": 74,
   "id": "fa432195",
   "metadata": {
    "scrolled": true
   },
   "outputs": [
    {
     "data": {
      "text/plain": [
       "<AxesSubplot:xlabel='default', ylabel='sex'>"
      ]
     },
     "execution_count": 74,
     "metadata": {},
     "output_type": "execute_result"
    },
    {
     "data": {
      "image/png": "[encoded data removed]",
      "text/plain": [
       "<Figure size 432x288 with 1 Axes>"
      ]
     },
     "metadata": {},
     "output_type": "display_data"
    }
   ],
   "source": [
    "sns.barplot(x='default', y='sex', data=data)"
   ]
  },
  {
   "cell_type": "code",
   "execution_count": null,
   "id": "e200c248",
   "metadata": {},
   "outputs": [],
   "source": []
  },
  {
   "cell_type": "code",
   "execution_count": 76,
   "id": "054fe9f0",
   "metadata": {},
   "outputs": [
    {
     "name": "stderr",
     "output_type": "stream",
     "text": [
      "*c* argument looks like a single numeric RGB or RGBA sequence, which should be avoided as value-mapping will have precedence in case its length matches with *x* & *y*.  Please use the *color* keyword-argument or provide a 2-D array with a single row if you intend to specify the same RGB or RGBA value for all points.\n"
     ]
    },
    {
     "data": {
      "text/plain": [
       "<AxesSubplot:xlabel='default', ylabel='income'>"
      ]
     },
     "execution_count": 76,
     "metadata": {},
     "output_type": "execute_result"
    },
    {
     "data": {
      "image/png": "[encoded data removed]",
      "text/plain": [
       "<Figure size 432x288 with 1 Axes>"
      ]
     },
     "metadata": {},
     "output_type": "display_data"
    }
   ],
   "source": [
    "data.plot(x='default', y='income', kind='scatter', grid=True)"
   ]
  },
  {
   "cell_type": "code",
   "execution_count": 66,
   "id": "f873d522",
   "metadata": {},
   "outputs": [
    {
     "data": {
      "image/png": "[encoded data removed]",
      "text/plain": [
       "<Figure size 1008x504 with 1 Axes>"
      ]
     },
     "metadata": {},
     "output_type": "display_data"
    }
   ],
   "source": [
    "plt.figure(figsize=(14, 7))\n",
    "sns.lineplot(data=data, x='income', y='default');"
   ]
  },
  {
   "cell_type": "markdown",
   "id": "70de5c74",
   "metadata": {},
   "source": [
    "функции обучения из интернета, потом посмотреть"
   ]
  },
  {
   "cell_type": "code",
   "execution_count": null,
   "id": "f47991d4",
   "metadata": {},
   "outputs": [],
   "source": [
    "def fit_model(self, X, y):\n",
    "        \"\"\"\n",
    "        X::pd.DataFrame: Input data\n",
    "        y::np.ndarray: response for input data\n",
    "        \"\"\"\n",
    "        X = X.values\n",
    "        XY = np.hstack((X, y[:, None]))\n",
    "        np.random.shuffle(XY)\n",
    "        X = XY[:, :-1]\n",
    "        y = XY[:, -1]\n",
    "        cv_out = StratifiedShuffleSplit(n_splits=400)\n",
    "        cv_in = StratifiedKFold(n_splits=5)\n",
    "        clf = Pipeline([('scaler', StandardScaler()),\n",
    "                        ('lg', linear_model.LogisticRegressionCV(\n",
    "                                  penalty='l1',\n",
    "                                  solver='liblinear',\n",
    "                                  cv=cv_in))])\n",
    "\n",
    "        self.res = {'coef':[], 'auc':[], 'model':0}\n",
    "\n",
    "        for idx, (train, test) in enumerate(cv_out.split(X, y)):\n",
    "            clf.fit(X[train], y[train])\n",
    "            prediction = clf.predict(X[test])\n",
    "            self.res['coef'].append((idx, clf.named_steps['lg'].coef_[0]))\n",
    "            self.res['auc'].append((idx, roc_auc_score(y[test], prediction)))\n",
    "\n",
    "        self.res['model'] = clf\n",
    "\n",
    "        output_saved = self.save_pickle(self.res, self.out)\n",
    "        return output_saved"
   ]
  },
  {
   "cell_type": "code",
   "execution_count": null,
   "id": "8259ac15",
   "metadata": {},
   "outputs": [],
   "source": [
    "def validate(self):\n",
    "        '''\n",
    "        Ten-fold cross-validation with stratified sampling.\n",
    "        '''\n",
    "        print('Validating new model: {}()'.format(self.__class__.__name__))\n",
    "\n",
    "        accuracy_scores = []\n",
    "        precision_scores = []\n",
    "        recall_scores = []\n",
    "        f1_scores = []\n",
    "\n",
    "        sss = StratifiedShuffleSplit(n_splits=10)\n",
    "        for train_index, test_index in sss.split(self.data, self.labels):\n",
    "            x_train, x_test = self.data[train_index], self.data[test_index]\n",
    "            y_train, y_test = self.labels[train_index], self.labels[test_index]\n",
    "\n",
    "            model = self.create_model()\n",
    "            model.fit(x_train, y_train, epochs=100, batch_size=128,\n",
    "                      class_weight=self.class_weight)\n",
    "            y_pred = model.predict_classes(x_test, batch_size=128)\n",
    "\n",
    "            accuracy_scores.append(accuracy_score(y_test, y_pred))\n",
    "            precision_scores.append(precision_score(y_test, y_pred))\n",
    "            recall_scores.append(recall_score(y_test, y_pred))\n",
    "            f1_scores.append(f1_score(y_test, y_pred))\n",
    "\n",
    "        print('')\n",
    "        print('Accuracy: {}'.format(np.mean(accuracy_scores)))\n",
    "        print('Precision: {}'.format(np.mean(precision_scores)))\n",
    "        print('Recall: {}'.format(np.mean(recall_scores)))\n",
    "        print('F1-measure: {}'.format(np.mean(f1_scores)))"
   ]
  },
  {
   "cell_type": "markdown",
   "id": "74cf40dc",
   "metadata": {},
   "source": [
    "кросс валидация на разных параметрах и на стратифицированной выборке"
   ]
  },
  {
   "cell_type": "code",
   "execution_count": 67,
   "id": "4cd61464",
   "metadata": {},
   "outputs": [],
   "source": [
    "# sss_outer = StratifiedShuffleSplit(n_splits=5, test_size=0.4, random_state=15)\n",
    "# sss_inner = StratifiedShuffleSplit(n_splits=3, test_size=0.2, random_state=16)\n",
    "# pipe_logistic = Pipeline([('scl', StandardScaler()),('clf', LogisticRegression(penalty='l2'))])\n",
    "# parameters = {'clf__C': np.logspace(-4,1,50)}\n",
    "# grid_search = GridSearchCV(estimator=pipe_logistic, param_grid=parameters, verbose=1, scoring='f1', cv=sss_inner)"
   ]
  },
  {
   "cell_type": "code",
   "execution_count": 81,
   "id": "438a0746",
   "metadata": {},
   "outputs": [],
   "source": [
    "from sklearn.metrics import recall_score"
   ]
  },
  {
   "cell_type": "code",
   "execution_count": 82,
   "id": "18944073",
   "metadata": {
    "scrolled": true
   },
   "outputs": [
    {
     "name": "stdout",
     "output_type": "stream",
     "text": [
      "Fitting 3 folds for each of 50 candidates, totalling 150 fits\n",
      "Fitting 3 folds for each of 50 candidates, totalling 150 fits\n",
      "Fitting 3 folds for each of 50 candidates, totalling 150 fits\n",
      "Fitting 3 folds for each of 50 candidates, totalling 150 fits\n",
      "Fitting 3 folds for each of 50 candidates, totalling 150 fits\n"
     ]
    }
   ],
   "source": [
    "# scoring = ['precision_macro', 'recall_macro']\n",
    "# scores = cross_validate(grid_search, X, y, scoring=scoring)"
   ]
  },
  {
   "cell_type": "code",
   "execution_count": 83,
   "id": "b945b282",
   "metadata": {},
   "outputs": [
    {
     "data": {
      "text/plain": [
       "['fit_time', 'score_time', 'test_precision_macro', 'test_recall_macro']"
      ]
     },
     "execution_count": 83,
     "metadata": {},
     "output_type": "execute_result"
    }
   ],
   "source": [
    "sorted(scores.keys())"
   ]
  },
  {
   "cell_type": "code",
   "execution_count": 84,
   "id": "edb083f7",
   "metadata": {},
   "outputs": [
    {
     "data": {
      "text/plain": [
       "array([0.51029912, 0.50632138, 0.51001102, 0.51139806, 0.51334548])"
      ]
     },
     "execution_count": 84,
     "metadata": {},
     "output_type": "execute_result"
    }
   ],
   "source": [
    "scores['test_recall_macro']"
   ]
  },
  {
   "cell_type": "code",
   "execution_count": 68,
   "id": "ef46cdb4",
   "metadata": {
    "scrolled": true
   },
   "outputs": [
    {
     "name": "stdout",
     "output_type": "stream",
     "text": [
      "Fitting 3 folds for each of 50 candidates, totalling 150 fits\n",
      "Fitting 3 folds for each of 50 candidates, totalling 150 fits\n",
      "Fitting 3 folds for each of 50 candidates, totalling 150 fits\n"
     ]
    },
    {
     "data": {
      "text/plain": [
       "array([0.04781282, 0.04261796, 0.04853387])"
      ]
     },
     "execution_count": 68,
     "metadata": {},
     "output_type": "execute_result"
    }
   ],
   "source": [
    "cross_val_score(grid_search, X, y, cv=sss_inner)"
   ]
  },
  {
   "cell_type": "code",
   "execution_count": 79,
   "id": "069a5e9b",
   "metadata": {
    "scrolled": true
   },
   "outputs": [
    {
     "name": "stdout",
     "output_type": "stream",
     "text": [
      "Fitting 3 folds for each of 50 candidates, totalling 150 fits\n"
     ]
    },
    {
     "data": {
      "text/plain": [
       "GridSearchCV(cv=StratifiedShuffleSplit(n_splits=3, random_state=16, test_size=0.2,\n",
       "            train_size=None),\n",
       "             estimator=Pipeline(steps=[('scl', StandardScaler()),\n",
       "                                       ('clf', LogisticRegression())]),\n",
       "             param_grid={'clf__C': array([1.00000000e-04, 1.26485522e-04, 1.59985872e-04, 2.02358965e-04,\n",
       "       2.55954792e-04, 3.23745754e-04, 4.09491506e-04, 5.17947468e-04,\n",
       "       6.55128557e-04, 8.286427...\n",
       "       7.19685673e-02, 9.10298178e-02, 1.15139540e-01, 1.45634848e-01,\n",
       "       1.84206997e-01, 2.32995181e-01, 2.94705170e-01, 3.72759372e-01,\n",
       "       4.71486636e-01, 5.96362332e-01, 7.54312006e-01, 9.54095476e-01,\n",
       "       1.20679264e+00, 1.52641797e+00, 1.93069773e+00, 2.44205309e+00,\n",
       "       3.08884360e+00, 3.90693994e+00, 4.94171336e+00, 6.25055193e+00,\n",
       "       7.90604321e+00, 1.00000000e+01])},\n",
       "             scoring='f1', verbose=1)"
      ]
     },
     "execution_count": 79,
     "metadata": {},
     "output_type": "execute_result"
    }
   ],
   "source": [
    "grid_search.fit(X, y)"
   ]
  },
  {
   "cell_type": "code",
   "execution_count": 80,
   "id": "6d87f79d",
   "metadata": {
    "scrolled": true
   },
   "outputs": [
    {
     "data": {
      "text/plain": [
       "{'memory': None,\n",
       " 'steps': [('scl', StandardScaler()),\n",
       "  ('clf', LogisticRegression(C=0.3727593720314942))],\n",
       " 'verbose': False,\n",
       " 'scl': StandardScaler(),\n",
       " 'clf': LogisticRegression(C=0.3727593720314942),\n",
       " 'scl__copy': True,\n",
       " 'scl__with_mean': True,\n",
       " 'scl__with_std': True,\n",
       " 'clf__C': 0.3727593720314942,\n",
       " 'clf__class_weight': None,\n",
       " 'clf__dual': False,\n",
       " 'clf__fit_intercept': True,\n",
       " 'clf__intercept_scaling': 1,\n",
       " 'clf__l1_ratio': None,\n",
       " 'clf__max_iter': 100,\n",
       " 'clf__multi_class': 'auto',\n",
       " 'clf__n_jobs': None,\n",
       " 'clf__penalty': 'l2',\n",
       " 'clf__random_state': None,\n",
       " 'clf__solver': 'lbfgs',\n",
       " 'clf__tol': 0.0001,\n",
       " 'clf__verbose': 0,\n",
       " 'clf__warm_start': False}"
      ]
     },
     "execution_count": 80,
     "metadata": {},
     "output_type": "execute_result"
    }
   ],
   "source": [
    "grid_search.best_estimator_.get_params()"
   ]
  },
  {
   "cell_type": "markdown",
   "id": "8aa4bd41",
   "metadata": {},
   "source": [
    "Создаем файл на оценку"
   ]
  },
  {
   "cell_type": "code",
   "execution_count": 62,
   "id": "fda1e32d",
   "metadata": {},
   "outputs": [
    {
     "data": {
      "text/html": [
       "<div>\n",
       "<style scoped>\n",
       "    .dataframe tbody tr th:only-of-type {\n",
       "        vertical-align: middle;\n",
       "    }\n",
       "\n",
       "    .dataframe tbody tr th {\n",
       "        vertical-align: top;\n",
       "    }\n",
       "\n",
       "    .dataframe thead th {\n",
       "        text-align: right;\n",
       "    }\n",
       "</style>\n",
       "<table border=\"1\" class=\"dataframe\">\n",
       "  <thead>\n",
       "    <tr style=\"text-align: right;\">\n",
       "      <th></th>\n",
       "      <th>client_id</th>\n",
       "      <th>age</th>\n",
       "      <th>decline_app_cnt</th>\n",
       "      <th>good_work</th>\n",
       "      <th>score_bki</th>\n",
       "      <th>bki_request_cnt</th>\n",
       "      <th>region_rating</th>\n",
       "      <th>home_address</th>\n",
       "      <th>work_address</th>\n",
       "      <th>income</th>\n",
       "      <th>sna</th>\n",
       "      <th>first_time</th>\n",
       "      <th>default</th>\n",
       "    </tr>\n",
       "  </thead>\n",
       "  <tbody>\n",
       "    <tr>\n",
       "      <th>4169</th>\n",
       "      <td>34439</td>\n",
       "      <td>54</td>\n",
       "      <td>0</td>\n",
       "      <td>0</td>\n",
       "      <td>-2.171573</td>\n",
       "      <td>1</td>\n",
       "      <td>50</td>\n",
       "      <td>2</td>\n",
       "      <td>2</td>\n",
       "      <td>50000</td>\n",
       "      <td>1</td>\n",
       "      <td>4</td>\n",
       "      <td>0</td>\n",
       "    </tr>\n",
       "    <tr>\n",
       "      <th>28512</th>\n",
       "      <td>2428</td>\n",
       "      <td>31</td>\n",
       "      <td>0</td>\n",
       "      <td>1</td>\n",
       "      <td>-1.373887</td>\n",
       "      <td>1</td>\n",
       "      <td>80</td>\n",
       "      <td>2</td>\n",
       "      <td>3</td>\n",
       "      <td>25000</td>\n",
       "      <td>1</td>\n",
       "      <td>4</td>\n",
       "      <td>0</td>\n",
       "    </tr>\n",
       "    <tr>\n",
       "      <th>32591</th>\n",
       "      <td>9156</td>\n",
       "      <td>30</td>\n",
       "      <td>3</td>\n",
       "      <td>0</td>\n",
       "      <td>-1.729726</td>\n",
       "      <td>1</td>\n",
       "      <td>50</td>\n",
       "      <td>1</td>\n",
       "      <td>2</td>\n",
       "      <td>28000</td>\n",
       "      <td>1</td>\n",
       "      <td>2</td>\n",
       "      <td>0</td>\n",
       "    </tr>\n",
       "    <tr>\n",
       "      <th>17009</th>\n",
       "      <td>21551</td>\n",
       "      <td>28</td>\n",
       "      <td>2</td>\n",
       "      <td>1</td>\n",
       "      <td>-1.371041</td>\n",
       "      <td>0</td>\n",
       "      <td>50</td>\n",
       "      <td>2</td>\n",
       "      <td>3</td>\n",
       "      <td>40000</td>\n",
       "      <td>1</td>\n",
       "      <td>4</td>\n",
       "      <td>0</td>\n",
       "    </tr>\n",
       "    <tr>\n",
       "      <th>1419</th>\n",
       "      <td>32238</td>\n",
       "      <td>46</td>\n",
       "      <td>0</td>\n",
       "      <td>0</td>\n",
       "      <td>-2.162422</td>\n",
       "      <td>4</td>\n",
       "      <td>60</td>\n",
       "      <td>1</td>\n",
       "      <td>2</td>\n",
       "      <td>35000</td>\n",
       "      <td>1</td>\n",
       "      <td>4</td>\n",
       "      <td>0</td>\n",
       "    </tr>\n",
       "    <tr>\n",
       "      <th>21059</th>\n",
       "      <td>99199</td>\n",
       "      <td>41</td>\n",
       "      <td>0</td>\n",
       "      <td>0</td>\n",
       "      <td>-1.985802</td>\n",
       "      <td>3</td>\n",
       "      <td>60</td>\n",
       "      <td>2</td>\n",
       "      <td>3</td>\n",
       "      <td>20000</td>\n",
       "      <td>4</td>\n",
       "      <td>2</td>\n",
       "      <td>0</td>\n",
       "    </tr>\n",
       "    <tr>\n",
       "      <th>2146</th>\n",
       "      <td>15563</td>\n",
       "      <td>38</td>\n",
       "      <td>0</td>\n",
       "      <td>1</td>\n",
       "      <td>-2.149256</td>\n",
       "      <td>0</td>\n",
       "      <td>40</td>\n",
       "      <td>1</td>\n",
       "      <td>3</td>\n",
       "      <td>60000</td>\n",
       "      <td>1</td>\n",
       "      <td>3</td>\n",
       "      <td>0</td>\n",
       "    </tr>\n",
       "    <tr>\n",
       "      <th>3117</th>\n",
       "      <td>28978</td>\n",
       "      <td>40</td>\n",
       "      <td>0</td>\n",
       "      <td>0</td>\n",
       "      <td>-1.910075</td>\n",
       "      <td>0</td>\n",
       "      <td>80</td>\n",
       "      <td>2</td>\n",
       "      <td>3</td>\n",
       "      <td>47000</td>\n",
       "      <td>2</td>\n",
       "      <td>2</td>\n",
       "      <td>0</td>\n",
       "    </tr>\n",
       "    <tr>\n",
       "      <th>6677</th>\n",
       "      <td>64465</td>\n",
       "      <td>36</td>\n",
       "      <td>0</td>\n",
       "      <td>0</td>\n",
       "      <td>-1.844057</td>\n",
       "      <td>3</td>\n",
       "      <td>50</td>\n",
       "      <td>2</td>\n",
       "      <td>3</td>\n",
       "      <td>100000</td>\n",
       "      <td>1</td>\n",
       "      <td>3</td>\n",
       "      <td>0</td>\n",
       "    </tr>\n",
       "    <tr>\n",
       "      <th>26121</th>\n",
       "      <td>44849</td>\n",
       "      <td>23</td>\n",
       "      <td>0</td>\n",
       "      <td>1</td>\n",
       "      <td>-1.169784</td>\n",
       "      <td>0</td>\n",
       "      <td>40</td>\n",
       "      <td>1</td>\n",
       "      <td>2</td>\n",
       "      <td>14000</td>\n",
       "      <td>1</td>\n",
       "      <td>4</td>\n",
       "      <td>0</td>\n",
       "    </tr>\n",
       "  </tbody>\n",
       "</table>\n",
       "</div>"
      ],
      "text/plain": [
       "       client_id  age  decline_app_cnt  good_work  score_bki  bki_request_cnt  \\\n",
       "4169       34439   54                0          0  -2.171573                1   \n",
       "28512       2428   31                0          1  -1.373887                1   \n",
       "32591       9156   30                3          0  -1.729726                1   \n",
       "17009      21551   28                2          1  -1.371041                0   \n",
       "1419       32238   46                0          0  -2.162422                4   \n",
       "21059      99199   41                0          0  -1.985802                3   \n",
       "2146       15563   38                0          1  -2.149256                0   \n",
       "3117       28978   40                0          0  -1.910075                0   \n",
       "6677       64465   36                0          0  -1.844057                3   \n",
       "26121      44849   23                0          1  -1.169784                0   \n",
       "\n",
       "       region_rating  home_address  work_address  income  sna  first_time  \\\n",
       "4169              50             2             2   50000    1           4   \n",
       "28512             80             2             3   25000    1           4   \n",
       "32591             50             1             2   28000    1           2   \n",
       "17009             50             2             3   40000    1           4   \n",
       "1419              60             1             2   35000    1           4   \n",
       "21059             60             2             3   20000    4           2   \n",
       "2146              40             1             3   60000    1           3   \n",
       "3117              80             2             3   47000    2           2   \n",
       "6677              50             2             3  100000    1           3   \n",
       "26121             40             1             2   14000    1           4   \n",
       "\n",
       "       default  \n",
       "4169         0  \n",
       "28512        0  \n",
       "32591        0  \n",
       "17009        0  \n",
       "1419         0  \n",
       "21059        0  \n",
       "2146         0  \n",
       "3117         0  \n",
       "6677         0  \n",
       "26121        0  "
      ]
     },
     "execution_count": 62,
     "metadata": {},
     "output_type": "execute_result"
    }
   ],
   "source": [
    "test_data.sample(10)"
   ]
  },
  {
   "cell_type": "code",
   "execution_count": 63,
   "id": "dfe34d0d",
   "metadata": {},
   "outputs": [],
   "source": [
    "test_data = test_data.drop(['default'], axis=1)"
   ]
  },
  {
   "cell_type": "code",
   "execution_count": 64,
   "id": "12798965",
   "metadata": {},
   "outputs": [],
   "source": [
    "predict_submission = model.predict_proba(test_data)"
   ]
  },
  {
   "cell_type": "code",
   "execution_count": 66,
   "id": "b67653ae",
   "metadata": {},
   "outputs": [],
   "source": [
    "test_client_id = pd.DataFrame()"
   ]
  },
  {
   "cell_type": "code",
   "execution_count": 67,
   "id": "9de940bf",
   "metadata": {},
   "outputs": [],
   "source": [
    "test_client_id['client_id'] = test_data['client_id']"
   ]
  },
  {
   "cell_type": "code",
   "execution_count": 68,
   "id": "38e4d0d4",
   "metadata": {},
   "outputs": [
    {
     "data": {
      "text/plain": [
       "array([0.14341248, 0.16829189, 0.11564932, ..., 0.13449015, 0.118233  ,\n",
       "       0.14092088])"
      ]
     },
     "execution_count": 68,
     "metadata": {},
     "output_type": "execute_result"
    }
   ],
   "source": [
    "predict_submission[:,1]"
   ]
  },
  {
   "cell_type": "code",
   "execution_count": 69,
   "id": "2acc8ca3",
   "metadata": {},
   "outputs": [
    {
     "data": {
      "text/html": [
       "<div>\n",
       "<style scoped>\n",
       "    .dataframe tbody tr th:only-of-type {\n",
       "        vertical-align: middle;\n",
       "    }\n",
       "\n",
       "    .dataframe tbody tr th {\n",
       "        vertical-align: top;\n",
       "    }\n",
       "\n",
       "    .dataframe thead th {\n",
       "        text-align: right;\n",
       "    }\n",
       "</style>\n",
       "<table border=\"1\" class=\"dataframe\">\n",
       "  <thead>\n",
       "    <tr style=\"text-align: right;\">\n",
       "      <th></th>\n",
       "      <th>client_id</th>\n",
       "      <th>default</th>\n",
       "    </tr>\n",
       "  </thead>\n",
       "  <tbody>\n",
       "    <tr>\n",
       "      <th>0</th>\n",
       "      <td>74835</td>\n",
       "      <td>0.143412</td>\n",
       "    </tr>\n",
       "    <tr>\n",
       "      <th>1</th>\n",
       "      <td>17527</td>\n",
       "      <td>0.168292</td>\n",
       "    </tr>\n",
       "    <tr>\n",
       "      <th>2</th>\n",
       "      <td>75683</td>\n",
       "      <td>0.115649</td>\n",
       "    </tr>\n",
       "    <tr>\n",
       "      <th>3</th>\n",
       "      <td>26883</td>\n",
       "      <td>0.154027</td>\n",
       "    </tr>\n",
       "    <tr>\n",
       "      <th>4</th>\n",
       "      <td>28862</td>\n",
       "      <td>0.077724</td>\n",
       "    </tr>\n",
       "    <tr>\n",
       "      <th>5</th>\n",
       "      <td>99881</td>\n",
       "      <td>0.100012</td>\n",
       "    </tr>\n",
       "    <tr>\n",
       "      <th>6</th>\n",
       "      <td>26630</td>\n",
       "      <td>0.152253</td>\n",
       "    </tr>\n",
       "    <tr>\n",
       "      <th>7</th>\n",
       "      <td>79934</td>\n",
       "      <td>0.096744</td>\n",
       "    </tr>\n",
       "    <tr>\n",
       "      <th>8</th>\n",
       "      <td>16605</td>\n",
       "      <td>0.108159</td>\n",
       "    </tr>\n",
       "    <tr>\n",
       "      <th>9</th>\n",
       "      <td>105449</td>\n",
       "      <td>0.072841</td>\n",
       "    </tr>\n",
       "  </tbody>\n",
       "</table>\n",
       "</div>"
      ],
      "text/plain": [
       "   client_id   default\n",
       "0      74835  0.143412\n",
       "1      17527  0.168292\n",
       "2      75683  0.115649\n",
       "3      26883  0.154027\n",
       "4      28862  0.077724\n",
       "5      99881  0.100012\n",
       "6      26630  0.152253\n",
       "7      79934  0.096744\n",
       "8      16605  0.108159\n",
       "9     105449  0.072841"
      ]
     },
     "execution_count": 69,
     "metadata": {},
     "output_type": "execute_result"
    }
   ],
   "source": [
    "test_client_id['default'] = predict_submission[:,1]\n",
    "test_client_id.to_csv('submission.csv', index=False)\n",
    "test_client_id.head(10)"
   ]
  },
  {
   "cell_type": "code",
   "execution_count": 70,
   "id": "82133e22",
   "metadata": {},
   "outputs": [
    {
     "data": {
      "text/html": [
       "<div>\n",
       "<style scoped>\n",
       "    .dataframe tbody tr th:only-of-type {\n",
       "        vertical-align: middle;\n",
       "    }\n",
       "\n",
       "    .dataframe tbody tr th {\n",
       "        vertical-align: top;\n",
       "    }\n",
       "\n",
       "    .dataframe thead th {\n",
       "        text-align: right;\n",
       "    }\n",
       "</style>\n",
       "<table border=\"1\" class=\"dataframe\">\n",
       "  <thead>\n",
       "    <tr style=\"text-align: right;\">\n",
       "      <th></th>\n",
       "      <th>client_id</th>\n",
       "      <th>default</th>\n",
       "    </tr>\n",
       "  </thead>\n",
       "  <tbody>\n",
       "    <tr>\n",
       "      <th>count</th>\n",
       "      <td>36349.000000</td>\n",
       "      <td>36349.000000</td>\n",
       "    </tr>\n",
       "    <tr>\n",
       "      <th>mean</th>\n",
       "      <td>54945.647473</td>\n",
       "      <td>0.128056</td>\n",
       "    </tr>\n",
       "    <tr>\n",
       "      <th>std</th>\n",
       "      <td>31706.052195</td>\n",
       "      <td>0.036409</td>\n",
       "    </tr>\n",
       "    <tr>\n",
       "      <th>min</th>\n",
       "      <td>4.000000</td>\n",
       "      <td>0.007923</td>\n",
       "    </tr>\n",
       "    <tr>\n",
       "      <th>25%</th>\n",
       "      <td>27744.000000</td>\n",
       "      <td>0.101707</td>\n",
       "    </tr>\n",
       "    <tr>\n",
       "      <th>50%</th>\n",
       "      <td>54657.000000</td>\n",
       "      <td>0.126571</td>\n",
       "    </tr>\n",
       "    <tr>\n",
       "      <th>75%</th>\n",
       "      <td>82322.000000</td>\n",
       "      <td>0.152765</td>\n",
       "    </tr>\n",
       "    <tr>\n",
       "      <th>max</th>\n",
       "      <td>110148.000000</td>\n",
       "      <td>0.321245</td>\n",
       "    </tr>\n",
       "  </tbody>\n",
       "</table>\n",
       "</div>"
      ],
      "text/plain": [
       "           client_id       default\n",
       "count   36349.000000  36349.000000\n",
       "mean    54945.647473      0.128056\n",
       "std     31706.052195      0.036409\n",
       "min         4.000000      0.007923\n",
       "25%     27744.000000      0.101707\n",
       "50%     54657.000000      0.126571\n",
       "75%     82322.000000      0.152765\n",
       "max    110148.000000      0.321245"
      ]
     },
     "execution_count": 70,
     "metadata": {},
     "output_type": "execute_result"
    }
   ],
   "source": [
    "test_client_id.describe()"
   ]
  },
  {
   "cell_type": "markdown",
   "id": "8259e7ac",
   "metadata": {},
   "source": [
    "EDA"
   ]
  },
  {
   "cell_type": "code",
   "execution_count": null,
   "id": "e88a6659",
   "metadata": {},
   "outputs": [],
   "source": [
    "# Ищем самые значсимые признаки среди числовых\n",
    "def impotant_muncols(cols, data):\n",
    "  imp_num = pd.Series(f_classif(data.query('sample == 1')[cols], data.query('sample == 1')['default'])[0], index = cols)\n",
    "  imp_num.sort_values(inplace = True)\n",
    "  imp_num.plot(kind = 'barh', figsize=(15,10))\n",
    "  return ''\n",
    "\n",
    "# Функция анализа категориальных переменных\n",
    "def category_info(data, col):\n",
    "    plt.figure(figsize=(15, 4))\n",
    "    plt.subplot(121)\n",
    "    sns.distplot(data[col].values, bins=7, color='#a1c9e0')\n",
    "    plt.title(' распределение ' + col, fontsize=15)\n",
    "    plt.xlabel(col)\n",
    "    plt.ylabel('Quantity (frequency)')\n",
    "            \n",
    "    # boxplot: распределение признака по целевой переменной\n",
    "    plt.subplot(122)\n",
    "    sns.boxplot(x=data.query('sample == 1')['default'], y=data.query('sample == 1')[col])\n",
    "    plt.title(col + ': distribution by default', fontsize=15)\n",
    "    plt.xlabel('default')\n",
    "    plt.ylabel(col)\n",
    "    plt.show()\n",
    "\n",
    "# Вспомогательная функция определения значимых признаков\n",
    "\n",
    "def impotant_feature(data, col, key):\n",
    "    cols = data.loc[:, col].value_counts().index\n",
    "    combinations_all = list(combinations(cols, 2))\n",
    "    for comb in combinations_all:\n",
    "        if ttest_ind(data.loc[data.loc[:, col] == comb[0], key],\n",
    "                     data.loc[data.loc[:, column] == comb[1], key]).pvalue \\\n",
    "                <= 0.05/len(combinations_all):\n",
    "            print('обнаружена статистическая значимость измерения: ', col)\n",
    "            break"
   ]
  },
  {
   "cell_type": "code",
   "execution_count": 106,
   "id": "b62a76d2",
   "metadata": {},
   "outputs": [],
   "source": []
  },
  {
   "cell_type": "code",
   "execution_count": 108,
   "id": "26446d01",
   "metadata": {
    "scrolled": true
   },
   "outputs": [
    {
     "data": {
      "text/html": [
       "<div>\n",
       "<style scoped>\n",
       "    .dataframe tbody tr th:only-of-type {\n",
       "        vertical-align: middle;\n",
       "    }\n",
       "\n",
       "    .dataframe tbody tr th {\n",
       "        vertical-align: top;\n",
       "    }\n",
       "\n",
       "    .dataframe thead th {\n",
       "        text-align: right;\n",
       "    }\n",
       "</style>\n",
       "<table border=\"1\" class=\"dataframe\">\n",
       "  <thead>\n",
       "    <tr style=\"text-align: right;\">\n",
       "      <th></th>\n",
       "      <th>sex</th>\n",
       "      <th>car</th>\n",
       "      <th>car_type</th>\n",
       "      <th>good_work</th>\n",
       "      <th>foreign_passport</th>\n",
       "    </tr>\n",
       "  </thead>\n",
       "  <tbody>\n",
       "    <tr>\n",
       "      <th>0</th>\n",
       "      <td>M</td>\n",
       "      <td>Y</td>\n",
       "      <td>Y</td>\n",
       "      <td>0</td>\n",
       "      <td>N</td>\n",
       "    </tr>\n",
       "    <tr>\n",
       "      <th>1</th>\n",
       "      <td>F</td>\n",
       "      <td>N</td>\n",
       "      <td>N</td>\n",
       "      <td>0</td>\n",
       "      <td>N</td>\n",
       "    </tr>\n",
       "    <tr>\n",
       "      <th>2</th>\n",
       "      <td>M</td>\n",
       "      <td>Y</td>\n",
       "      <td>Y</td>\n",
       "      <td>0</td>\n",
       "      <td>Y</td>\n",
       "    </tr>\n",
       "    <tr>\n",
       "      <th>3</th>\n",
       "      <td>M</td>\n",
       "      <td>N</td>\n",
       "      <td>N</td>\n",
       "      <td>0</td>\n",
       "      <td>N</td>\n",
       "    </tr>\n",
       "    <tr>\n",
       "      <th>4</th>\n",
       "      <td>F</td>\n",
       "      <td>N</td>\n",
       "      <td>N</td>\n",
       "      <td>0</td>\n",
       "      <td>N</td>\n",
       "    </tr>\n",
       "    <tr>\n",
       "      <th>...</th>\n",
       "      <td>...</td>\n",
       "      <td>...</td>\n",
       "      <td>...</td>\n",
       "      <td>...</td>\n",
       "      <td>...</td>\n",
       "    </tr>\n",
       "    <tr>\n",
       "      <th>110143</th>\n",
       "      <td>F</td>\n",
       "      <td>N</td>\n",
       "      <td>N</td>\n",
       "      <td>0</td>\n",
       "      <td>N</td>\n",
       "    </tr>\n",
       "    <tr>\n",
       "      <th>110144</th>\n",
       "      <td>M</td>\n",
       "      <td>Y</td>\n",
       "      <td>Y</td>\n",
       "      <td>0</td>\n",
       "      <td>N</td>\n",
       "    </tr>\n",
       "    <tr>\n",
       "      <th>110145</th>\n",
       "      <td>M</td>\n",
       "      <td>N</td>\n",
       "      <td>N</td>\n",
       "      <td>0</td>\n",
       "      <td>N</td>\n",
       "    </tr>\n",
       "    <tr>\n",
       "      <th>110146</th>\n",
       "      <td>F</td>\n",
       "      <td>N</td>\n",
       "      <td>N</td>\n",
       "      <td>1</td>\n",
       "      <td>N</td>\n",
       "    </tr>\n",
       "    <tr>\n",
       "      <th>110147</th>\n",
       "      <td>M</td>\n",
       "      <td>N</td>\n",
       "      <td>N</td>\n",
       "      <td>0</td>\n",
       "      <td>N</td>\n",
       "    </tr>\n",
       "  </tbody>\n",
       "</table>\n",
       "<p>110148 rows × 5 columns</p>\n",
       "</div>"
      ],
      "text/plain": [
       "       sex car car_type  good_work foreign_passport\n",
       "0        M   Y        Y          0                N\n",
       "1        F   N        N          0                N\n",
       "2        M   Y        Y          0                Y\n",
       "3        M   N        N          0                N\n",
       "4        F   N        N          0                N\n",
       "...     ..  ..      ...        ...              ...\n",
       "110143   F   N        N          0                N\n",
       "110144   M   Y        Y          0                N\n",
       "110145   M   N        N          0                N\n",
       "110146   F   N        N          1                N\n",
       "110147   M   N        N          0                N\n",
       "\n",
       "[110148 rows x 5 columns]"
      ]
     },
     "execution_count": 108,
     "metadata": {},
     "output_type": "execute_result"
    }
   ],
   "source": [
    "data[bool_cols]"
   ]
  },
  {
   "cell_type": "markdown",
   "id": "3412a681",
   "metadata": {},
   "source": [
    "Преобразуем дату"
   ]
  },
  {
   "cell_type": "code",
   "execution_count": 26,
   "id": "d745261e",
   "metadata": {},
   "outputs": [
    {
     "data": {
      "text/plain": [
       "0        2014-03-22\n",
       "1        2014-01-24\n",
       "2        2014-03-23\n",
       "3        2014-02-03\n",
       "4        2014-02-04\n",
       "            ...    \n",
       "110143   2014-03-04\n",
       "110144   2014-03-24\n",
       "110145   2014-04-22\n",
       "110146   2014-01-04\n",
       "110147   2014-01-23\n",
       "Name: app_date, Length: 110148, dtype: datetime64[ns]"
      ]
     },
     "execution_count": 26,
     "metadata": {},
     "output_type": "execute_result"
    }
   ],
   "source": [
    "pd.to_datetime(data.app_date)"
   ]
  },
  {
   "cell_type": "code",
   "execution_count": null,
   "id": "0c85ec6f",
   "metadata": {},
   "outputs": [],
   "source": [
    "df.app_date.dt.weekday"
   ]
  },
  {
   "cell_type": "code",
   "execution_count": null,
   "id": "3c8644ec",
   "metadata": {},
   "outputs": [],
   "source": [
    "bool_cols = [\n",
    "    'sex', 'car', 'car_type', \n",
    "    'good_work', 'foreign_passport'\n",
    "]\n",
    "\n",
    "cat_cols = [\n",
    "    'education', 'region_rating',\n",
    "    'home_address', 'work_address',\n",
    "    'sna','first_time'\n",
    "]\n",
    "\n",
    "num_cols = [\n",
    "    'age', 'decline_app_cnt', 'income', \n",
    "    'bki_request_cnt', 'score_bki'\n",
    "]\n",
    "date_cols = ['app_date']"
   ]
  },
  {
   "cell_type": "code",
   "execution_count": null,
   "id": "26f254a1",
   "metadata": {},
   "outputs": [],
   "source": []
  },
  {
   "cell_type": "markdown",
   "id": "d42bd399",
   "metadata": {},
   "source": [
    "распределение по бинарным и категориальным переменным"
   ]
  },
  {
   "cell_type": "code",
   "execution_count": null,
   "id": "d20f57b4",
   "metadata": {},
   "outputs": [],
   "source": [
    "plt.figure(figsize=[20, 20])\n",
    "i = 1\n",
    "\n",
    "for k in bool_cols:\n",
    "    plt.subplot(4, 3, i)\n",
    "    sns.barplot(x=k,\n",
    "                y='proportion',\n",
    "                hue='default',\n",
    "                data=df_train[[k, 'default']].value_counts(\n",
    "                    normalize=True).rename('proportion').reset_index(),\n",
    "                palette=[colors[3], colors[4]])\n",
    "    plt.title('Binary Feature Name\\n' + k, fontsize=15)\n",
    "    i += 1\n",
    "plt.tight_layout()\n",
    "plt.show()"
   ]
  },
  {
   "cell_type": "code",
   "execution_count": null,
   "id": "385c5077",
   "metadata": {},
   "outputs": [],
   "source": [
    "def get_boxplot(data, col1, col2, hue=None):\n",
    "    '''Function is called to plot boxplots'''\n",
    "    fig, ax = plt.subplots(figsize=(7, 5))\n",
    "    sns.boxplot(x=col1, y=col2, hue=hue, data=data, palette=colors)\n",
    "    plt.xticks(rotation=45)\n",
    "    ax.set_title(f'Boxplot for {col1} and {col2}', fontsize=14)\n",
    "    plt.show()"
   ]
  },
  {
   "cell_type": "markdown",
   "id": "d8bd2c38",
   "metadata": {},
   "source": [
    "функция для метрики"
   ]
  },
  {
   "cell_type": "code",
   "execution_count": null,
   "id": "3f9ccd86",
   "metadata": {},
   "outputs": [],
   "source": [
    "def make_roc_auc(model, X, y):\n",
    "    '''Plot ROC-AUC and PR curves'''\n",
    "    fig, (ax1, ax2) = plt.subplots(1, 2, figsize=(13, 5))\n",
    "    plot_precision_recall_curve(model, X, y, ax=ax1)\n",
    "    plot_roc_curve(model, X, y, ax=ax2)\n",
    "    plt.show()"
   ]
  },
  {
   "cell_type": "markdown",
   "id": "5aa2130b",
   "metadata": {},
   "source": [
    "Feature Engineering — способ создания признаков, техника решения задач МО, которая увеличивает качество разрабатываемых алгоритмов. Превращает специфичные данные в понятные для модели векторы.\n",
    "\n",
    "Способы:\n",
    "\n",
    "Ручное создание признаков\n",
    "Новые признаки можно создавать на основе имеющихся, если понятно, что означает тот или иной признак. Техника может значительно улучшить модель, но требуется погружение в предметную область. Например, зная массу и рост человека, можно посчитать индекс массы тела; зная координаты места нарушения ПДД и центра города, можно посчитать расстояние между ними.\n",
    "Полиномиальные признаки\n",
    "Например, попарное перемножение имеющихся столбцов, чтобы получить нелинейные комбинации признаков. Другой пример — возведение признаков в квадрат или корень из признака, чтобы получить искусственные признаки.\n",
    "Dummy-переменные\n",
    "Между категориальными признаками не всегда есть порядок, поэтому их следует заменять на dummy-переменные, в виде цифр, чтобы алгоритм подумал, что в данных есть порядок. Например, лев, тигр, медведь лучше записать как 0, 1, 2. Расстояние между «лев» и «тигр» равно 1, а между «лев» и «медведь» — 2, хотя это не так. Решение — создать новые признаки по количеству категорий. Для признака «лев» значение будет 1, если это лев, иначе 0. Теперь расстояния между всеми признаками равны 1.\n",
    "Работа с датой/временем\n",
    "Обычно дата — это строка, похожая на «2005-06-02». В таком виде признак имеет мало смысла, но его можно разделить на набор других признаков. Модель не принимает текст, поэтому заменяем его на набор других числовых признаков. Например, день, месяц, год или день недели, праздник/выходной.\n",
    "Статистики по наборам признаков\n",
    "Если в данных есть признаки, описывающие значение в разные моменты времени, то они могут быть полезными. Например, зарплата_2016, зарплата_2017, зарплата_2018. Отсюда можно вытащить среднюю зарплату за 3 года, медианную зарплату, динамику зарплаты, максимальную и минимальную зарплату."
   ]
  }
 ],
 "metadata": {
  "kernelspec": {
   "display_name": "Python 3",
   "language": "python",
   "name": "python3"
  },
  "language_info": {
   "codemirror_mode": {
    "name": "ipython",
    "version": 3
   },
   "file_extension": ".py",
   "mimetype": "text/x-python",
   "name": "python",
   "nbconvert_exporter": "python",
   "pygments_lexer": "ipython3",
   "version": "3.8.8"
  }
 },
 "nbformat": 4,
 "nbformat_minor": 5
}

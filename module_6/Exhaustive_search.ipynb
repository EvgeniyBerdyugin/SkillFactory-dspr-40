{
 "cells": [
  {
   "cell_type": "code",
   "execution_count": 4,
   "id": "ad6fb5fb",
   "metadata": {},
   "outputs": [],
   "source": [
    "import pandas as pd\n",
    "import numpy as np\n",
    "\n",
    "from sklearn.model_selection import train_test_split\n",
    "\n",
    "from sklearn.ensemble import RandomForestRegressor, RandomForestClassifier\n",
    "from sklearn.metrics import roc_auc_score, r2_score\n",
    "\n",
    "from mlxtend.feature_selection import ExhaustiveFeatureSelector as EFS"
   ]
  },
  {
   "cell_type": "code",
   "execution_count": 8,
   "id": "cf67d0f8",
   "metadata": {},
   "outputs": [],
   "source": [
    "from catboost import CatBoostRegressor, Pool, metrics, cv"
   ]
  },
  {
   "cell_type": "code",
   "execution_count": 5,
   "id": "842179a7",
   "metadata": {},
   "outputs": [],
   "source": [
    "RANDOM_SEED = 42\n",
    "VERSION    = 16"
   ]
  },
  {
   "cell_type": "code",
   "execution_count": 6,
   "id": "328aa8c7",
   "metadata": {},
   "outputs": [],
   "source": [
    "def mape(y_true, y_pred):\n",
    "    return np.mean(np.abs((y_pred-y_true)/y_true))"
   ]
  },
  {
   "cell_type": "code",
   "execution_count": 2,
   "id": "59c4e413",
   "metadata": {},
   "outputs": [],
   "source": [
    "data = pd.read_csv('data_X2.csv')"
   ]
  },
  {
   "cell_type": "code",
   "execution_count": 16,
   "id": "0300e4b9",
   "metadata": {},
   "outputs": [],
   "source": [
    "X = data.query('sample == 1').drop(['sample'], axis=1)\n",
    "X_sub = data.query('sample == 0').drop(['sample', 'price'], axis=1)\n",
    "\n",
    "y = X.price\n",
    "\n",
    "X = X.drop('price', axis=1)\n",
    "\n",
    "X_train, X_test, y_train, y_test = train_test_split(X, y, test_size=0.2, shuffle=True, random_state=RANDOM_SEED)"
   ]
  },
  {
   "cell_type": "code",
   "execution_count": 9,
   "id": "abbada7a",
   "metadata": {},
   "outputs": [],
   "source": [
    "def catboost_predict(X_train, X_test, X_sub, y_train):\n",
    "    model = CatBoostRegressor(iterations = 400,\n",
    "                              random_seed = RANDOM_SEED,\n",
    "                              eval_metric='MAPE',\n",
    "                              custom_metric=['R2', 'MAE'],\n",
    "                              silent=True,\n",
    "                             )\n",
    "    model.fit(X_train, np.log(y_train),\n",
    "             #cat_features=cat_features_ids,\n",
    "             eval_set=(X_test, np.log(y_test)),\n",
    "             verbose_eval=0,\n",
    "             use_best_model=True,\n",
    "             #plot=True\n",
    "             )\n",
    "\n",
    "    #model.save_model('catboost_single_model_2_baseline.model')\n",
    "\n",
    "    predict_test = np.exp(model.predict(X_test))\n",
    "    predict_submission = np.exp(model.predict(X_sub))\n",
    "\n",
    "    print(f\"Точность модели по метрике MAPE: {(mape(y_test, predict_test))*100:0.2f}%\")\n",
    "    return predict_submission"
   ]
  },
  {
   "cell_type": "code",
   "execution_count": null,
   "id": "4bfd5cf4",
   "metadata": {},
   "outputs": [
    {
     "name": "stderr",
     "output_type": "stream",
     "text": [
      "E:\\Program_files\\Anaconda3\\envs\\PythonGPU3\\lib\\site-packages\\joblib\\externals\\loky\\process_executor.py:691: UserWarning: A worker stopped while some jobs were given to the executor. This can be caused by a too short worker timeout or by a memory leak.\n",
      "  \"timeout or by a memory leak.\", UserWarning\n"
     ]
    }
   ],
   "source": [
    "%%time\n",
    "# exhaustive search\n",
    "\n",
    "# in order to shorter search time for the demonstration\n",
    "# i will ask the algorithm to try all possible 10 and 11\n",
    "# feature combinations\n",
    "\n",
    "# if you have access to a multicore or distributed computer\n",
    "# system you can try more greedy searches\n",
    "\n",
    "efs = EFS(RandomForestRegressor(n_estimators=5,\n",
    "                                n_jobs=-1,\n",
    "                                random_state=0,\n",
    "                                max_depth=2),\n",
    "          min_features=1,\n",
    "          max_features=5,\n",
    "          scoring='neg_mean_absolute_percentage_error',\n",
    "          print_progress=True,\n",
    "          cv=2)\n",
    "\n",
    "efs = efs.fit(np.array(X_train), y_train)"
   ]
  },
  {
   "cell_type": "code",
   "execution_count": 12,
   "id": "e7c04082",
   "metadata": {},
   "outputs": [],
   "source": [
    "sel_cols = X_train.columns[list(efs.best_idx_)]"
   ]
  },
  {
   "cell_type": "code",
   "execution_count": 13,
   "id": "3f85c152",
   "metadata": {},
   "outputs": [
    {
     "data": {
      "text/plain": [
       "Index(['Полная масса, кг', 'mean_age'], dtype='object')"
      ]
     },
     "execution_count": 13,
     "metadata": {},
     "output_type": "execute_result"
    }
   ],
   "source": [
    "sel_cols"
   ]
  },
  {
   "cell_type": "code",
   "execution_count": 14,
   "id": "0688f1ab",
   "metadata": {},
   "outputs": [],
   "source": [
    "X_train = X_train[sel_cols]\n",
    "X_test = X_test[sel_cols]\n",
    "X_sub = X_sub[sel_cols]"
   ]
  },
  {
   "cell_type": "code",
   "execution_count": 15,
   "id": "ef6a9634",
   "metadata": {},
   "outputs": [
    {
     "name": "stdout",
     "output_type": "stream",
     "text": [
      "Точность модели по метрике MAPE: 22.95%\n",
      "Wall time: 3.75 s\n"
     ]
    }
   ],
   "source": [
    "%%time\n",
    "predict_submission = catboost_predict(X_train, X_test, X_sub, y_train)"
   ]
  },
  {
   "cell_type": "code",
   "execution_count": null,
   "id": "54e4e597",
   "metadata": {},
   "outputs": [],
   "source": []
  }
 ],
 "metadata": {
  "kernelspec": {
   "display_name": "Python 3",
   "language": "python",
   "name": "python3"
  },
  "language_info": {
   "codemirror_mode": {
    "name": "ipython",
    "version": 3
   },
   "file_extension": ".py",
   "mimetype": "text/x-python",
   "name": "python",
   "nbconvert_exporter": "python",
   "pygments_lexer": "ipython3",
   "version": "3.6.13"
  },
  "toc": {
   "base_numbering": 1,
   "nav_menu": {},
   "number_sections": true,
   "sideBar": true,
   "skip_h1_title": false,
   "title_cell": "Table of Contents",
   "title_sidebar": "Contents",
   "toc_cell": false,
   "toc_position": {},
   "toc_section_display": true,
   "toc_window_display": false
  }
 },
 "nbformat": 4,
 "nbformat_minor": 5
}

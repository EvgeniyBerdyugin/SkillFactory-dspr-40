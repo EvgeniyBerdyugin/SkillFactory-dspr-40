{
 "cells": [
  {
   "cell_type": "code",
   "execution_count": 1,
   "id": "e2f709a6",
   "metadata": {},
   "outputs": [],
   "source": [
    "from bs4 import BeautifulSoup  \n",
    "import pandas as pd\n",
    "import numpy as np\n",
    "import requests\n",
    "from pprint import pprint\n",
    "from ast import literal_eval\n",
    "import re\n",
    "import time\n",
    "from datetime import datetime\n",
    "from sklearn.feature_extraction.text import CountVectorizer\n",
    "#import pandas_profiling\n",
    "\n",
    "import matplotlib.pyplot as plt\n",
    "import seaborn as sns\n",
    "\n",
    "from sklearn.preprocessing import LabelEncoder, OneHotEncoder\n",
    "from sklearn.preprocessing import StandardScaler, RobustScaler, MinMaxScaler\n",
    "from sklearn.preprocessing import PolynomialFeatures\n",
    "\n",
    "from sklearn.model_selection import train_test_split, KFold\n",
    "from sklearn.linear_model import LinearRegression\n",
    "from catboost import CatBoostRegressor, Pool, metrics, cv\n",
    "\n",
    "from sklearn.feature_selection import f_classif, mutual_info_classif\n",
    "from sklearn.feature_selection import SelectPercentile\n",
    "\n",
    "from sklearn.metrics import mean_squared_error\n",
    "from sklearn.tree import DecisionTreeRegressor\n",
    "from sklearn.tree import DecisionTreeClassifier\n",
    "from sklearn.metrics import accuracy_score\n",
    "\n",
    "from sklearn.ensemble import RandomForestRegressor, BaggingRegressor \n",
    "from sklearn.ensemble import ExtraTreesRegressor, AdaBoostRegressor \n",
    "from sklearn.ensemble import GradientBoostingRegressor, StackingRegressor\n",
    "\n",
    "import warnings\n",
    "warnings.simplefilter('ignore')"
   ]
  },
  {
   "cell_type": "markdown",
   "id": "b65179b3",
   "metadata": {},
   "source": [
    "Тут пробовал делать обучение и предикты по частям, разделив объявления по возрасту автомобилей"
   ]
  },
  {
   "cell_type": "code",
   "execution_count": 2,
   "id": "68eb599b",
   "metadata": {},
   "outputs": [],
   "source": [
    "RANDOM_SEED = 42\n",
    "VERSION    = 16"
   ]
  },
  {
   "cell_type": "code",
   "execution_count": 3,
   "id": "b1177cbb",
   "metadata": {},
   "outputs": [],
   "source": [
    "def mape(y_true, y_pred):\n",
    "    return np.mean(np.abs((y_pred-y_true)/y_true))"
   ]
  },
  {
   "cell_type": "code",
   "execution_count": 4,
   "id": "87277db5",
   "metadata": {},
   "outputs": [],
   "source": [
    "def histplot(column):\n",
    "    fig = plt.figure()\n",
    "    axes = fig.add_axes([0, 0, 1, 1])\n",
    "    plt.title(column)\n",
    "    axes.hist(data[column], bins = 5)"
   ]
  },
  {
   "cell_type": "code",
   "execution_count": 5,
   "id": "4119137a",
   "metadata": {},
   "outputs": [],
   "source": [
    "#Функция определения выбросов\n",
    "def detect_outliers(column):\n",
    "    '''Function is called to detect outliers'''\n",
    "    Q1 = column.quantile(0.25)\n",
    "    Q3 = column.quantile(0.75)\n",
    "    IQR = Q3 - Q1\n",
    "    min_out = Q1 - 1.5 * IQR\n",
    "    max_out = Q3 + 1.5 * IQR\n",
    "    return (column < min_out).sum(), (column > max_out).sum()"
   ]
  },
  {
   "cell_type": "code",
   "execution_count": 6,
   "id": "becd0181",
   "metadata": {},
   "outputs": [],
   "source": [
    "data = pd.read_csv('data_X2.csv')"
   ]
  },
  {
   "cell_type": "code",
   "execution_count": 7,
   "id": "8b5a0ce0",
   "metadata": {},
   "outputs": [],
   "source": [
    "X = data.query('sample == 1').drop(['sample'], axis=1)\n",
    "X_sub = data.query('sample == 0').drop(['sample', 'price'], axis=1)\n",
    "\n",
    "y = X.price\n",
    "\n",
    "X = X.drop('price', axis=1)\n",
    "\n",
    "X_train, X_test, y_train, y_test = train_test_split(X, y, test_size=0.2, shuffle=True, random_state=RANDOM_SEED)"
   ]
  },
  {
   "cell_type": "code",
   "execution_count": 8,
   "id": "7f16f680",
   "metadata": {},
   "outputs": [
    {
     "name": "stdout",
     "output_type": "stream",
     "text": [
      "Wall time: 3.06 s\n"
     ]
    }
   ],
   "source": [
    "%%time\n",
    "predictor = DecisionTreeRegressor(random_state=RANDOM_SEED)\n",
    "predictor.fit(X_train, y_train)\n",
    "y_pred = predictor.predict(X_test)"
   ]
  },
  {
   "cell_type": "code",
   "execution_count": 9,
   "id": "beac53f8",
   "metadata": {
    "scrolled": false
   },
   "outputs": [
    {
     "name": "stdout",
     "output_type": "stream",
     "text": [
      "Точность модели по метрике MAPE: 22.53%\n"
     ]
    }
   ],
   "source": [
    "print(f\"Точность модели по метрике MAPE: {(mape(y_test, y_pred))*100:0.2f}%\")"
   ]
  },
  {
   "cell_type": "code",
   "execution_count": 59,
   "id": "4c017599",
   "metadata": {},
   "outputs": [],
   "source": [
    "predict_submission = predictor.predict(X_sub)"
   ]
  },
  {
   "cell_type": "code",
   "execution_count": null,
   "id": "465e2b87",
   "metadata": {},
   "outputs": [],
   "source": []
  },
  {
   "cell_type": "code",
   "execution_count": null,
   "id": "7722d168",
   "metadata": {},
   "outputs": [],
   "source": []
  },
  {
   "cell_type": "code",
   "execution_count": 10,
   "id": "1793a020",
   "metadata": {},
   "outputs": [],
   "source": [
    "predict_submission = pd.DataFrame(predictor.predict(X_sub), index=X_sub.index, columns=['price']).sort_index()"
   ]
  },
  {
   "cell_type": "code",
   "execution_count": null,
   "id": "e5efd0d9",
   "metadata": {},
   "outputs": [],
   "source": []
  },
  {
   "cell_type": "code",
   "execution_count": 34,
   "id": "9dec3ced",
   "metadata": {
    "scrolled": true
   },
   "outputs": [
    {
     "name": "stdout",
     "output_type": "stream",
     "text": [
      "Wall time: 248 ms\n"
     ]
    }
   ],
   "source": [
    "%%time\n",
    "predictor = DecisionTreeRegressor(random_state=RANDOM_SEED)\n",
    "predictor.fit(X_train, y_train)\n",
    "y_pred = predictor.predict(X_test)"
   ]
  },
  {
   "cell_type": "code",
   "execution_count": 39,
   "id": "8bbf1678",
   "metadata": {},
   "outputs": [
    {
     "data": {
      "text/plain": [
       "Int64Index([104557,  87427,  57277,  41100,  76454,  82523,  89216,  82014,\n",
       "             55737,  85000,\n",
       "            ...\n",
       "             75029,  56224,  89685,  74032,  67579,  95066, 102829,  81981,\n",
       "            113094,  35833],\n",
       "           dtype='int64', length=2180)"
      ]
     },
     "execution_count": 39,
     "metadata": {},
     "output_type": "execute_result"
    }
   ],
   "source": [
    "X_test.index"
   ]
  },
  {
   "cell_type": "code",
   "execution_count": 37,
   "id": "65d0c855",
   "metadata": {},
   "outputs": [
    {
     "data": {
      "text/plain": [
       "array([3013000., 2599000., 1230000., ..., 1948000., 1860000., 6099000.])"
      ]
     },
     "execution_count": 37,
     "metadata": {},
     "output_type": "execute_result"
    }
   ],
   "source": [
    "y_pred"
   ]
  },
  {
   "cell_type": "code",
   "execution_count": 35,
   "id": "34942e43",
   "metadata": {},
   "outputs": [
    {
     "name": "stdout",
     "output_type": "stream",
     "text": [
      "Точность модели по метрике MAPE: 11.74%\n"
     ]
    }
   ],
   "source": [
    "print(f\"Точность модели по метрике MAPE: {(mape(y_test, y_pred))*100:0.2f}%\")"
   ]
  },
  {
   "cell_type": "code",
   "execution_count": 37,
   "id": "7b99de98",
   "metadata": {},
   "outputs": [],
   "source": [
    "def split_data(data):\n",
    "    X = data.query('sample == 1').drop(['sample'], axis=1)\n",
    "    X_sub = data.query('sample == 0').drop(['sample', 'price'], axis=1)\n",
    "    y = X.price\n",
    "    X = X.drop('price', axis=1)\n",
    "    X_train, X_test, y_train, y_test = train_test_split(X, y, test_size=0.2, shuffle=True, random_state=RANDOM_SEED)\n",
    "    return X, X_sub, y, X_train, X_test, y_train, y_test"
   ]
  },
  {
   "cell_type": "code",
   "execution_count": 38,
   "id": "71071c57",
   "metadata": {},
   "outputs": [],
   "source": [
    "def split_predict(data, predictor):\n",
    "    predict_submission = pd.DataFrame()\n",
    "    for i in data.auto_type.unique():\n",
    "        df = data[data.auto_type == i]\n",
    "        X, X_sub, y, X_train, X_test, y_train, y_test = split_data(df)\n",
    "        predictor.fit(X_train, y_train)\n",
    "        y_pred = predictor.predict(X_test)\n",
    "        print(i)\n",
    "        print(f\"Точность модели по метрике MAPE: {(mape(y_test, y_pred))*100:0.2f}%\")\n",
    "        submission = pd.DataFrame(predictor.predict(X_sub), index=X_sub.index, columns=['price'])\n",
    "        predict_submission = pd.concat([predict_submission, submission])\n",
    "    return predict_submission.sort_index()"
   ]
  },
  {
   "cell_type": "code",
   "execution_count": 39,
   "id": "4984dda2",
   "metadata": {
    "scrolled": false
   },
   "outputs": [
    {
     "name": "stdout",
     "output_type": "stream",
     "text": [
      "1\n",
      "Точность модели по метрике MAPE: 13.42%\n",
      "0\n",
      "Точность модели по метрике MAPE: 11.74%\n",
      "2\n",
      "Точность модели по метрике MAPE: 18.53%\n",
      "3\n",
      "Точность модели по метрике MAPE: 47.38%\n",
      "4\n",
      "Точность модели по метрике MAPE: 72.77%\n",
      "5\n",
      "Точность модели по метрике MAPE: 75.70%\n"
     ]
    }
   ],
   "source": [
    "predict_submission = split_predict(data, predictor)"
   ]
  },
  {
   "cell_type": "code",
   "execution_count": 10,
   "id": "235be0b2",
   "metadata": {},
   "outputs": [],
   "source": [
    "from sklearn.pipeline import Pipeline\n",
    "\n",
    "from feature_engine.selection import (\n",
    "    DropConstantFeatures,\n",
    "    DropDuplicateFeatures,\n",
    "    SmartCorrelatedSelection,\n",
    ")"
   ]
  },
  {
   "cell_type": "code",
   "execution_count": 16,
   "id": "1424135f",
   "metadata": {},
   "outputs": [
    {
     "name": "stdout",
     "output_type": "stream",
     "text": [
      "Wall time: 583 ms\n"
     ]
    },
    {
     "data": {
      "text/plain": [
       "((66980, 82), (16745, 82))"
      ]
     },
     "execution_count": 16,
     "metadata": {},
     "output_type": "execute_result"
    }
   ],
   "source": [
    "%%time\n",
    "# we stack all the selection methods inside a pipeline\n",
    "\n",
    "pipe = Pipeline([\n",
    "    ('constant', DropConstantFeatures(tol=0.998)),\n",
    "    ('duplicated', DropDuplicateFeatures()),\n",
    "#    ('correlation', SmartCorrelatedSelection(selection_method='variance')),\n",
    "])\n",
    "\n",
    "pipe.fit(X_train)\n",
    "\n",
    "X_train.shape, X_test.shape"
   ]
  },
  {
   "cell_type": "code",
   "execution_count": 17,
   "id": "5e2a0448",
   "metadata": {
    "scrolled": true
   },
   "outputs": [
    {
     "name": "stdout",
     "output_type": "stream",
     "text": [
      "Wall time: 232 ms\n"
     ]
    },
    {
     "data": {
      "text/plain": [
       "((66980, 80), (16745, 80))"
      ]
     },
     "execution_count": 17,
     "metadata": {},
     "output_type": "execute_result"
    }
   ],
   "source": [
    "%%time\n",
    "# remove features\n",
    "\n",
    "X_train1 = pipe.transform(X_train)\n",
    "X_test1 = pipe.transform(X_test)\n",
    "X_sub1 = pipe.transform(X_sub)\n",
    "\n",
    "X_train1.shape, X_test1.shape"
   ]
  },
  {
   "cell_type": "code",
   "execution_count": 18,
   "id": "c7fc9be5",
   "metadata": {},
   "outputs": [
    {
     "name": "stdout",
     "output_type": "stream",
     "text": [
      "Точность модели по метрике MAPE: 22.52%\n",
      "Wall time: 2.99 s\n"
     ]
    }
   ],
   "source": [
    "%%time\n",
    "predictor = DecisionTreeRegressor(random_state=RANDOM_SEED)\n",
    "predictor.fit(X_train1, y_train)\n",
    "y_pred = predictor.predict(X_test1)\n",
    "print(f\"Точность модели по метрике MAPE: {(mape(y_test, y_pred))*100:0.2f}%\")"
   ]
  },
  {
   "cell_type": "code",
   "execution_count": 67,
   "id": "12ac0218",
   "metadata": {},
   "outputs": [],
   "source": [
    "# def split_data(data):\n",
    "#     X = data.query('sample == 1').drop(['sample'], axis=1)\n",
    "#     X_sub = data.query('sample == 0').drop(['sample', 'price'], axis=1)\n",
    "#     y = X.price\n",
    "#     X = X.drop('price', axis=1)\n",
    "#     X_train, X_test, y_train, y_test = train_test_split(X, y, test_size=0.2, shuffle=True, random_state=RANDOM_SEED)\n",
    "#     X_train = pipe.transform(X_train)\n",
    "#     X_test = pipe.transform(X_test)\n",
    "#     X_sub = pipe.transform(X_sub)\n",
    "#     return X, X_sub, y, X_train, X_test, y_train, y_test"
   ]
  },
  {
   "cell_type": "code",
   "execution_count": 69,
   "id": "1767d131",
   "metadata": {},
   "outputs": [
    {
     "name": "stdout",
     "output_type": "stream",
     "text": [
      "1\n",
      "Точность модели по метрике MAPE: 13.47%\n",
      "0\n",
      "Точность модели по метрике MAPE: 11.73%\n",
      "2\n",
      "Точность модели по метрике MAPE: 18.46%\n",
      "3\n",
      "Точность модели по метрике MAPE: 47.54%\n",
      "4\n",
      "Точность модели по метрике MAPE: 72.16%\n",
      "5\n",
      "Точность модели по метрике MAPE: 68.33%\n"
     ]
    }
   ],
   "source": [
    "predict_submission = split_predict(data, predictor)"
   ]
  },
  {
   "cell_type": "code",
   "execution_count": 52,
   "id": "8221e0f8",
   "metadata": {},
   "outputs": [],
   "source": [
    "X_sub1 = pipe.transform(X_sub)"
   ]
  },
  {
   "cell_type": "code",
   "execution_count": 78,
   "id": "c1271e3f",
   "metadata": {},
   "outputs": [],
   "source": [
    "predict_submission = predictor.predict(X_sub1)"
   ]
  },
  {
   "cell_type": "markdown",
   "id": "a6003604",
   "metadata": {},
   "source": [
    "результат не стабильный с разделеным предиктом"
   ]
  },
  {
   "cell_type": "code",
   "execution_count": null,
   "id": "0558875e",
   "metadata": {},
   "outputs": [],
   "source": []
  },
  {
   "cell_type": "code",
   "execution_count": null,
   "id": "404194db",
   "metadata": {},
   "outputs": [],
   "source": []
  },
  {
   "cell_type": "code",
   "execution_count": null,
   "id": "d4c02ff0",
   "metadata": {},
   "outputs": [],
   "source": []
  },
  {
   "cell_type": "code",
   "execution_count": null,
   "id": "39e12f82",
   "metadata": {},
   "outputs": [],
   "source": []
  },
  {
   "cell_type": "code",
   "execution_count": 60,
   "id": "48f46f6a",
   "metadata": {},
   "outputs": [],
   "source": [
    "sample_submission = pd.read_csv('sample_submission.csv')"
   ]
  },
  {
   "cell_type": "code",
   "execution_count": 79,
   "id": "68307939",
   "metadata": {},
   "outputs": [
    {
     "data": {
      "text/html": [
       "<div>\n",
       "<style scoped>\n",
       "    .dataframe tbody tr th:only-of-type {\n",
       "        vertical-align: middle;\n",
       "    }\n",
       "\n",
       "    .dataframe tbody tr th {\n",
       "        vertical-align: top;\n",
       "    }\n",
       "\n",
       "    .dataframe thead th {\n",
       "        text-align: right;\n",
       "    }\n",
       "</style>\n",
       "<table border=\"1\" class=\"dataframe\">\n",
       "  <thead>\n",
       "    <tr style=\"text-align: right;\">\n",
       "      <th></th>\n",
       "      <th>sell_id</th>\n",
       "      <th>price</th>\n",
       "    </tr>\n",
       "  </thead>\n",
       "  <tbody>\n",
       "    <tr>\n",
       "      <th>0</th>\n",
       "      <td>1100575026</td>\n",
       "      <td>572520.00</td>\n",
       "    </tr>\n",
       "    <tr>\n",
       "      <th>1</th>\n",
       "      <td>1100549428</td>\n",
       "      <td>1075620.00</td>\n",
       "    </tr>\n",
       "    <tr>\n",
       "      <th>2</th>\n",
       "      <td>1100658222</td>\n",
       "      <td>1005420.00</td>\n",
       "    </tr>\n",
       "    <tr>\n",
       "      <th>3</th>\n",
       "      <td>1100937408</td>\n",
       "      <td>935880.66</td>\n",
       "    </tr>\n",
       "    <tr>\n",
       "      <th>4</th>\n",
       "      <td>1101037972</td>\n",
       "      <td>654420.00</td>\n",
       "    </tr>\n",
       "    <tr>\n",
       "      <th>5</th>\n",
       "      <td>1100912634</td>\n",
       "      <td>694200.00</td>\n",
       "    </tr>\n",
       "    <tr>\n",
       "      <th>6</th>\n",
       "      <td>1101228730</td>\n",
       "      <td>569400.00</td>\n",
       "    </tr>\n",
       "    <tr>\n",
       "      <th>7</th>\n",
       "      <td>1100165896</td>\n",
       "      <td>327600.00</td>\n",
       "    </tr>\n",
       "    <tr>\n",
       "      <th>8</th>\n",
       "      <td>1100768262</td>\n",
       "      <td>2058420.00</td>\n",
       "    </tr>\n",
       "    <tr>\n",
       "      <th>9</th>\n",
       "      <td>1101218501</td>\n",
       "      <td>776100.00</td>\n",
       "    </tr>\n",
       "  </tbody>\n",
       "</table>\n",
       "</div>"
      ],
      "text/plain": [
       "      sell_id       price\n",
       "0  1100575026   572520.00\n",
       "1  1100549428  1075620.00\n",
       "2  1100658222  1005420.00\n",
       "3  1100937408   935880.66\n",
       "4  1101037972   654420.00\n",
       "5  1100912634   694200.00\n",
       "6  1101228730   569400.00\n",
       "7  1100165896   327600.00\n",
       "8  1100768262  2058420.00\n",
       "9  1101218501   776100.00"
      ]
     },
     "execution_count": 79,
     "metadata": {},
     "output_type": "execute_result"
    }
   ],
   "source": [
    "sample_submission['price'] = predict_submission * 0.78 #78\n",
    "sample_submission.to_csv(f'submission_2_v{VERSION}.csv', index=False)\n",
    "sample_submission.head(10)"
   ]
  },
  {
   "cell_type": "code",
   "execution_count": null,
   "id": "0ffb8755",
   "metadata": {},
   "outputs": [],
   "source": []
  }
 ],
 "metadata": {
  "kernelspec": {
   "display_name": "Python 3",
   "language": "python",
   "name": "python3"
  },
  "language_info": {
   "codemirror_mode": {
    "name": "ipython",
    "version": 3
   },
   "file_extension": ".py",
   "mimetype": "text/x-python",
   "name": "python",
   "nbconvert_exporter": "python",
   "pygments_lexer": "ipython3",
   "version": "3.6.13"
  },
  "toc": {
   "base_numbering": 1,
   "nav_menu": {},
   "number_sections": true,
   "sideBar": true,
   "skip_h1_title": false,
   "title_cell": "Table of Contents",
   "title_sidebar": "Contents",
   "toc_cell": false,
   "toc_position": {},
   "toc_section_display": true,
   "toc_window_display": false
  }
 },
 "nbformat": 4,
 "nbformat_minor": 5
}
